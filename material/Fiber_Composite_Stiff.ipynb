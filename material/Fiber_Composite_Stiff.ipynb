{
 "cells": [
  {
   "cell_type": "code",
   "execution_count": 3,
   "metadata": {
    "collapsed": true
   },
   "outputs": [],
   "source": [
    "from __future__ import print_function\n",
    "import pymks\n",
    "%matplotlib inline\n",
    "\n",
    "import numpy as np\n",
    "import matplotlib.pyplot as plt\n"
   ]
  },
  {
   "cell_type": "code",
   "execution_count": 6,
   "metadata": {
    "collapsed": true
   },
   "outputs": [],
   "source": [
    "sample_size = 100\n",
    "n_samples = 4 * [sample_size]\n",
    "size = (101, 101)\n",
    "elastic_modulus = (1.3, 75)\n",
    "poissons_ratio = (0.42, .22)\n",
    "macro_strain = 0.001\n",
    "n_phases = 2\n",
    "grain_size = [(40, 2), (10, 2), (2, 40), (2, 10)]\n",
    "v_frac = [(0.7, 0.3), (0.6, 0.4), (0.3, 0.7), (0.4, 0.6)]\n",
    "per_ch = 0.1"
   ]
  },
  {
   "cell_type": "code",
   "execution_count": 7,
   "metadata": {
    "collapsed": true
   },
   "outputs": [],
   "source": [
    "from pymks.datasets import make_elastic_stress_random\n",
    "\n",
    "\n",
    "dataset, stresses = make_elastic_stress_random(n_samples=n_samples, size=size, grain_size=grain_size,\n",
    "                                                 elastic_modulus=elastic_modulus, poissons_ratio=poissons_ratio,\n",
    "                                                 macro_strain=macro_strain, volume_fraction=v_frac,\n",
    "                                                 percent_variance=per_ch)"
   ]
  },
  {
   "cell_type": "code",
   "execution_count": 8,
   "metadata": {},
   "outputs": [
    {
     "name": "stderr",
     "output_type": "stream",
     "text": [
      "C:\\Users\\Eric\\Anaconda3\\envs\\Material\\lib\\site-packages\\sklearn\\cross_validation.py:41: DeprecationWarning: This module was deprecated in version 0.18 in favor of the model_selection module into which all the refactored classes and functions are moved. Also note that the interface of the new CV iterators are different from that of this module. This module will be removed in 0.20.\n",
      "  \"This module will be removed in 0.20.\", DeprecationWarning)\n",
      "C:\\Users\\Eric\\Anaconda3\\envs\\Material\\lib\\site-packages\\sklearn\\learning_curve.py:22: DeprecationWarning: This module was deprecated in version 0.18 in favor of the model_selection module into which all the functions are moved. This module will be removed in 0.20\n",
      "  DeprecationWarning)\n"
     ]
    },
    {
     "data": {
      "image/png": "[encoded data removed]",
      "text/plain": [
       "<matplotlib.figure.Figure at 0x1b800268518>"
      ]
     },
     "metadata": {},
     "output_type": "display_data"
    }
   ],
   "source": [
    "from pymks.tools import draw_microstructures\n",
    "examples = dataset[::sample_size]\n",
    "draw_microstructures(examples)"
   ]
  },
  {
   "cell_type": "code",
   "execution_count": 10,
   "metadata": {
    "collapsed": true
   },
   "outputs": [],
   "source": [
    "from pymks import MKSHomogenizationModel\n",
    "from pymks import PrimitiveBasis\n",
    "\n",
    "\n",
    "p_basis = PrimitiveBasis(n_states=2, domain=[0, 1])\n",
    "model = MKSHomogenizationModel(basis=p_basis, correlations=[(0, 0)], periodic_axes=[0, 1])"
   ]
  },
  {
   "cell_type": "code",
   "execution_count": 11,
   "metadata": {
    "collapsed": true
   },
   "outputs": [],
   "source": [
    "from sklearn.cross_validation import train_test_split\n",
    "\n",
    "\n",
    "flat_shape = (dataset.shape[0],) + (dataset[0].size,)\n",
    "data_train, data_test, stress_train, stress_test = train_test_split(\n",
    "    dataset.reshape(flat_shape), stresses, test_size=0.2, random_state=3)"
   ]
  },
  {
   "cell_type": "code",
   "execution_count": 12,
   "metadata": {
    "collapsed": true
   },
   "outputs": [],
   "source": [
    "from sklearn.grid_search import GridSearchCV\n",
    "\n",
    "\n",
    "params_to_tune = {'degree': np.arange(1, 4), 'n_components': np.arange(2, 8)}\n",
    "fit_params = {'size': dataset[0].shape}\n",
    "gs = GridSearchCV(model, params_to_tune, fit_params=fit_params).fit(data_train, stress_train)"
   ]
  },
  {
   "cell_type": "code",
   "execution_count": 13,
   "metadata": {},
   "outputs": [
    {
     "name": "stdout",
     "output_type": "stream",
     "text": [
      "Order of Polynomial 3\n",
      "Number of Components 3\n",
      "R-squared Value True\n"
     ]
    }
   ],
   "source": [
    "print('Order of Polynomial', gs.best_estimator_.degree)\n",
    "print('Number of Components', gs.best_estimator_.n_components)\n",
    "print('R-squared Value', np.allclose(gs.score(data_test, stress_test), 0.863, rtol=1e-1))"
   ]
  },
  {
   "cell_type": "code",
   "execution_count": null,
   "metadata": {
    "collapsed": true
   },
   "outputs": [],
   "source": [
    "from pymks.tools import draw_gridscores_matrix\n",
    "\n",
    "draw_gridscores_matrix(gs, ['n_components', 'degree'], score_label='R-Squared',\n",
    "                       param_labels=['Number of Components', 'Order of Polynomial'])"
   ]
  },
  {
   "cell_type": "code",
   "execution_count": null,
   "metadata": {
    "collapsed": true
   },
   "outputs": [],
   "source": [
    "from pymks.tools import draw_gridscores\n",
    "\n",
    "gs_deg_1 = [x for x in gs.grid_scores_ \\\n",
    "            if x.parameters['degree'] == 1]\n",
    "gs_deg_2 = [x for x in gs.grid_scores_ \\\n",
    "            if x.parameters['degree'] == 2]\n",
    "gs_deg_3 = [x for x in gs.grid_scores_ \\\n",
    "            if x.parameters['degree'] == 3]\n",
    "\n",
    "draw_gridscores([gs_deg_1,  gs_deg_2, gs_deg_3], 'n_components',\n",
    "                data_labels=['1st Order', '2nd Order', '3rd Order'],\n",
    "                param_label='Number of Components', score_label='R-Squared')"
   ]
  },
  {
   "cell_type": "code",
   "execution_count": null,
   "metadata": {
    "collapsed": true
   },
   "outputs": [],
   "source": [
    "model = gs.best_estimator_"
   ]
  },
  {
   "cell_type": "code",
   "execution_count": null,
   "metadata": {
    "collapsed": true
   },
   "outputs": [],
   "source": [
    "from pymks.tools import draw_components_scatter\n",
    "\n",
    "\n",
    "stress_predict = model.predict(data_test)\n",
    "draw_components_scatter([model.reduced_fit_data[:, :3],\n",
    "                         model.reduced_predict_data[:, :3]],\n",
    "                        ['Training Data', 'Testing Data'],\n",
    "                        legend_outside=True)"
   ]
  },
  {
   "cell_type": "code",
   "execution_count": null,
   "metadata": {
    "collapsed": true
   },
   "outputs": [],
   "source": [
    "\n",
    "from pymks.tools import draw_goodness_of_fit\n",
    "\n",
    "\n",
    "fit_data = np.array([stresses, model.predict(dataset)])\n",
    "pred_data = np.array([stress_test, stress_predict])\n",
    "draw_goodness_of_fit(fit_data, pred_data, ['Training Data', 'Testing Data'])"
   ]
  }
 ],
 "metadata": {
  "kernelspec": {
   "display_name": "Python 3",
   "language": "python",
   "name": "python3"
  },
  "language_info": {
   "codemirror_mode": {
    "name": "ipython",
    "version": 3
   },
   "file_extension": ".py",
   "mimetype": "text/x-python",
   "name": "python",
   "nbconvert_exporter": "python",
   "pygments_lexer": "ipython3",
   "version": "3.6.2"
  }
 },
 "nbformat": 4,
 "nbformat_minor": 2
}
