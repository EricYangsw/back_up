{
 "cells": [
  {
   "cell_type": "markdown",
   "metadata": {},
   "source": [
    "# Basic Conditional GAN (Using Mnist image data)\n",
    " **Hung-yi Lee Video:  \n",
    " https://www.youtube.com/watch?v=LpyL4nZSuqU&feature=youtu.be"
   ]
  },
  {
   "cell_type": "code",
   "execution_count": 1,
   "metadata": {},
   "outputs": [
    {
     "name": "stderr",
     "output_type": "stream",
     "text": [
      "/usr/local/lib/python3.5/dist-packages/h5py/__init__.py:36: FutureWarning: Conversion of the second argument of issubdtype from `float` to `np.floating` is deprecated. In future, it will be treated as `np.float64 == np.dtype(float).type`.\n",
      "  from ._conv import register_converters as _register_converters\n"
     ]
    }
   ],
   "source": [
    "import tensorflow as tf\n",
    "from tensorflow.examples.tutorials.mnist import input_data\n",
    "import numpy as np\n",
    "import matplotlib.pyplot as plt\n",
    "import matplotlib.gridspec as gridspec\n",
    "import os"
   ]
  },
  {
   "cell_type": "code",
   "execution_count": null,
   "metadata": {},
   "outputs": [],
   "source": []
  },
  {
   "cell_type": "markdown",
   "metadata": {},
   "source": [
    "# Read mnist data\n",
    "**Download 'mnist.npz' from: https://s3.amazonaws.com/img-datasets/mnist.npz\n",
    "\n",
    "** Or using coding below :      \n",
    "import tensorflow as tf      \n",
    "mnist = tf.keras.datasets.mnist     \n",
    "(x_train, y_train),(x_test, y_test) = mnist.load_data()     \n",
    "x_train, x_test = x_train / 255.0, x_test / 255.0   \n"
   ]
  },
  {
   "cell_type": "code",
   "execution_count": 2,
   "metadata": {},
   "outputs": [],
   "source": [
    "def one_hot(data):\n",
    "    '''Label convert to onehot!!'''\n",
    "    one_hot = np.zeros((data.shape[0], 10))\n",
    "    one_hot[np.arange(data.shape[0]), data] = 1\n",
    "    return one_hot"
   ]
  },
  {
   "cell_type": "code",
   "execution_count": 3,
   "metadata": {},
   "outputs": [],
   "source": [
    "mnist_data = np.load('mnist.npz')\n",
    "\n",
    "x_test = mnist_data['x_test'].reshape((-1, 784)) \n",
    "x_train = mnist_data['x_train'].reshape((-1, 784))\n",
    "y_train = one_hot(mnist_data['y_train'])\n",
    "y_test = one_hot(mnist_data['y_test'])\n",
    "\n",
    "\n",
    "x_train, x_test = x_train / 255.0, x_test / 255.0\n",
    "mb_size = 60\n",
    "Z_dim = 784\n",
    "X_dim = x_train.shape[1]\n",
    "y_dim = y_train.shape[1]\n",
    "h_dim = 128"
   ]
  },
  {
   "cell_type": "code",
   "execution_count": 4,
   "metadata": {},
   "outputs": [
    {
     "name": "stdout",
     "output_type": "stream",
     "text": [
      "X_train data shape:  (60000, 784)\n",
      "y_train data shape:  (60000, 10)\n",
      "X_test data shape:  (10000, 784)\n",
      "y_test data shape:  (10000, 10)\n"
     ]
    }
   ],
   "source": [
    "# check data shape\n",
    "print(\"X_train data shape: \", x_train.shape)\n",
    "print(\"y_train data shape: \", y_train.shape)\n",
    "print(\"X_test data shape: \", x_test.shape)\n",
    "print(\"y_test data shape: \", y_test.shape)"
   ]
  },
  {
   "cell_type": "markdown",
   "metadata": {},
   "source": [
    "# Function to show imagine"
   ]
  },
  {
   "cell_type": "code",
   "execution_count": 5,
   "metadata": {},
   "outputs": [],
   "source": [
    "def plot(samples):\n",
    "    '''Function to show image'''\n",
    "    fig = plt.figure(figsize=(4, 4))\n",
    "    gs = gridspec.GridSpec(4, 4)\n",
    "    gs.update(wspace=0.05, hspace=0.05)\n",
    "\n",
    "    for i, sample in enumerate(samples):\n",
    "        ax = plt.subplot(gs[i])\n",
    "        plt.axis('off')\n",
    "        ax.set_xticklabels([])\n",
    "        ax.set_yticklabels([])\n",
    "        #ax.set_aspect('equal')\n",
    "        plt.imshow(sample.reshape(28, 28), cmap='Greys_r')\n",
    "    return fig"
   ]
  },
  {
   "cell_type": "code",
   "execution_count": 6,
   "metadata": {},
   "outputs": [
    {
     "data": {
      "image/png": "[encoded data removed]",
      "text/plain": [
       "<matplotlib.figure.Figure at 0x7fe9c159d4e0>"
      ]
     },
     "execution_count": 6,
     "metadata": {},
     "output_type": "execute_result"
    },
    {
     "data": {
      "image/png": "[encoded data removed]",
      "text/plain": [
       "<matplotlib.figure.Figure at 0x7fe9c159d4e0>"
      ]
     },
     "metadata": {},
     "output_type": "display_data"
    }
   ],
   "source": [
    "#Plot date\n",
    "plot(x_train[0:16])"
   ]
  },
  {
   "cell_type": "markdown",
   "metadata": {},
   "source": [
    "# Building Conditional GAN Model"
   ]
  },
  {
   "cell_type": "code",
   "execution_count": 7,
   "metadata": {},
   "outputs": [],
   "source": [
    "def xavier_init(size):\n",
    "    ''' Function for initializing the weight value by normal distribution'''\n",
    "    in_dim = size[0]\n",
    "    xavier_stddev = 1. / tf.sqrt(in_dim / 2.)\n",
    "    return tf.random_normal(shape=size, stddev=xavier_stddev)"
   ]
  },
  {
   "cell_type": "code",
   "execution_count": 8,
   "metadata": {},
   "outputs": [],
   "source": [
    "\"\"\" Discriminator Net model:\n",
    "     - Input  : real & fake + label\n",
    "     - Output : one number, mean real or fake\n",
    "\"\"\"\n",
    "# input:  image & label\n",
    "X = tf.placeholder(tf.float32, shape=[None, 784])\n",
    "y = tf.placeholder(tf.float32, shape=[None, y_dim])\n",
    "\n",
    "\n",
    "# Weights & bias of  first layer\n",
    "D_W1 = tf.Variable(xavier_init([X_dim + y_dim, h_dim]))\n",
    "D_b1 = tf.Variable(tf.zeros(shape=[h_dim]))\n",
    "\n",
    "\n",
    "# Weights & bias of  second layer\n",
    "# output one value, mean real of fake\n",
    "D_W2 = tf.Variable(xavier_init([h_dim, 1]))\n",
    "D_b2 = tf.Variable(tf.zeros(shape=[1])) \n",
    "\n",
    "#???\n",
    "theta_D = [D_W1, D_W2, D_b1, D_b2]\n",
    "\n",
    "\n",
    "def discriminator(x, y):\n",
    "    ''' combine two layers !'''\n",
    "    inputs = tf.concat(axis=1, values=[x, y])\n",
    "    D_h1 = tf.nn.relu(tf.matmul(inputs, D_W1) + D_b1)\n",
    "    D_logit = tf.matmul(D_h1, D_W2) + D_b2\n",
    "    D_prob = tf.nn.sigmoid(D_logit)\n",
    "    return D_prob, D_logit"
   ]
  },
  {
   "cell_type": "code",
   "execution_count": 9,
   "metadata": {},
   "outputs": [],
   "source": [
    "\"\"\" Generator Net model:\n",
    "     - Input  : random noise vector \n",
    "     - Output : Create one image as real as possible\n",
    "\"\"\"\n",
    "# input: image shape\n",
    "Z = tf.placeholder(tf.float32, shape=[None, Z_dim])\n",
    "\n",
    "# Weights & bias of  first layer\n",
    "G_W1 = tf.Variable(xavier_init([Z_dim + y_dim, h_dim]))\n",
    "G_b1 = tf.Variable(tf.zeros(shape=[h_dim]))\n",
    "\n",
    "# Weights & bias of  second layer\n",
    "# output one one image\n",
    "G_W2 = tf.Variable(xavier_init([h_dim, X_dim]))\n",
    "G_b2 = tf.Variable(tf.zeros(shape=[X_dim]))\n",
    "\n",
    "theta_G = [G_W1, G_W2, G_b1, G_b2]\n",
    "\n",
    "\n",
    "def generator(z, y):\n",
    "    ''' combine two layers !'''\n",
    "    inputs = tf.concat(axis=1, values=[z, y])\n",
    "    G_h1 = tf.nn.relu(tf.matmul(inputs, G_W1) + G_b1)\n",
    "    G_log_prob = tf.matmul(G_h1, G_W2) + G_b2\n",
    "    G_prob = tf.nn.sigmoid(G_log_prob)\n",
    "    return G_prob"
   ]
  },
  {
   "cell_type": "code",
   "execution_count": 10,
   "metadata": {},
   "outputs": [],
   "source": [
    "\"\"\" Call function to building model\"\"\"\n",
    "G_sample = generator(Z, y)# model G\n",
    "D_real, D_logit_real = discriminator(X, y) # model D\n",
    "\n",
    "# G create fake image &  D day the image is real of fake\n",
    "D_fake, D_logit_fake = discriminator(G_sample, y) "
   ]
  },
  {
   "cell_type": "markdown",
   "metadata": {},
   "source": [
    "# Create defect model"
   ]
  },
  {
   "cell_type": "code",
   "execution_count": 11,
   "metadata": {},
   "outputs": [],
   "source": [
    "def make_defect(data):\n",
    "    data_no = data.shape[0]\n",
    "    for no in range(data_no):\n",
    "        file = data[no].reshape(28,28)\n",
    "        file[[5,8, 12,16,20,24], :] = 0.\n",
    "        file[:, [5,8, 12,16,20,24]] = 0.\n",
    "        data[no] = file.reshape(1, 784)\n",
    "    return data"
   ]
  },
  {
   "cell_type": "code",
   "execution_count": 12,
   "metadata": {},
   "outputs": [
    {
     "data": {
      "image/png": "[encoded data removed]",
      "text/plain": [
       "<matplotlib.figure.Figure at 0x7fe9bf22c470>"
      ]
     },
     "execution_count": 12,
     "metadata": {},
     "output_type": "execute_result"
    },
    {
     "data": {
      "image/png": "[encoded data removed]",
      "text/plain": [
       "<matplotlib.figure.Figure at 0x7fe9bf22c470>"
      ]
     },
     "metadata": {},
     "output_type": "display_data"
    }
   ],
   "source": [
    "defect_data = make_defect(x_test[0:16])\n",
    "defect_label = y_test[0:16]\n",
    "plot(defect_data)"
   ]
  },
  {
   "cell_type": "code",
   "execution_count": null,
   "metadata": {},
   "outputs": [],
   "source": []
  },
  {
   "cell_type": "markdown",
   "metadata": {},
   "source": [
    "# Show model"
   ]
  },
  {
   "cell_type": "code",
   "execution_count": 13,
   "metadata": {},
   "outputs": [],
   "source": [
    "def sample_Z(m, n):\n",
    "    '''Function to create random noise'''\n",
    "    return np.random.uniform(-1., 1., size=[m, n])\n",
    "\n",
    "\n",
    "def load_model(sess, save_dir='./model_saved/', file_no=None):\n",
    "    assert isinstance(file_no, int), \"Input the param of file_no\"\n",
    "    save_path = os.path.join(save_dir,\n",
    "                             str(file_no)+\".npy\")\n",
    "    print(\"Loading the model from %s...\" %save_path)\n",
    "    data_dict = np.load(save_path).item() \n",
    "    #\"np.load\": Load arrays or pickled objects from .npy, .npz or pickled files.\n",
    "    count = 0\n",
    "    for v in tf.global_variables():\n",
    "        if v.name in data_dict.keys():\n",
    "            sess.run(v.assign(data_dict[v.name]))\n",
    "            count += 1\n",
    "    print(\"%d tensors loaded.....\" %count)\n",
    "    return sess"
   ]
  },
  {
   "cell_type": "code",
   "execution_count": 14,
   "metadata": {},
   "outputs": [
    {
     "name": "stdout",
     "output_type": "stream",
     "text": [
      "Loading the model from ./model_saved/114000.npy...\n",
      "8 tensors loaded.....\n"
     ]
    },
    {
     "data": {
      "image/png": "[encoded data removed]",
      "text/plain": [
       "<matplotlib.figure.Figure at 0x7fe9befde828>"
      ]
     },
     "metadata": {},
     "output_type": "display_data"
    }
   ],
   "source": [
    "with tf.Session() as sess: \n",
    "    \n",
    "    # Load model that already be trained\n",
    "    load_model(sess, file_no=114000)\n",
    "    tf.get_default_graph().finalize()\n",
    "    \n",
    "    n_sample = 16\n",
    "    Z_sample = defect_data # random noise\n",
    "    y_sample = defect_label\n",
    "\n",
    "    # Run G & give the input\n",
    "    samples = sess.run(G_sample, feed_dict={Z: Z_sample, y:y_sample})\n",
    "\n",
    "    plot(samples)\n",
    "    #fig = plot(samples)\n",
    "    #plt.savefig('out/{}.png'.format(str(i).zfill(3)), bbox_inches='tight')\n",
    "    #plt.close(fig)\n",
    "    "
   ]
  },
  {
   "cell_type": "code",
   "execution_count": 16,
   "metadata": {},
   "outputs": [
    {
     "data": {
      "image/png": "[encoded data removed]",
      "text/plain": [
       "<matplotlib.figure.Figure at 0x7fe9befb49b0>"
      ]
     },
     "execution_count": 16,
     "metadata": {},
     "output_type": "execute_result"
    },
    {
     "data": {
      "image/png": "[encoded data removed]",
      "text/plain": [
       "<matplotlib.figure.Figure at 0x7fe9befb49b0>"
      ]
     },
     "metadata": {},
     "output_type": "display_data"
    }
   ],
   "source": [
    "plot(defect_data)"
   ]
  },
  {
   "cell_type": "code",
   "execution_count": null,
   "metadata": {},
   "outputs": [],
   "source": []
  }
 ],
 "metadata": {
  "kernelspec": {
   "display_name": "Python 3",
   "language": "python",
   "name": "python3"
  },
  "language_info": {
   "codemirror_mode": {
    "name": "ipython",
    "version": 3
   },
   "file_extension": ".py",
   "mimetype": "text/x-python",
   "name": "python",
   "nbconvert_exporter": "python",
   "pygments_lexer": "ipython3",
   "version": "3.5.2"
  }
 },
 "nbformat": 4,
 "nbformat_minor": 2
}
