{
 "cells": [
  {
   "cell_type": "code",
   "execution_count": 12,
   "metadata": {
    "collapsed": true
   },
   "outputs": [],
   "source": [
    "# 書本範例： TensorFlow + Keras 深度學習人工智慧實務應用\n",
    "\n",
    "import tensorflow as tf\n",
    "import numpy as np\n",
    "import matplotlib.pyplot as plt\n",
    "%matplotlib inline"
   ]
  },
  {
   "cell_type": "markdown",
   "metadata": {},
   "source": [
    "# 讀資料"
   ]
  },
  {
   "cell_type": "code",
   "execution_count": 13,
   "metadata": {},
   "outputs": [
    {
     "name": "stdout",
     "output_type": "stream",
     "text": [
      "Extracting MNIST_data/train-images-idx3-ubyte.gz\n",
      "Extracting MNIST_data/train-labels-idx1-ubyte.gz\n",
      "Extracting MNIST_data/t10k-images-idx3-ubyte.gz\n",
      "Extracting MNIST_data/t10k-labels-idx1-ubyte.gz\n",
      "Extracting MNIST_data/train-images-idx3-ubyte.gz\n",
      "Extracting MNIST_data/train-labels-idx1-ubyte.gz\n",
      "Extracting MNIST_data/t10k-images-idx3-ubyte.gz\n",
      "Extracting MNIST_data/t10k-labels-idx1-ubyte.gz\n"
     ]
    }
   ],
   "source": [
    "# Read data from tensorflow\n",
    "import tensorflow.examples.tutorials.mnist.input_data as input_data\n",
    "mnist = input_data.read_data_sets(\"MNIST_data/\", one_hot=True)\n",
    "mnist = input_data.read_data_sets(\"MNIST_data/\", one_hot=True)"
   ]
  },
  {
   "cell_type": "code",
   "execution_count": 14,
   "metadata": {},
   "outputs": [
    {
     "name": "stdout",
     "output_type": "stream",
     "text": [
      "train 55000 ,validation 5000 ,test 10000\n",
      "x shape: (55000, 784)\n",
      "y shape (55000, 10)\n"
     ]
    }
   ],
   "source": [
    "# View the data\n",
    "print('train', mnist.train.num_examples,\n",
    "      ',validation', mnist.validation.num_examples,\n",
    "      ',test', mnist.test.num_examples)\n",
    "print('x shape:',mnist.train.images.shape)\n",
    "print('y shape',mnist.train.labels.shape)"
   ]
  },
  {
   "cell_type": "code",
   "execution_count": 15,
   "metadata": {},
   "outputs": [
    {
     "data": {
      "image/png": "[encoded data removed]",
      "text/plain": [
       "<matplotlib.figure.Figure at 0x1724e57ac18>"
      ]
     },
     "metadata": {},
     "output_type": "display_data"
    }
   ],
   "source": [
    "def plot_images_labels_prediction(images, labels, prediction, idx, num=10):\n",
    "    # Show muti-image at one times \n",
    "    fig = plt.gcf()\n",
    "    fig.set_size_inches(12, 14)\n",
    "    if num>25: num=25\n",
    "    for i in range(0, num):\n",
    "        ax= plt.subplot(5,5,1+i)\n",
    "        ax.imshow(np.reshape(images[idx], (28, 28)),cmap='binary')\n",
    "        title = 'label='+str(np.argmax(labels[idx]))\n",
    "        if len(prediction)>0:\n",
    "            title += ',predict='+str(prediction[idx])\n",
    "            \n",
    "        ax.set_title(title, fontsize=10)\n",
    "        ax.set_xticks([]); ax.set_yticks([])\n",
    "        idx += 1\n",
    "    plt.show()\n",
    "\n",
    "plot_images_labels_prediction(mnist.train.images, mnist.train.labels, [], 0)"
   ]
  },
  {
   "cell_type": "code",
   "execution_count": 16,
   "metadata": {
    "collapsed": true
   },
   "outputs": [],
   "source": [
    "def layer(output_dim, input_dim, inputs, activation=None):\n",
    "    w = tf.Variable(tf.random_normal([input_dim, output_dim]))\n",
    "    b = tf.Variable(tf.random_normal([1, output_dim]))\n",
    "    xwb = tf.matmul(inputs, w) + b\n",
    "    if activation is None:\n",
    "        outputs = xwb\n",
    "    else:\n",
    "        outputs = activation(xwb)\n",
    "    return outputs"
   ]
  },
  {
   "cell_type": "code",
   "execution_count": 17,
   "metadata": {},
   "outputs": [],
   "source": [
    "x = tf.placeholder('float', [None, 784])\n",
    "y_label = tf.placeholder('float', [None, 10])\n",
    "\n",
    "h1 = layer(output_dim=512, input_dim=784, inputs=x,  activation=tf.nn.relu)\n",
    "h2 = layer(output_dim=512, input_dim=512, inputs=h1, activation=tf.nn.relu)\n",
    "y_predict = layer(output_dim=10, input_dim=512, inputs=h2)\n",
    "\n",
    "\n",
    "loss_function = tf.reduce_mean(tf.nn.softmax_cross_entropy_with_logits(logits=y_predict, labels=y_label))\n",
    "optimizer = tf.train.AdamOptimizer(learning_rate=0.001).minimize(loss_function)\n",
    "correct_prediction = tf.equal(tf.argmax(y_label, 1), tf.argmax(y_predict, 1))\n",
    "accuracy = tf.reduce_mean(tf.cast(correct_prediction, 'float'))"
   ]
  },
  {
   "cell_type": "code",
   "execution_count": 18,
   "metadata": {
    "collapsed": true
   },
   "outputs": [],
   "source": [
    "trainEpochs = 15\n",
    "batchSize = 100\n",
    "totalBatchs = int(mnist.train.num_examples/batchSize)\n",
    "\n",
    "epoch_list=[]\n",
    "accuracy_list=[]\n",
    "loss_list=[]\n",
    "\n",
    "from time import time\n",
    "startTime = time()"
   ]
  },
  {
   "cell_type": "code",
   "execution_count": 19,
   "metadata": {},
   "outputs": [
    {
     "name": "stdout",
     "output_type": "stream",
     "text": [
      "Train Epoch: 01 Loss= 82.788024902  Accuracy= 0.8944\n",
      "Train Epoch: 02 Loss= 55.675235748  Accuracy= 0.9194\n",
      "Train Epoch: 03 Loss= 43.692108154  Accuracy= 0.9302\n",
      "Train Epoch: 04 Loss= 41.922405243  Accuracy= 0.9326\n",
      "Train Epoch: 05 Loss= 34.631446838  Accuracy= 0.9428\n",
      "Train Epoch: 06 Loss= 33.982738495  Accuracy= 0.9414\n",
      "Train Epoch: 07 Loss= 33.365383148  Accuracy= 0.9438\n",
      "Train Epoch: 08 Loss= 32.048450470  Accuracy= 0.9454\n",
      "Train Epoch: 09 Loss= 30.674659729  Accuracy= 0.9498\n",
      "Train Epoch: 10 Loss= 28.642255783  Accuracy= 0.9522\n",
      "Train Epoch: 11 Loss= 28.563959122  Accuracy= 0.9518\n",
      "Train Epoch: 12 Loss= 26.440761566  Accuracy= 0.9586\n",
      "Train Epoch: 13 Loss= 25.877595901  Accuracy= 0.9538\n",
      "Train Epoch: 14 Loss= 25.282716751  Accuracy= 0.959\n",
      "Train Epoch: 15 Loss= 27.497900009  Accuracy= 0.9572\n",
      "Train Finished takes: 282.6519160270691\n"
     ]
    }
   ],
   "source": [
    "sess = tf.Session()\n",
    "sess.run(tf.global_variables_initializer())\n",
    "\n",
    "\n",
    "for epoch in range(trainEpochs):\n",
    "    for i in range(totalBatchs):\n",
    "        batch_x, batch_y = mnist.train.next_batch(batchSize)\n",
    "        sess.run(optimizer, feed_dict={x: batch_x, y_label: batch_y})\n",
    "        \n",
    "    loss, acc = sess.run([loss_function,accuracy],\n",
    "                          feed_dict={x: mnist.validation.images, \n",
    "                          y_label: mnist.validation.labels})\n",
    "\n",
    "    epoch_list.append(epoch)\n",
    "    loss_list.append(loss)\n",
    "    accuracy_list.append(acc)    \n",
    "    \n",
    "    print(\"Train Epoch:\", '%02d' % (epoch+1), \"Loss=\",\"{:.9f}\".format(loss),\" Accuracy=\",acc)\n",
    "    \n",
    "duration =time()-startTime\n",
    "print(\"Train Finished takes:\",duration)     "
   ]
  },
  {
   "cell_type": "code",
   "execution_count": 20,
   "metadata": {},
   "outputs": [
    {
     "data": {
      "text/plain": [
       "<matplotlib.legend.Legend at 0x17200581c50>"
      ]
     },
     "execution_count": 20,
     "metadata": {},
     "output_type": "execute_result"
    },
    {
     "data": {
      "image/png": "[encoded data removed]",
      "text/plain": [
       "<matplotlib.figure.Figure at 0x17200581438>"
      ]
     },
     "metadata": {},
     "output_type": "display_data"
    }
   ],
   "source": [
    "fig = plt.gcf()\n",
    "fig.set_size_inches(4,2)\n",
    "plt.plot(epoch_list, loss_list, label='loss')\n",
    "plt.ylabel('loss')\n",
    "plt.xlabel('epoch')\n",
    "plt.legend(['loss'], loc='upper left')"
   ]
  },
  {
   "cell_type": "code",
   "execution_count": 21,
   "metadata": {},
   "outputs": [
    {
     "data": {
      "image/png": "[encoded data removed]",
      "text/plain": [
       "<matplotlib.figure.Figure at 0x17200581048>"
      ]
     },
     "metadata": {},
     "output_type": "display_data"
    }
   ],
   "source": [
    "plt.plot(epoch_list, accuracy_list,label=\"accuracy\" )\n",
    "fig = plt.gcf()\n",
    "fig.set_size_inches(4,2)\n",
    "plt.ylim(0.8,1)\n",
    "plt.ylabel('accuracy')\n",
    "plt.xlabel('epoch')\n",
    "plt.legend()\n",
    "plt.show()"
   ]
  },
  {
   "cell_type": "code",
   "execution_count": null,
   "metadata": {
    "collapsed": true
   },
   "outputs": [],
   "source": []
  },
  {
   "cell_type": "code",
   "execution_count": 22,
   "metadata": {},
   "outputs": [
    {
     "name": "stdout",
     "output_type": "stream",
     "text": [
      "Accuracy 0.9567\n"
     ]
    }
   ],
   "source": [
    "print('Accuracy', sess.run(accuracy, feed_dict={x: mnist.test.images, \n",
    "                                      y_label: mnist.test.labels}))"
   ]
  },
  {
   "cell_type": "code",
   "execution_count": 23,
   "metadata": {},
   "outputs": [
    {
     "data": {
      "image/png": "[encoded data removed]",
      "text/plain": [
       "<matplotlib.figure.Figure at 0x1724b0f4e10>"
      ]
     },
     "metadata": {},
     "output_type": "display_data"
    }
   ],
   "source": [
    "prediction_result = sess.run(tf.argmax(y_predict,1), feed_dict={x: mnist.test.images })\n",
    "\n",
    "plot_images_labels_prediction(mnist.test.images, mnist.test.labels, prediction_result,0)"
   ]
  },
  {
   "cell_type": "code",
   "execution_count": null,
   "metadata": {
    "collapsed": true
   },
   "outputs": [],
   "source": []
  }
 ],
 "metadata": {
  "kernelspec": {
   "display_name": "Python 3",
   "language": "python",
   "name": "python3"
  },
  "language_info": {
   "codemirror_mode": {
    "name": "ipython",
    "version": 3
   },
   "file_extension": ".py",
   "mimetype": "text/x-python",
   "name": "python",
   "nbconvert_exporter": "python",
   "pygments_lexer": "ipython3",
   "version": "3.6.2"
  }
 },
 "nbformat": 4,
 "nbformat_minor": 2
}
