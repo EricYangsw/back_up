{
 "cells": [
  {
   "cell_type": "code",
   "execution_count": 12,
   "metadata": {
    "collapsed": true
   },
   "outputs": [],
   "source": [
    "import tensorflow as tf\n",
    "import numpy as np"
   ]
  },
  {
   "cell_type": "code",
   "execution_count": 2,
   "metadata": {},
   "outputs": [
    {
     "name": "stdout",
     "output_type": "stream",
     "text": [
      "xwb:\n",
      "[[-0.35999998  0.28      ]]\n",
      "y:\n",
      "[[ 0.    0.28]]\n"
     ]
    }
   ],
   "source": [
    "x = tf.Variable([[0.4, 0.2, 0.4]])\n",
    "w = tf.Variable([[-0.5, -0.2],\n",
    "                 [-0.3,  0.4],\n",
    "                 [-0.5,  0.2]\n",
    "                ])\n",
    "b = tf.Variable([[0.1, 0.2]])\n",
    "\n",
    "xwb = tf.matmul(x, w)+b\n",
    "\n",
    "y = tf.nn.relu(tf.matmul(x, w)+b)\n",
    "\n",
    "with tf.Session() as sess:\n",
    "    init = tf.global_variables_initializer()\n",
    "    sess.run(init)\n",
    "    print('xwb:'); print(sess.run(xwb))\n",
    "    print('y:'); print(sess.run(y))"
   ]
  },
  {
   "cell_type": "code",
   "execution_count": 3,
   "metadata": {},
   "outputs": [
    {
     "name": "stdout",
     "output_type": "stream",
     "text": [
      "XWb:\n",
      "[[-0.35999998  0.28      ]]\n",
      "Y:\n",
      "[[ 0.41095957  0.56954622]]\n"
     ]
    }
   ],
   "source": [
    "X = tf.Variable([[0.4, 0.2, 0.4]])\n",
    "W = tf.Variable([[-0.5, -0.2],\n",
    "                 [-0.3,  0.4],\n",
    "                 [-0.5,  0.2]\n",
    "                ])\n",
    "b = tf.Variable([[0.1, 0.2]])\n",
    "XWb = tf.matmul(X,W)+b\n",
    "Y = tf.nn.sigmoid(tf.matmul(X,W)+b)\n",
    "\n",
    "with tf.Session() as sess:\n",
    "    init = tf.global_variables_initializer()\n",
    "    sess.run(init)\n",
    "    print('XWb:'); print(sess.run(XWb))\n",
    "    print('Y:'); print(sess.run(Y))"
   ]
  },
  {
   "cell_type": "code",
   "execution_count": 9,
   "metadata": {},
   "outputs": [
    {
     "name": "stdout",
     "output_type": "stream",
     "text": [
      "b:\n",
      "[[ 1.27223253 -0.53364325]]\n",
      "w:\n",
      "[[ 0.29331958 -0.80201513]\n",
      " [-1.84564626 -0.40228581]\n",
      " [ 0.85034633  0.71491617]]\n",
      "y:\n",
      "[[ 0.76270717  0.        ]]\n"
     ]
    }
   ],
   "source": [
    "ww = tf.Variable(tf.random_normal([3,2]))\n",
    "bb = tf.Variable(tf.random_normal([1,2]))\n",
    "xx = tf.Variable([[0.2,0.4,0.2]])\n",
    "yy = tf.nn.relu(tf.matmul(xx,ww)+bb)\n",
    "\n",
    "with tf.Session() as sess:\n",
    "    init = tf.global_variables_initializer()\n",
    "    sess.run(init)\n",
    "    (_b, _w, _y) = sess.run((bb, ww, yy))\n",
    "    print('b:'); print(_b)\n",
    "    print('w:'); print(_w)\n",
    "    print('y:'); print(_y)"
   ]
  },
  {
   "cell_type": "code",
   "execution_count": 11,
   "metadata": {},
   "outputs": [
    {
     "name": "stdout",
     "output_type": "stream",
     "text": [
      "[ 1.33079481  0.93861496  2.03538179 -0.68937963 -0.06544278]\n"
     ]
    },
    {
     "data": {
      "image/png": "[encoded data removed]",
      "text/plain": [
       "<matplotlib.figure.Figure at 0x2177fea43c8>"
      ]
     },
     "metadata": {},
     "output_type": "display_data"
    }
   ],
   "source": [
    "ts_norm = tf.random_normal([1000])\n",
    "with tf.Session() as sess:\n",
    "    norm_data = ts_norm.eval()\n",
    "print(norm_data[:5])\n",
    "\n",
    "import matplotlib.pyplot as plt\n",
    "plt.hist(norm_data)\n",
    "plt.show()"
   ]
  },
  {
   "cell_type": "code",
   "execution_count": 17,
   "metadata": {},
   "outputs": [
    {
     "name": "stdout",
     "output_type": "stream",
     "text": [
      "b:\n",
      "[[ 0.16413476  0.42374992]]\n",
      "w:\n",
      "[[ 0.10338411  2.09208941]\n",
      " [ 0.80677694  0.61417925]\n",
      " [-0.57354897  0.71625936]]\n",
      "y:\n",
      "[[ 0.1374242   1.66992533]\n",
      " [ 0.2310863   1.65517807]\n",
      " [ 0.          1.16383481]]\n"
     ]
    }
   ],
   "source": [
    "w = tf.Variable(tf.random_normal([3,2]))\n",
    "b = tf.Variable(tf.random_normal([1,2]))\n",
    "x = tf.placeholder('float', [None, 3])\n",
    "y = tf.nn.relu(tf.matmul(x,w)+b)\n",
    "\n",
    "with tf.Session() as sess:\n",
    "    init = tf.global_variables_initializer()\n",
    "    sess.run(init)\n",
    "    x_array = np.array([[0.4, 0.2, 0.4],\n",
    "                        [0.3, 0.4, 0.5],\n",
    "                        [0.3,-0.4, 0.5]\n",
    "                       ])\n",
    "    (_b, _w, _x, _y) = sess.run((b, w, x, y), feed_dict={x:x_array})\n",
    "    print('b:'); print(_b)\n",
    "    print('w:'); print(_w)\n",
    "    print('y:'); print(_y)"
   ]
  },
  {
   "cell_type": "code",
   "execution_count": 18,
   "metadata": {
    "collapsed": true
   },
   "outputs": [],
   "source": [
    "def layer(output_dim, input_dim, inputs, activation=None):\n",
    "    w = tf.Variable(tf.random_normal([input_dim, output_dim]))\n",
    "    b = tf.Variable(tf.random_normal([1, output_dim]))\n",
    "    xwb = tf.matmul(inputs, w) + b\n",
    "    if activation is None:\n",
    "        outputs = xwb\n",
    "    else:\n",
    "        outputs = activation(xwb)\n",
    "    return outputs"
   ]
  },
  {
   "cell_type": "code",
   "execution_count": 19,
   "metadata": {},
   "outputs": [
    {
     "name": "stdout",
     "output_type": "stream",
     "text": [
      "X: [[ 0.40000001  0.2         0.40000001  0.5       ]]\n",
      "h: [[ 0.50740123  0.          0.29733428]]\n",
      "y: [[-0.22554985  1.45171356]]\n"
     ]
    }
   ],
   "source": [
    "x = tf.placeholder('float', [None,4])\n",
    "h = layer(output_dim=3, input_dim=4, inputs=x, activation=tf.nn.relu)\n",
    "y = layer(output_dim=2, input_dim=3, inputs=h)\n",
    "with tf.Session() as sess:\n",
    "    init = tf.global_variables_initializer()\n",
    "    sess.run(init)\n",
    "    x_array = np.array([[0.4, 0.2, 0.4, 0.5]])\n",
    "    (layer_x, layer_h, layer_y) = \\\n",
    "                     sess.run((x, h, y), feed_dict={x:x_array})\n",
    "    print('X:', layer_x)\n",
    "    print('h:', layer_h)\n",
    "    print('y:', layer_y)"
   ]
  },
  {
   "cell_type": "code",
   "execution_count": null,
   "metadata": {
    "collapsed": true
   },
   "outputs": [],
   "source": []
  },
  {
   "cell_type": "code",
   "execution_count": null,
   "metadata": {
    "collapsed": true
   },
   "outputs": [],
   "source": []
  }
 ],
 "metadata": {
  "kernelspec": {
   "display_name": "Python 3",
   "language": "python",
   "name": "python3"
  },
  "language_info": {
   "codemirror_mode": {
    "name": "ipython",
    "version": 3
   },
   "file_extension": ".py",
   "mimetype": "text/x-python",
   "name": "python",
   "nbconvert_exporter": "python",
   "pygments_lexer": "ipython3",
   "version": "3.6.2"
  }
 },
 "nbformat": 4,
 "nbformat_minor": 2
}
