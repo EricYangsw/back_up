{
 "cells": [
  {
   "cell_type": "code",
   "execution_count": 1,
   "metadata": {
    "collapsed": true
   },
   "outputs": [],
   "source": [
    "# 書本範例： TensorFlow + Keras 深度學習人工智慧實務應用\n",
    "\n",
    "import tensorflow as tf\n",
    "import numpy as np\n",
    "import matplotlib.pyplot as plt\n",
    "%matplotlib inline"
   ]
  },
  {
   "cell_type": "code",
   "execution_count": 2,
   "metadata": {},
   "outputs": [
    {
     "name": "stdout",
     "output_type": "stream",
     "text": [
      "Extracting MNIST_data/train-images-idx3-ubyte.gz\n",
      "Extracting MNIST_data/train-labels-idx1-ubyte.gz\n",
      "Extracting MNIST_data/t10k-images-idx3-ubyte.gz\n",
      "Extracting MNIST_data/t10k-labels-idx1-ubyte.gz\n",
      "Extracting MNIST_data/train-images-idx3-ubyte.gz\n",
      "Extracting MNIST_data/train-labels-idx1-ubyte.gz\n",
      "Extracting MNIST_data/t10k-images-idx3-ubyte.gz\n",
      "Extracting MNIST_data/t10k-labels-idx1-ubyte.gz\n"
     ]
    }
   ],
   "source": [
    "# Read data from tensorflow\n",
    "import tensorflow.examples.tutorials.mnist.input_data as input_data\n",
    "mnist = input_data.read_data_sets(\"MNIST_data/\", one_hot=True)\n",
    "mnist = input_data.read_data_sets(\"MNIST_data/\", one_hot=True)"
   ]
  },
  {
   "cell_type": "code",
   "execution_count": null,
   "metadata": {
    "collapsed": true
   },
   "outputs": [],
   "source": []
  },
  {
   "cell_type": "code",
   "execution_count": 5,
   "metadata": {
    "collapsed": true
   },
   "outputs": [],
   "source": [
    "def weight(shape):\n",
    "    return tf.Variable(tf.truncated_normal(shape, stddev=0.1), name='W')\n",
    "\n",
    "def bias(shape):\n",
    "    return tf.Variable(tf.constant(0.1, shape=shape, name='b'))\n",
    "\n",
    "def conv2d(x, W):\n",
    "    return tf.nn.conv2d(x, W, strides=[1,1,1,1], padding='SAME')\n",
    "    \n",
    "\n",
    "def max_pool_2x2(x):\n",
    "    return tf.nn.max_pool(x, ksize=[1,2,2,1], strides=[1,2,2,1], padding='SAME')\n",
    "\n",
    "# ksize = [1, height, width, 1]\n",
    "# strides = [1, stride, stride, 1]\n",
    "# padding = 'SAME' , padding '0' for keeping same size "
   ]
  },
  {
   "cell_type": "code",
   "execution_count": null,
   "metadata": {
    "collapsed": true
   },
   "outputs": [],
   "source": []
  },
  {
   "cell_type": "code",
   "execution_count": 7,
   "metadata": {},
   "outputs": [],
   "source": [
    "# using 'tf.name_scope' function to build computational graph\n",
    "\n",
    "# Input Layer\n",
    "with tf.name_scope('Input_Layer'):\n",
    "    x = tf.placeholder('float', shape=[None, 784], name='x')\n",
    "    x_image = tf.reshape(x, [-1,28,28,1]) # if color image [-1,m,n,3]\n",
    "    \n",
    "\n",
    "# Convolution Layer 1\n",
    "with tf.name_scope('C1_Conv'):\n",
    "    W1 = weight([5,5,1,16])\n",
    "    # [filter_h, filter_w, z_dim, number of filter]\n",
    "    b1 = bias([16])\n",
    "    Conv1 = conv2d(x_image, W1) + b1 # x_image as input\n",
    "    C1_Conv = tf.nn.relu(Conv1 )\n",
    "    # output shape 28x28x16\n",
    "    \n",
    "# Max pool Layer 1\n",
    "with tf.name_scope('C1_Pool'):\n",
    "    C1_Pool = max_pool_2x2(C1_Conv)\n",
    "    # output shape 14x14x16\n",
    "\n",
    "    \n",
    "# Convolution Layer 2    \n",
    "with tf.name_scope('C2_Conv'):\n",
    "    W2 = weight([5,5,16,36])\n",
    "    # [filter_h, filter_w, z_dim, number of filter]\n",
    "    b2 = bias([36])\n",
    "    Conv2=conv2d(C1_Pool, W2)+ b2\n",
    "    C2_Conv = tf.nn.relu(Conv2)\n",
    "    # output shape 14x14x36\n",
    "    \n",
    "    \n",
    "# Max pool Layer 2\n",
    "with tf.name_scope('C2_Pool'):\n",
    "    C2_Pool = max_pool_2x2(C2_Conv) \n",
    "    # output shape 7x7x36\n",
    "    \n",
    "# Fully Connected Layer    \n",
    "with tf.name_scope('D_Flat'):\n",
    "    D_Flat = tf.reshape(C2_Pool, [-1, 1764])\n",
    "    \n",
    "    \n",
    "# Hidden Layer\n",
    "with tf.name_scope('D_Hidden_Layer'):\n",
    "    W3= weight([1764, 128])\n",
    "    b3= bias([128])\n",
    "    D_Hidden = tf.nn.relu(tf.matmul(D_Flat, W3)+b3)\n",
    "    D_Hidden_Dropout= tf.nn.dropout(D_Hidden, keep_prob=0.8)\n",
    "    \n",
    "\n",
    "# Output Layers\n",
    "with tf.name_scope('Output_Layer'):\n",
    "    W4 = weight([128,10])\n",
    "    b4 = bias([10])\n",
    "    y_predict= tf.nn.softmax(tf.matmul(D_Hidden_Dropout, W4)+b4)\n",
    "    \n",
    "\n",
    "# Set the optimizer method for training model\n",
    "with tf.name_scope(\"optimizer\"):\n",
    "    y_label = tf.placeholder(\"float\", shape=[None, 10],  name=\"y_label\")\n",
    "    \n",
    "    loss_function = tf.reduce_mean(\n",
    "                         tf.nn.softmax_cross_entropy_with_logits\n",
    "                                    (logits=y_predict, labels=y_label)\n",
    "                                   )\n",
    "    optimizer = tf.train.AdamOptimizer(learning_rate=0.0001).minimize(loss_function)"
   ]
  },
  {
   "cell_type": "code",
   "execution_count": 8,
   "metadata": {
    "collapsed": true
   },
   "outputs": [],
   "source": [
    "# Accuracy\n",
    "with tf.name_scope(\"evaluate_model\"):\n",
    "    correct_prediction = tf.equal(tf.argmax(y_predict, 1), tf.argmax(y_label, 1))\n",
    "    accuracy = tf.reduce_mean(tf.cast(correct_prediction, \"float\"))"
   ]
  },
  {
   "cell_type": "code",
   "execution_count": 11,
   "metadata": {
    "collapsed": true
   },
   "outputs": [],
   "source": [
    "# Set training parameters\n",
    "trainEpochs = 5\n",
    "batchSize = 100\n",
    "totalBatchs = int(mnist.train.num_examples/batchSize) # iter of one epoch\n",
    "epoch_list=[]\n",
    "accuracy_list=[]\n",
    "loss_list=[];\n",
    "\n",
    "# Record time\n",
    "from time import time\n",
    "startTime=time()"
   ]
  },
  {
   "cell_type": "code",
   "execution_count": 12,
   "metadata": {},
   "outputs": [
    {
     "name": "stdout",
     "output_type": "stream",
     "text": [
      "Train Epoch: 01 Loss= 1.577064395  Accuracy= 0.9062\n",
      "Train Epoch: 02 Loss= 1.530471087  Accuracy= 0.9398\n",
      "Train Epoch: 03 Loss= 1.511834741  Accuracy= 0.9558\n",
      "Train Epoch: 04 Loss= 1.504901886  Accuracy= 0.9634\n",
      "Train Epoch: 05 Loss= 1.497949004  Accuracy= 0.968\n",
      "Train Finished takes: 875.8468298912048\n"
     ]
    }
   ],
   "source": [
    "# Using Session() to execute computational graph\n",
    "sess = tf.Session()\n",
    "sess.run(tf.global_variables_initializer())\n",
    "\n",
    "# Traing Model \n",
    "for epoch in range(trainEpochs):\n",
    "    # Period of epoch\n",
    "    \n",
    "    for i in range(totalBatchs):\n",
    "        # iter times of each epoch\n",
    "        batch_x, batch_y = mnist.train.next_batch(batchSize)\n",
    "        sess.run(optimizer,feed_dict={x: batch_x, y_label: batch_y})\n",
    "        # directly run optimizer to training model (run the computational graph)\n",
    "        \n",
    "    \n",
    "    loss, acc = sess.run([loss_function, accuracy],\n",
    "                          feed_dict={x: mnist.validation.images, \n",
    "                                     y_label: mnist.validation.labels}\n",
    "                        )\n",
    "\n",
    "    # Record \n",
    "    epoch_list.append(epoch)\n",
    "    loss_list.append(loss)\n",
    "    accuracy_list.append(acc)    \n",
    "    \n",
    "    # Print information\n",
    "    print(\"Train Epoch:\", '%02d' %(epoch+1),\n",
    "          \"Loss=\",\"{:.9f}\".format(loss),\n",
    "          \" Accuracy=\",acc)\n",
    "    \n",
    "duration = time() - startTime\n",
    "print(\"Train Finished takes:\",duration)  "
   ]
  },
  {
   "cell_type": "code",
   "execution_count": 20,
   "metadata": {},
   "outputs": [
    {
     "data": {
      "text/plain": [
       "<matplotlib.legend.Legend at 0x22b961539e8>"
      ]
     },
     "execution_count": 20,
     "metadata": {},
     "output_type": "execute_result"
    },
    {
     "data": {
      "image/png": "[encoded data removed]",
      "text/plain": [
       "<matplotlib.figure.Figure at 0x22b961b4ac8>"
      ]
     },
     "metadata": {},
     "output_type": "display_data"
    }
   ],
   "source": [
    "fig = plt.gcf()\n",
    "fig.set_size_inches(4,2)\n",
    "plt.plot(epoch_list, loss_list, label = 'loss')\n",
    "plt.ylabel('loss')\n",
    "plt.xlabel('epoch')\n",
    "plt.legend(['loss'], loc='upper left')"
   ]
  },
  {
   "cell_type": "code",
   "execution_count": 21,
   "metadata": {},
   "outputs": [
    {
     "data": {
      "image/png": "[encoded data removed]",
      "text/plain": [
       "<matplotlib.figure.Figure at 0x22b961534e0>"
      ]
     },
     "metadata": {},
     "output_type": "display_data"
    }
   ],
   "source": [
    "plt.plot(epoch_list, accuracy_list,label=\"accuracy\" )\n",
    "fig = plt.gcf()\n",
    "fig.set_size_inches(4,2)\n",
    "plt.ylim(0.8,1)\n",
    "plt.ylabel('accuracy')\n",
    "plt.xlabel('epoch')\n",
    "plt.legend()\n",
    "plt.show()"
   ]
  },
  {
   "cell_type": "code",
   "execution_count": 22,
   "metadata": {},
   "outputs": [
    {
     "name": "stdout",
     "output_type": "stream",
     "text": [
      "Accuracy: 0.9637\n"
     ]
    }
   ],
   "source": [
    "print(\"Accuracy:\", \n",
    "      sess.run(accuracy,feed_dict={x: mnist.test.images,\n",
    "                                   y_label: mnist.test.labels}))"
   ]
  },
  {
   "cell_type": "code",
   "execution_count": 23,
   "metadata": {
    "collapsed": true
   },
   "outputs": [],
   "source": [
    "prediction_result=sess.run(tf.argmax(y_predict,1),\n",
    "                           feed_dict={x: mnist.test.images ,\n",
    "                                      y_label: mnist.test.labels})"
   ]
  },
  {
   "cell_type": "code",
   "execution_count": 24,
   "metadata": {},
   "outputs": [
    {
     "data": {
      "image/png": "[encoded data removed]",
      "text/plain": [
       "<matplotlib.figure.Figure at 0x22b967f22e8>"
      ]
     },
     "metadata": {},
     "output_type": "display_data"
    }
   ],
   "source": [
    "def show_images_labels_predict(images,labels,prediction_result):\n",
    "    fig = plt.gcf()\n",
    "    fig.set_size_inches(8, 10)\n",
    "    for i in range(0, 10):\n",
    "        ax=plt.subplot(5,5, 1+i)\n",
    "        ax.imshow(np.reshape(images[i],(28, 28)), \n",
    "                  cmap='binary')\n",
    "        ax.set_title(\"label=\" +str(np.argmax(labels[i]))+\n",
    "                     \",predict=\"+str(prediction_result[i])\n",
    "                     ,fontsize=9) \n",
    "    plt.show()\n",
    "    \n",
    "# Run 'show_images_labels_predict'    \n",
    "show_images_labels_predict(mnist.test.images,mnist.test.labels,prediction_result)"
   ]
  },
  {
   "cell_type": "code",
   "execution_count": 27,
   "metadata": {},
   "outputs": [
    {
     "name": "stdout",
     "output_type": "stream",
     "text": [
      "i=241   label= 9 predict= 8\n",
      "i=247   label= 4 predict= 2\n",
      "i=290   label= 8 predict= 4\n",
      "i=318   label= 2 predict= 3\n",
      "i=320   label= 9 predict= 1\n",
      "i=321   label= 2 predict= 7\n",
      "i=340   label= 5 predict= 3\n",
      "i=403   label= 8 predict= 9\n",
      "i=412   label= 5 predict= 3\n",
      "i=448   label= 9 predict= 8\n",
      "i=449   label= 3 predict= 5\n",
      "i=479   label= 9 predict= 3\n",
      "i=495   label= 8 predict= 0\n"
     ]
    },
    {
     "data": {
      "image/png": "[encoded data removed]",
      "text/plain": [
       "<matplotlib.figure.Figure at 0x22b96597908>"
      ]
     },
     "metadata": {},
     "output_type": "display_data"
    }
   ],
   "source": [
    "def show_images_labels_predict_error(images,labels,prediction_result):\n",
    "    fig = plt.gcf()\n",
    "    fig.set_size_inches(8, 10)\n",
    "    i=0;j=0\n",
    "    while i<10:\n",
    "        if prediction_result[j]!=np.argmax(labels[j]):\n",
    "            ax=plt.subplot(5,5, 1+i)\n",
    "            ax.imshow(np.reshape(images[j],(28, 28)), \n",
    "                      cmap='binary')\n",
    "            ax.set_title(\"j=\"+str(j)+\n",
    "                         \",Ans:\" +str(np.argmax(labels[j]))+\n",
    "                         \",pred:\"+str(prediction_result[j])\n",
    "                         ,fontsize=9) \n",
    "            i=i+1  \n",
    "        j=j+1\n",
    "    plt.show()\n",
    "    \n",
    "\n",
    "for i in range(500):\n",
    "    if prediction_result[i]!=np.argmax(mnist.test.labels[i]):\n",
    "        print(\"i=\"+str(i)+\n",
    "              \"   label=\",np.argmax(mnist.test.labels[i]),\n",
    "              \"predict=\",prediction_result[i])\n",
    "\n",
    "# Run 'show_images_labels_predict_error'\n",
    "show_images_labels_predict_error(mnist.test.images,mnist.test.labels,prediction_result)        "
   ]
  },
  {
   "cell_type": "code",
   "execution_count": 26,
   "metadata": {},
   "outputs": [
    {
     "name": "stdout",
     "output_type": "stream",
     "text": [
      "Model saved in file: saveModel/CNN_model1\n"
     ]
    }
   ],
   "source": [
    "saver = tf.train.Saver()\n",
    "save_path = saver.save(sess, \"saveModel/CNN_model1\")\n",
    "print(\"Model saved in file: %s\" % save_path)\n",
    "merged = tf.summary.merge_all()\n",
    "train_writer = tf.summary.FileWriter('log/CNN',sess.graph)\n",
    "\n",
    "#sess.close()"
   ]
  },
  {
   "cell_type": "code",
   "execution_count": null,
   "metadata": {
    "collapsed": true
   },
   "outputs": [],
   "source": []
  }
 ],
 "metadata": {
  "kernelspec": {
   "display_name": "Python 3",
   "language": "python",
   "name": "python3"
  },
  "language_info": {
   "codemirror_mode": {
    "name": "ipython",
    "version": 3
   },
   "file_extension": ".py",
   "mimetype": "text/x-python",
   "name": "python",
   "nbconvert_exporter": "python",
   "pygments_lexer": "ipython3",
   "version": "3.6.2"
  }
 },
 "nbformat": 4,
 "nbformat_minor": 2
}
