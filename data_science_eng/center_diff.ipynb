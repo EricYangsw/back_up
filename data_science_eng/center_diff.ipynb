{
 "cells": [
  {
   "cell_type": "code",
   "execution_count": 11,
   "metadata": {},
   "outputs": [],
   "source": [
    "import numpy as np\n",
    "import pandas as pd\n",
    "import math\n",
    "\n",
    "\n",
    "def div(f,div_f,x):\n",
    "    h_value = [0.1, 0.00001]\n",
    "    for h in h_value:\n",
    "        div_value = (f(x+h)-f(x-h)) / (2*h)\n",
    "        real = div_f(x)\n",
    "        Error = abs(div_value - real)\n",
    "        \n",
    "        print('when h = {}, exact = {}, approximate = {}, Error = {}'\n",
    "              .format(h, real, div_value, Error)) \n",
    "    return"
   ]
  },
  {
   "cell_type": "code",
   "execution_count": 10,
   "metadata": {},
   "outputs": [
    {
     "name": "stdout",
     "output_type": "stream",
     "text": [
      "Function = ex(x):\n",
      "when h = 0.1, exact = 1.0, approximate = 1.001667500198441, Error = 0.0016675001984409743\n",
      "when h = 1e-05, exact = 1.0, approximate = 1.0000000000121023, Error = 1.2102319146833906e-11\n"
     ]
    }
   ],
   "source": [
    "print('Function = ex(x):')\n",
    "\n",
    "def ex(x):\n",
    "    return math.exp(x)\n",
    "\n",
    "def div_ex(x):\n",
    "    return math.exp(x)\n",
    "\n",
    "div(ex, div_ex, 0)"
   ]
  },
  {
   "cell_type": "code",
   "execution_count": 7,
   "metadata": {},
   "outputs": [
    {
     "name": "stdout",
     "output_type": "stream",
     "text": [
      "Function = exp(-2*(x*x)):\n",
      "when h = 0.1, exact = 0.0, approximate = 0.0, Error = 0.0\n",
      "when h = 1e-05, exact = 0.0, approximate = 0.0, Error = 0.0\n"
     ]
    }
   ],
   "source": [
    "print('Function = exp(-2*(x*x)):')\n",
    "\n",
    "def t(x):\n",
    "    return math.exp(-2*(x*x))\n",
    "\n",
    "def div_t(x):\n",
    "    return math.exp(-2*(x*x))*(-4*x)\n",
    "\n",
    "div(t,div_t,0)"
   ]
  },
  {
   "cell_type": "code",
   "execution_count": 8,
   "metadata": {},
   "outputs": [
    {
     "name": "stdout",
     "output_type": "stream",
     "text": [
      "Function = cos(x):\n",
      "when h = 0.1, exact = 2.4492935982947064e-16, approximate = 0.0, Error = 2.4492935982947064e-16\n",
      "when h = 1e-05, exact = 2.4492935982947064e-16, approximate = 0.0, Error = 2.4492935982947064e-16\n"
     ]
    }
   ],
   "source": [
    "print('Function = cos(x):')\n",
    "\n",
    "def cos(x):\n",
    "    return math.cos(x)\n",
    "\n",
    "def div_cos(x):\n",
    "    return -1*math.sin(x)\n",
    "\n",
    "div(cos,div_cos,math.pi*2)"
   ]
  },
  {
   "cell_type": "code",
   "execution_count": 9,
   "metadata": {},
   "outputs": [
    {
     "name": "stdout",
     "output_type": "stream",
     "text": [
      "Function = log(x):\n",
      "when h = 0.1, exact = 1.0, approximate = 1.003353477310756, Error = 0.00335347731075597\n",
      "when h = 1e-05, exact = 1.0, approximate = 1.0000000000343332, Error = 3.4333202947323116e-11\n"
     ]
    }
   ],
   "source": [
    "print('Function = log(x):')\n",
    "\n",
    "def ln(x):\n",
    "    return math.log(x)\n",
    "\n",
    "def div_ln(x):\n",
    "    return 1/x\n",
    "\n",
    "div(ln,div_ln,1)"
   ]
  }
 ],
 "metadata": {
  "kernelspec": {
   "display_name": "Python 3",
   "language": "python",
   "name": "python3"
  },
  "language_info": {
   "codemirror_mode": {
    "name": "ipython",
    "version": 3
   },
   "file_extension": ".py",
   "mimetype": "text/x-python",
   "name": "python",
   "nbconvert_exporter": "python",
   "pygments_lexer": "ipython3",
   "version": "3.6.2"
  }
 },
 "nbformat": 4,
 "nbformat_minor": 2
}
