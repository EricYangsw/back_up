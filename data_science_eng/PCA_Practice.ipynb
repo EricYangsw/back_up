{
 "cells": [
  {
   "cell_type": "code",
   "execution_count": 1,
   "metadata": {
    "collapsed": true
   },
   "outputs": [],
   "source": [
    "import pandas as pd\n",
    "import numpy as np\n",
    "import matplotlib.pyplot as plt\n",
    "from sklearn.preprocessing import StandardScaler\n",
    "from sklearn.decomposition import PCA\n",
    "import statistics as sta"
   ]
  },
  {
   "cell_type": "code",
   "execution_count": 2,
   "metadata": {},
   "outputs": [
    {
     "data": {
      "text/html": [
       "<div>\n",
       "<style>\n",
       "    .dataframe thead tr:only-child th {\n",
       "        text-align: right;\n",
       "    }\n",
       "\n",
       "    .dataframe thead th {\n",
       "        text-align: left;\n",
       "    }\n",
       "\n",
       "    .dataframe tbody tr th {\n",
       "        vertical-align: top;\n",
       "    }\n",
       "</style>\n",
       "<table border=\"1\" class=\"dataframe\">\n",
       "  <thead>\n",
       "    <tr style=\"text-align: right;\">\n",
       "      <th></th>\n",
       "      <th>Protein</th>\n",
       "      <th>fat</th>\n",
       "      <th>Vitamin C</th>\n",
       "      <th>Fiber</th>\n",
       "    </tr>\n",
       "  </thead>\n",
       "  <tbody>\n",
       "    <tr>\n",
       "      <th>0</th>\n",
       "      <td>19.42</td>\n",
       "      <td>12.73</td>\n",
       "      <td>0.0</td>\n",
       "      <td>0.0</td>\n",
       "    </tr>\n",
       "    <tr>\n",
       "      <th>1</th>\n",
       "      <td>1.80</td>\n",
       "      <td>0.70</td>\n",
       "      <td>35.0</td>\n",
       "      <td>0.0</td>\n",
       "    </tr>\n",
       "    <tr>\n",
       "      <th>2</th>\n",
       "      <td>1.28</td>\n",
       "      <td>0.10</td>\n",
       "      <td>36.6</td>\n",
       "      <td>2.5</td>\n",
       "    </tr>\n",
       "    <tr>\n",
       "      <th>3</th>\n",
       "      <td>1.80</td>\n",
       "      <td>0.20</td>\n",
       "      <td>30.0</td>\n",
       "      <td>1.6</td>\n",
       "    </tr>\n",
       "    <tr>\n",
       "      <th>4</th>\n",
       "      <td>17.44</td>\n",
       "      <td>8.10</td>\n",
       "      <td>0.0</td>\n",
       "      <td>0.0</td>\n",
       "    </tr>\n",
       "  </tbody>\n",
       "</table>\n",
       "</div>"
      ],
      "text/plain": [
       "   Protein    fat  Vitamin C  Fiber\n",
       "0    19.42  12.73        0.0    0.0\n",
       "1     1.80   0.70       35.0    0.0\n",
       "2     1.28   0.10       36.6    2.5\n",
       "3     1.80   0.20       30.0    1.6\n",
       "4    17.44   8.10        0.0    0.0"
      ]
     },
     "execution_count": 2,
     "metadata": {},
     "output_type": "execute_result"
    }
   ],
   "source": [
    "#read the file\n",
    "food = pd.read_csv('food_table.csv', encoding='big5')\n",
    "food_number = food.copy() #use copy to avoid the same point\n",
    "del food_number['food']\n",
    "food_number.head()"
   ]
  },
  {
   "cell_type": "code",
   "execution_count": 3,
   "metadata": {},
   "outputs": [
    {
     "data": {
      "text/plain": [
       "24"
      ]
     },
     "execution_count": 3,
     "metadata": {},
     "output_type": "execute_result"
    }
   ],
   "source": [
    "len(food)"
   ]
  },
  {
   "cell_type": "code",
   "execution_count": 4,
   "metadata": {
    "collapsed": true
   },
   "outputs": [],
   "source": [
    "#trandform form the dataframe to matrix\n",
    "food_array = food_number.as_matrix()"
   ]
  },
  {
   "cell_type": "code",
   "execution_count": 5,
   "metadata": {},
   "outputs": [
    {
     "data": {
      "text/plain": [
       "array([  9.4775    ,   4.195     ,  17.70833333,   1.55      ])"
      ]
     },
     "execution_count": 5,
     "metadata": {},
     "output_type": "execute_result"
    }
   ],
   "source": [
    "data  = food.values[:,1:5].astype(float)\n",
    "adj_data = np.mean(data, axis=0)\n",
    "#np.mean(adj_data[:\n",
    "\n",
    "adj_data"
   ]
  },
  {
   "cell_type": "code",
   "execution_count": 6,
   "metadata": {
    "collapsed": true
   },
   "outputs": [],
   "source": [
    "data -= np.mean(data, axis = 0)"
   ]
  },
  {
   "cell_type": "code",
   "execution_count": 7,
   "metadata": {},
   "outputs": [
    {
     "data": {
      "text/plain": [
       "-9.6219328800846894e-16"
      ]
     },
     "execution_count": 7,
     "metadata": {},
     "output_type": "execute_result"
    }
   ],
   "source": [
    "np.mean(data[:,0])"
   ]
  },
  {
   "cell_type": "markdown",
   "metadata": {},
   "source": [
    "# StandardScaler"
   ]
  },
  {
   "cell_type": "code",
   "execution_count": 8,
   "metadata": {},
   "outputs": [
    {
     "data": {
      "text/plain": [
       "array([[ 1.21500438,  1.5542334 , -0.90563627, -0.80435864],\n",
       "       [-0.93821435, -0.63644355,  0.88432718, -0.80435864],\n",
       "       [-1.00175996, -0.74570425,  0.96615408,  0.492994  ],\n",
       "       [-0.93821435, -0.72749413,  0.62861812,  0.02594705],\n",
       "       [ 0.97304223,  0.71110503, -0.90563627, -0.80435864]])"
      ]
     },
     "execution_count": 8,
     "metadata": {},
     "output_type": "execute_result"
    }
   ],
   "source": [
    "# Standardization (shifts variables onto a uniform stand scale)\n",
    "sc = StandardScaler() #if no () will show: fit() missing 1 required positional argument: 'X'\n",
    "sc.fit(food_array)\n",
    "food_number_nor = sc.transform(food_array)\n",
    "food_number_nor[:5]"
   ]
  },
  {
   "cell_type": "code",
   "execution_count": null,
   "metadata": {
    "collapsed": true
   },
   "outputs": [],
   "source": []
  },
  {
   "cell_type": "markdown",
   "metadata": {},
   "source": [
    "# Run PCA"
   ]
  },
  {
   "cell_type": "code",
   "execution_count": 9,
   "metadata": {},
   "outputs": [
    {
     "data": {
      "text/plain": [
       "PCA(copy=True, iterated_power='auto', n_components=4, random_state=None,\n",
       "  svd_solver='auto', tol=0.0, whiten=False)"
      ]
     },
     "execution_count": 9,
     "metadata": {},
     "output_type": "execute_result"
    }
   ],
   "source": [
    "# PCA \n",
    "pca = PCA(n_components = 4) # set the number of component\n",
    "pca.fit(food_number_nor)"
   ]
  },
  {
   "cell_type": "markdown",
   "metadata": {},
   "source": [
    "# Principal Components weighted"
   ]
  },
  {
   "cell_type": "code",
   "execution_count": 10,
   "metadata": {},
   "outputs": [
    {
     "data": {
      "text/plain": [
       "array([[ 0.53749686,  0.499929  , -0.48232233, -0.47805156],\n",
       "       [ 0.35249002,  0.59789452,  0.48739254,  0.52983152],\n",
       "       [-0.02400156, -0.00981336, -0.72210006,  0.69130249],\n",
       "       [-0.7656839 ,  0.62649568, -0.09157069, -0.11334081]])"
      ]
     },
     "execution_count": 10,
     "metadata": {},
     "output_type": "execute_result"
    }
   ],
   "source": [
    "'''\n",
    "Principal axes in feature space, representing the directions of maximum \n",
    "variance in the data. The components are sorted by explained_variance_.\n",
    "'''\n",
    "pca.components_"
   ]
  },
  {
   "cell_type": "code",
   "execution_count": 11,
   "metadata": {},
   "outputs": [
    {
     "data": {
      "text/html": [
       "<div>\n",
       "<style>\n",
       "    .dataframe thead tr:only-child th {\n",
       "        text-align: right;\n",
       "    }\n",
       "\n",
       "    .dataframe thead th {\n",
       "        text-align: left;\n",
       "    }\n",
       "\n",
       "    .dataframe tbody tr th {\n",
       "        vertical-align: top;\n",
       "    }\n",
       "</style>\n",
       "<table border=\"1\" class=\"dataframe\">\n",
       "  <thead>\n",
       "    <tr style=\"text-align: right;\">\n",
       "      <th></th>\n",
       "      <th>content</th>\n",
       "      <th>pc1</th>\n",
       "      <th>pc2</th>\n",
       "      <th>pc3</th>\n",
       "      <th>pc4</th>\n",
       "    </tr>\n",
       "  </thead>\n",
       "  <tbody>\n",
       "    <tr>\n",
       "      <th>0</th>\n",
       "      <td>Protein</td>\n",
       "      <td>0.537497</td>\n",
       "      <td>0.352490</td>\n",
       "      <td>-0.024002</td>\n",
       "      <td>-0.765684</td>\n",
       "    </tr>\n",
       "    <tr>\n",
       "      <th>1</th>\n",
       "      <td>fat</td>\n",
       "      <td>0.499929</td>\n",
       "      <td>0.597895</td>\n",
       "      <td>-0.009813</td>\n",
       "      <td>0.626496</td>\n",
       "    </tr>\n",
       "    <tr>\n",
       "      <th>2</th>\n",
       "      <td>Vitamin C</td>\n",
       "      <td>-0.482322</td>\n",
       "      <td>0.487393</td>\n",
       "      <td>-0.722100</td>\n",
       "      <td>-0.091571</td>\n",
       "    </tr>\n",
       "    <tr>\n",
       "      <th>3</th>\n",
       "      <td>Fiber</td>\n",
       "      <td>-0.478052</td>\n",
       "      <td>0.529832</td>\n",
       "      <td>0.691302</td>\n",
       "      <td>-0.113341</td>\n",
       "    </tr>\n",
       "  </tbody>\n",
       "</table>\n",
       "</div>"
      ],
      "text/plain": [
       "     content       pc1       pc2       pc3       pc4\n",
       "0    Protein  0.537497  0.352490 -0.024002 -0.765684\n",
       "1        fat  0.499929  0.597895 -0.009813  0.626496\n",
       "2  Vitamin C -0.482322  0.487393 -0.722100 -0.091571\n",
       "3      Fiber -0.478052  0.529832  0.691302 -0.113341"
      ]
     },
     "execution_count": 11,
     "metadata": {},
     "output_type": "execute_result"
    }
   ],
   "source": [
    "pca_w = pd.DataFrame()\n",
    "pca_w['content'] = food.columns[1:]\n",
    "pca_w['pc1'] = pca.components_[0]\n",
    "pca_w['pc2'] = pca.components_[1]\n",
    "pca_w['pc3'] = pca.components_[2]\n",
    "pca_w['pc4'] = pca.components_[3]\n",
    "pca_w"
   ]
  },
  {
   "cell_type": "markdown",
   "metadata": {},
   "source": [
    "# Plot by PC1 & PC2"
   ]
  },
  {
   "cell_type": "code",
   "execution_count": 12,
   "metadata": {},
   "outputs": [
    {
     "data": {
      "text/plain": [
       "array([[ 0.53749686,  0.35249002],\n",
       "       [ 0.499929  ,  0.59789452],\n",
       "       [-0.48232233,  0.48739254],\n",
       "       [-0.47805156,  0.52983152]])"
      ]
     },
     "execution_count": 12,
     "metadata": {},
     "output_type": "execute_result"
    }
   ],
   "source": [
    "#select the first、second pca to plot\n",
    "pca_12 = np.zeros((4,2))\n",
    "pca_12[:,0] = pca.components_[0]\n",
    "pca_12[:,1] = pca.components_[1]\n",
    "pca_12"
   ]
  },
  {
   "cell_type": "code",
   "execution_count": 13,
   "metadata": {
    "collapsed": true
   },
   "outputs": [],
   "source": [
    "#matrix muilt\n",
    "plot = np.dot(food_number_nor, pca_12)"
   ]
  },
  {
   "cell_type": "code",
   "execution_count": null,
   "metadata": {
    "collapsed": true
   },
   "outputs": [],
   "source": []
  },
  {
   "cell_type": "code",
   "execution_count": 14,
   "metadata": {},
   "outputs": [
    {
     "data": {
      "text/plain": [
       "numpy.ndarray"
      ]
     },
     "execution_count": 14,
     "metadata": {},
     "output_type": "execute_result"
    }
   ],
   "source": [
    "type(pca_12)"
   ]
  },
  {
   "cell_type": "code",
   "execution_count": 15,
   "metadata": {},
   "outputs": [
    {
     "name": "stderr",
     "output_type": "stream",
     "text": [
      "C:\\Users\\Eric\\Anaconda3\\envs\\DataSC\\lib\\site-packages\\matplotlib\\axes\\_axes.py:545: UserWarning: No labelled objects found. Use label='...' kwarg on individual plots.\n",
      "  warnings.warn(\"No labelled objects found. \"\n"
     ]
    },
    {
     "data": {
      "image/png": "[encoded data removed]",
      "text/plain": [
       "<matplotlib.figure.Figure at 0x19211cfad68>"
      ]
     },
     "metadata": {},
     "output_type": "display_data"
    }
   ],
   "source": [
    "#plot \n",
    "plt.style.use('seaborn-bright')\n",
    "\n",
    "fig = plt.figure(figsize=(10,8))\n",
    "\n",
    "#主畫圖區\n",
    "plt.scatter(plot[:,0],plot[:,1],c='r',marker='o',s=40)\n",
    "\n",
    "#Add the string of food name at figure\n",
    "key = food['food']\n",
    "for i,txt in enumerate(np.array(key)):\n",
    "    plt.annotate(txt, (plot[i,0],plot[i,1]))\n",
    "\n",
    "#Label\n",
    "#plt.title('Silhouette Coefficient', fontsize=30)    \n",
    "plt.xlabel('1th Principal component', fontsize=20)\n",
    "plt.ylabel('2nd Principal component', fontsize=20)\n",
    "plt.legend()\n",
    "\n",
    "\n",
    "plt.show()"
   ]
  },
  {
   "cell_type": "markdown",
   "metadata": {},
   "source": [
    "# Scree Plot"
   ]
  },
  {
   "cell_type": "code",
   "execution_count": 16,
   "metadata": {
    "collapsed": true
   },
   "outputs": [],
   "source": [
    "ratio = pca.explained_variance_ratio_"
   ]
  },
  {
   "cell_type": "code",
   "execution_count": 17,
   "metadata": {},
   "outputs": [
    {
     "ename": "NameError",
     "evalue": "name 'k_trick' is not defined",
     "output_type": "error",
     "traceback": [
      "\u001b[1;31m---------------------------------------------------------------------------\u001b[0m",
      "\u001b[1;31mNameError\u001b[0m                                 Traceback (most recent call last)",
      "\u001b[1;32m<ipython-input-17-2b08912460be>\u001b[0m in \u001b[0;36m<module>\u001b[1;34m()\u001b[0m\n\u001b[0;32m      9\u001b[0m \u001b[0mx_trick\u001b[0m \u001b[1;33m=\u001b[0m \u001b[1;33m[\u001b[0m\u001b[1;34m'PC1'\u001b[0m\u001b[1;33m,\u001b[0m \u001b[1;34m'PC2'\u001b[0m\u001b[1;33m,\u001b[0m \u001b[1;34m'PC3'\u001b[0m\u001b[1;33m,\u001b[0m \u001b[1;34m'PC4'\u001b[0m\u001b[1;33m]\u001b[0m\u001b[1;33m\u001b[0m\u001b[0m\n\u001b[0;32m     10\u001b[0m \u001b[0max\u001b[0m\u001b[1;33m.\u001b[0m\u001b[0mset_xticks\u001b[0m\u001b[1;33m(\u001b[0m\u001b[0mxx\u001b[0m\u001b[1;33m)\u001b[0m\u001b[1;33m\u001b[0m\u001b[0m\n\u001b[1;32m---> 11\u001b[1;33m \u001b[0max\u001b[0m\u001b[1;33m.\u001b[0m\u001b[0mset_xticklabels\u001b[0m\u001b[1;33m(\u001b[0m\u001b[0mk_trick\u001b[0m\u001b[1;33m)\u001b[0m\u001b[1;33m\u001b[0m\u001b[0m\n\u001b[0m\u001b[0;32m     12\u001b[0m \u001b[1;33m\u001b[0m\u001b[0m\n\u001b[0;32m     13\u001b[0m \u001b[1;33m\u001b[0m\u001b[0m\n",
      "\u001b[1;31mNameError\u001b[0m: name 'k_trick' is not defined"
     ]
    }
   ],
   "source": [
    "plt.style.use('seaborn-bright')\n",
    "fig = plt.figure(figsize=(10,6))\n",
    "ax = fig.add_subplot(111) #frameon= Tures\n",
    "\n",
    "\n",
    "#set the x,y\n",
    "xx = [1,2,3,4]\n",
    "# y = ratio\n",
    "x_trick = ['PC1', 'PC2', 'PC3', 'PC4']\n",
    "ax.set_xticks(xx)\n",
    "ax.set_xticklabels(k_trick)\n",
    "\n",
    "\n",
    "#main plotting area\n",
    "plt.plot(xx, ratio,c='#AAAAAA',lw=3)\n",
    "plt.scatter(xx, ratio, marker='o', c='#AAAAAA',s=120)\n",
    "\n",
    "#設定軸的刻度值字體大小\n",
    "plt.rc('xtick', labelsize=18)\n",
    "plt.rc('ytick', labelsize=18)\n",
    "\n",
    "#Label\n",
    "plt.title('', fontsize=25)    \n",
    "plt.xlabel('Number of Components', fontsize=20)\n",
    "plt.ylabel('% of Data Spread Accounted', fontsize=15)\n",
    "plt.legend()\n",
    "\n",
    "plt.show()"
   ]
  },
  {
   "cell_type": "markdown",
   "metadata": {},
   "source": [
    "# 其他"
   ]
  },
  {
   "cell_type": "code",
   "execution_count": null,
   "metadata": {},
   "outputs": [],
   "source": [
    "# 比較(純變數相加)\n",
    "first_x = food_number_nor[:,0] + food_number_nor[:,1]\n",
    "second_x = food_number_nor[:,2] + food_number_nor[:,3]\n",
    "\n",
    "#plot \n",
    "plt.style.use('seaborn-bright')\n",
    "\n",
    "fig = plt.figure(figsize=(10,10))\n",
    "\n",
    "#主畫圖區\n",
    "plt.scatter(first_x,second_x,c='b',marker='o',s=30)\n",
    "\n",
    "key = food['food']\n",
    "for i,txt in enumerate(np.array(key)):\n",
    "    plt.annotate(txt, (first_x[i],second_x[i]))\n",
    "\n",
    "\n",
    "#Label\n",
    "#plt.title('Silhouette Coefficient', fontsize=30)    \n",
    "plt.xlabel('fat_Protein', fontsize=20)\n",
    "plt.ylabel('VitaminC_Fiber', fontsize=20)\n",
    "plt.legend()\n",
    "\n",
    "\n",
    "plt.show()"
   ]
  },
  {
   "cell_type": "code",
   "execution_count": null,
   "metadata": {
    "collapsed": true
   },
   "outputs": [],
   "source": []
  },
  {
   "cell_type": "code",
   "execution_count": null,
   "metadata": {
    "collapsed": true
   },
   "outputs": [],
   "source": [
    "'''\n",
    "#plot \n",
    "plt.style.use('seaborn-bright')\n",
    "\n",
    "fig = plt.figure(figsize=(10,10))\n",
    "\n",
    "#主畫圖區\n",
    "plt.scatter(plot[:,0],plot[:,1],c='r',marker='o',s=30)\n",
    "\n",
    "#Label\n",
    "for i,txt in enumerate(np.array(key)):\n",
    "    plt.annotate(txt, (plot[i,0],plot[i,1]))\n",
    "    \n",
    "#plt.title('Silhouette Coefficient', fontsize=30)    \n",
    "plt.xlabel('2th Principal component', fontsize=20)\n",
    "plt.ylabel('1th Principal component', fontsize=20)\n",
    "plt.legend()\n",
    "\n",
    "\n",
    "plt.show()\n",
    "\n",
    "'''"
   ]
  },
  {
   "cell_type": "code",
   "execution_count": 41,
   "metadata": {},
   "outputs": [],
   "source": [
    "u0 = np.mean(food_number_nor[:,0])\n",
    "u1 = np.mean(food_number_nor[:,1])\n",
    "u2 = np.mean(food_number_nor[:,2])\n",
    "u3 = np.mean(food_number_nor[:,3])"
   ]
  },
  {
   "cell_type": "code",
   "execution_count": 42,
   "metadata": {},
   "outputs": [],
   "source": [
    "food_number_nor[:,0] = food_number_nor[:,0] - u0\n",
    "food_number_nor[:,1] = food_number_nor[:,1] - u1\n",
    "food_number_nor[:,2] = food_number_nor[:,2] - u2\n",
    "food_number_nor[:,3] = food_number_nor[:,3] - u3"
   ]
  },
  {
   "cell_type": "code",
   "execution_count": 44,
   "metadata": {},
   "outputs": [
    {
     "data": {
      "text/plain": [
       "(24, 24)"
      ]
     },
     "execution_count": 44,
     "metadata": {},
     "output_type": "execute_result"
    }
   ],
   "source": [
    "MM = np.cov(food_number_nor)\n",
    "MM.shape"
   ]
  },
  {
   "cell_type": "code",
   "execution_count": 45,
   "metadata": {},
   "outputs": [
    {
     "data": {
      "text/plain": [
       "(4, 4)"
      ]
     },
     "execution_count": 45,
     "metadata": {},
     "output_type": "execute_result"
    }
   ],
   "source": [
    "NN = np.cov(food_number_nor.T)\n",
    "NN.shape"
   ]
  },
  {
   "cell_type": "code",
   "execution_count": 46,
   "metadata": {},
   "outputs": [],
   "source": [
    "eig_vaM, eig_vcM = np.linalg.eig(MM)\n",
    "eig_vaN, eig_vcN = np.linalg.eig(NN)"
   ]
  },
  {
   "cell_type": "code",
   "execution_count": 50,
   "metadata": {},
   "outputs": [
    {
     "data": {
      "text/plain": [
       "array([  2.09945277e+01 +0.00000000e+00j,\n",
       "         3.51209769e+00 +0.00000000e+00j,\n",
       "         2.25220857e+00 +0.00000000e+00j,\n",
       "        -1.07611619e-15 +0.00000000e+00j,\n",
       "        -4.86779940e-16 +3.62545781e-16j,\n",
       "        -4.86779940e-16 -3.62545781e-16j,\n",
       "         6.54982735e-16 +2.36042455e-17j,\n",
       "         6.54982735e-16 -2.36042455e-17j,\n",
       "         5.46772691e-16 +0.00000000e+00j,\n",
       "        -2.77318960e-16 +1.74548725e-16j,\n",
       "        -2.77318960e-16 -1.74548725e-16j,\n",
       "         2.82812485e-16 +0.00000000e+00j,\n",
       "        -2.76482835e-16 +0.00000000e+00j,\n",
       "        -1.94924899e-16 +5.73384572e-17j,\n",
       "        -1.94924899e-16 -5.73384572e-17j,\n",
       "         1.41327379e-16 +0.00000000e+00j,\n",
       "         9.15060888e-17 +1.94715129e-17j,\n",
       "         9.15060888e-17 -1.94715129e-17j,\n",
       "        -4.08864333e-17 +4.24177143e-17j,\n",
       "        -4.08864333e-17 -4.24177143e-17j,\n",
       "        -3.84229903e-17 +0.00000000e+00j,\n",
       "        -6.88713348e-18 +0.00000000e+00j,\n",
       "         3.29918697e-17 +2.20436221e-18j,   3.29918697e-17 -2.20436221e-18j])"
      ]
     },
     "execution_count": 50,
     "metadata": {},
     "output_type": "execute_result"
    }
   ],
   "source": [
    "eig_vaM"
   ]
  },
  {
   "cell_type": "code",
   "execution_count": 48,
   "metadata": {},
   "outputs": [
    {
     "data": {
      "text/plain": [
       "array([ 2.74147256,  0.69301398,  0.28159083,  0.45783568])"
      ]
     },
     "execution_count": 48,
     "metadata": {},
     "output_type": "execute_result"
    }
   ],
   "source": [
    "eig_vaN"
   ]
  },
  {
   "cell_type": "code",
   "execution_count": 51,
   "metadata": {},
   "outputs": [
    {
     "data": {
      "text/plain": [
       "array([[ 1.69284937, -0.62906419, -1.19044005, -0.86434625,  1.25382946,\n",
       "        -1.49309483, -1.33465464, -0.32851059,  1.70500616,  0.00437102,\n",
       "         0.9229646 ,  0.82364086,  1.32943271,  1.43064652, -1.90012886,\n",
       "        -0.39431652, -0.46682535,  2.24272139, -0.75023689, -0.37711251,\n",
       "         1.06552964, -2.09867484, -0.56037507, -0.08321114],\n",
       "       [-0.62906419,  0.71860329,  0.5881936 ,  0.50015073, -0.50968163,\n",
       "         0.9934597 ,  0.40041595, -0.07933139, -0.51095255,  0.16486832,\n",
       "        -0.4899975 , -0.32764087, -0.59254224, -0.57258563,  1.21088354,\n",
       "        -0.26323725,  0.02572575, -0.69058152,  0.23801784, -0.07667583,\n",
       "        -0.34708392,  0.2176026 , -0.20786861,  0.23932183],\n",
       "       [-1.19044005,  0.5881936 ,  0.90510437,  0.6765375 , -0.92614001,\n",
       "         1.18451225,  0.94196812,  0.2023268 , -1.12366171,  0.04780055,\n",
       "        -0.80905999, -0.64977629, -1.06136889, -1.11503668,  1.49175579,\n",
       "         0.18731705,  0.31691173, -1.42778458,  0.53814098,  0.22085987,\n",
       "        -0.77644552,  1.36199229,  0.32565471,  0.09063811],\n",
       "       [-0.86434625,  0.50015073,  0.6765375 ,  0.51657505, -0.67565031,\n",
       "         0.92587121,  0.66604997,  0.11308848, -0.80154548,  0.05971515,\n",
       "        -0.59704037, -0.46808727, -0.77497858, -0.80528916,  1.1588058 ,\n",
       "         0.07063485,  0.20424541, -1.02668502,  0.38210926,  0.12541693,\n",
       "        -0.55185273,  0.89816188,  0.1675777 ,  0.10053523],\n",
       "       [ 1.25382946, -0.50968163, -0.92614001, -0.67565031,  0.97316146,\n",
       "        -1.14886147, -1.02160472, -0.2664957 ,  1.20190723, -0.01282451,\n",
       "         0.84705117,  0.69510473,  1.119167  ,  1.18868647, -1.4577459 ,\n",
       "        -0.29822365, -0.37531426,  1.5102436 , -0.58159367, -0.2868223 ,\n",
       "         0.8390565 , -1.57535814, -0.45108212, -0.04080924],\n",
       "       [-1.49309483,  0.9934597 ,  1.18451225,  0.92587121, -1.14886147,\n",
       "         1.71400777,  1.09422433,  0.11100377, -1.38870164,  0.14685305,\n",
       "        -0.95964236, -0.75293249, -1.27221439, -1.30938407,  2.1329946 ,\n",
       "        -0.01930253,  0.28166992, -1.83732511,  0.62730477,  0.13873812,\n",
       "        -0.90013435,  1.34837027,  0.12397607,  0.25860743],\n",
       "       [-1.33465464,  0.40041595,  0.94196812,  0.66604997, -1.02160472,\n",
       "         1.09422433,  1.11396214,  0.34122068, -1.31713003, -0.03518986,\n",
       "        -0.85314026, -0.73059035, -1.15789994, -1.24878459,  1.40357219,\n",
       "         0.43600529,  0.44126969, -1.65443814,  0.629968  ,  0.36788837,\n",
       "        -0.90551115,  1.83913997,  0.59947754, -0.01621858],\n",
       "       [-0.32851059, -0.07933139,  0.2023268 ,  0.11308848, -0.2664957 ,\n",
       "         0.11100377,  0.34122068,  0.18959808, -0.3309566 , -0.06895366,\n",
       "        -0.27120853, -0.23564812, -0.34518083, -0.3884809 ,  0.16397119,\n",
       "         0.29075029,  0.1957106 , -0.35382456,  0.19271766,  0.19086328,\n",
       "        -0.28242668,  0.71395789,  0.35665314, -0.11084429],\n",
       "       [ 1.70500616, -0.51095255, -1.12366171, -0.80154548,  1.20190723,\n",
       "        -1.38870164, -1.31713003, -0.3309566 ,  1.80957366,  0.0477863 ,\n",
       "         0.70774614,  0.7218954 ,  1.1596025 ,  1.27641118, -1.78015468,\n",
       "        -0.44773024, -0.45480999,  2.4645941 , -0.72953834, -0.40136365,\n",
       "         1.01881077, -2.16780096, -0.57915835, -0.07982923],\n",
       "       [ 0.00437102,  0.16486832,  0.04780055,  0.05971515, -0.01282451,\n",
       "         0.14685305, -0.03518986, -0.06895366,  0.0477863 ,  0.0572105 ,\n",
       "        -0.05194019, -0.00740542, -0.03360884, -0.01357263,  0.16856114,\n",
       "        -0.1406274 , -0.05084535,  0.05835734, -0.01518147, -0.07473394,\n",
       "         0.01814588, -0.1966671 , -0.14245538,  0.07033651],\n",
       "       [ 0.9229646 , -0.4899975 , -0.80905999, -0.59704037,  0.84705117,\n",
       "        -0.95964236, -0.85314026, -0.27120853,  0.70774614, -0.05194019,\n",
       "         1.10400218,  0.76344369,  1.21993562,  1.25673531, -1.20695338,\n",
       "        -0.25054357, -0.36856241,  0.66847531, -0.50630908, -0.24014469,\n",
       "         0.7671184 , -1.23925691, -0.45188825,  0.03821507],\n",
       "       [ 0.82364086, -0.32764087, -0.64977629, -0.46808727,  0.69510473,\n",
       "        -0.75293249, -0.73059035, -0.23564812,  0.7218954 , -0.00740542,\n",
       "         0.76344369,  0.57207466,  0.90869925,  0.95486931, -0.95686318,\n",
       "        -0.26206822, -0.30847058,  0.80201123, -0.42388491, -0.22933615,\n",
       "         0.62749362, -1.14303379, -0.40497235,  0.03147724],\n",
       "       [ 1.32943271, -0.59254224, -1.06136889, -0.77497858,  1.119167  ,\n",
       "        -1.27221439, -1.15789994, -0.34518083,  1.1596025 , -0.03360884,\n",
       "         1.21993562,  0.90869925,  1.45319616,  1.52020829, -1.60976789,\n",
       "        -0.36007286, -0.46945017,  1.30483308, -0.67259463, -0.33597841,\n",
       "         0.99497541, -1.7559815 , -0.583486  ,  0.01507513],\n",
       "       [ 1.43064652, -0.57258563, -1.11503668, -0.80528916,  1.18868647,\n",
       "        -1.30938407, -1.24878459, -0.3884809 ,  1.27641118, -0.01357263,\n",
       "         1.25673531,  0.95486931,  1.52020829,  1.60010874, -1.66340822,\n",
       "        -0.43203589, -0.51463927,  1.45673173, -0.72210882, -0.38410157,\n",
       "         1.06414982, -1.94777751, -0.66594233,  0.03459989],\n",
       "       [-1.90012886,  1.21088354,  1.49175579,  1.1588058 , -1.4577459 ,\n",
       "         2.1329946 ,  1.40357219,  0.16397119, -1.78015468,  0.16856114,\n",
       "        -1.20695338, -0.95686318, -1.60976789, -1.66340822,  2.65893156,\n",
       "         0.02111487,  0.37527171, -2.35218883,  0.80317948,  0.20078273,\n",
       "        -1.15158874,  1.77878829,  0.20453531,  0.30565148],\n",
       "       [-0.39431652, -0.26323725,  0.18731705,  0.07063485, -0.29822365,\n",
       "        -0.01930253,  0.43600529,  0.29075029, -0.44773024, -0.1406274 ,\n",
       "        -0.25054357, -0.26206822, -0.36007286, -0.43203589,  0.02111487,\n",
       "         0.48408154,  0.27924731, -0.49628053,  0.24071133,  0.29989365,\n",
       "        -0.34724692,  1.04034121,  0.56050931, -0.19892112],\n",
       "       [-0.46682535,  0.02572575,  0.31691173,  0.20424541, -0.37531426,\n",
       "         0.28166992,  0.44126969,  0.1957106 , -0.45480999, -0.05084535,\n",
       "        -0.36856241, -0.30847058, -0.46945017, -0.51463927,  0.37527171,\n",
       "         0.27924731,  0.21912064, -0.51605079,  0.25062159,  0.19870262,\n",
       "        -0.36612713,  0.8259101 ,  0.35916589, -0.08247766],\n",
       "       [ 2.24272139, -0.69058152, -1.42778458, -1.02668502,  1.5102436 ,\n",
       "        -1.83732511, -1.65443814, -0.35382456,  2.4645941 ,  0.05835734,\n",
       "         0.66847531,  0.80201123,  1.30483308,  1.45673173, -2.35218883,\n",
       "        -0.49628053, -0.51605079,  3.48270181, -0.90522014, -0.47134129,\n",
       "         1.24137764, -2.70204803, -0.61458227, -0.18369644],\n",
       "       [-0.75023689,  0.23801784,  0.53814098,  0.38210926, -0.58159367,\n",
       "         0.62730477,  0.629968  ,  0.19271766, -0.72953834, -0.01518147,\n",
       "        -0.50630908, -0.42388491, -0.67259463, -0.72210882,  0.80317948,\n",
       "         0.24071133,  0.25062159, -0.90522014,  0.35752798,  0.20512723,\n",
       "        -0.51594866,  1.02971064,  0.33705813, -0.00957826],\n",
       "       [-0.37711251, -0.07667583,  0.22085987,  0.12541693, -0.2868223 ,\n",
       "         0.13873812,  0.36788837,  0.19086328, -0.40136365, -0.07473394,\n",
       "        -0.24014469, -0.22933615, -0.33597841, -0.38410157,  0.20078273,\n",
       "         0.29989365,  0.19870262, -0.47134129,  0.20512723,  0.19904282,\n",
       "        -0.29545772,  0.76682605,  0.36004577, -0.10111937],\n",
       "       [ 1.06552964, -0.34708392, -0.77644552, -0.55185273,  0.8390565 ,\n",
       "        -0.90013435, -0.90551115, -0.28242668,  1.01881077,  0.01814588,\n",
       "         0.7671184 ,  0.62749362,  0.99497541,  1.06414982, -1.15158874,\n",
       "        -0.34724692, -0.36612713,  1.24137764, -0.51594866, -0.29545772,\n",
       "         0.74823503, -1.47359463, -0.49314494,  0.02167037],\n",
       "       [-2.09867484,  0.2176026 ,  1.36199229,  0.89816188, -1.57535814,\n",
       "         1.34837027,  1.83913997,  0.71395789, -2.16780096, -0.1966671 ,\n",
       "        -1.23925691, -1.14303379, -1.7559815 , -1.94777751,  1.77878829,\n",
       "         1.04034121,  0.8259101 , -2.70204803,  1.02971064,  0.76682605,\n",
       "        -1.47359463,  3.38060753,  1.30737681, -0.20859211],\n",
       "       [-0.56037507, -0.20786861,  0.32565471,  0.1675777 , -0.45108212,\n",
       "         0.12397607,  0.59947754,  0.35665314, -0.57915835, -0.14245538,\n",
       "        -0.45188825, -0.40497235, -0.583486  , -0.66594233,  0.20453531,\n",
       "         0.56050931,  0.35916589, -0.61458227,  0.33705813,  0.36004577,\n",
       "        -0.49314494,  1.30737681,  0.67615686, -0.22323158],\n",
       "       [-0.08321114,  0.23932183,  0.09063811,  0.10053523, -0.04080924,\n",
       "         0.25860743, -0.01621858, -0.11084429, -0.07982923,  0.07033651,\n",
       "         0.03821507,  0.03147724,  0.01507513,  0.03459989,  0.30565148,\n",
       "        -0.19892112, -0.08247766, -0.18369644, -0.00957826, -0.10111937,\n",
       "         0.02167037, -0.20859211, -0.22323158,  0.13240074]])"
      ]
     },
     "execution_count": 51,
     "metadata": {},
     "output_type": "execute_result"
    }
   ],
   "source": [
    "MM"
   ]
  },
  {
   "cell_type": "code",
   "execution_count": 34,
   "metadata": {},
   "outputs": [
    {
     "data": {
      "text/plain": [
       "array([  0.48235155,  11.51764845])"
      ]
     },
     "execution_count": 34,
     "metadata": {},
     "output_type": "execute_result"
    }
   ],
   "source": [
    "eig_va22"
   ]
  },
  {
   "cell_type": "code",
   "execution_count": 35,
   "metadata": {},
   "outputs": [
    {
     "data": {
      "text/plain": [
       "array([[ -7.74596669e-01,   6.32455532e-01,   4.37038369e-17,\n",
       "         -4.37038369e-17],\n",
       "       [  5.16397779e-01,   6.32455532e-01,   4.08248290e-01,\n",
       "         -4.08248290e-01],\n",
       "       [ -2.58198890e-01,  -3.16227766e-01,   9.08248290e-01,\n",
       "          9.17517095e-02],\n",
       "       [  2.58198890e-01,   3.16227766e-01,   9.17517095e-02,\n",
       "          9.08248290e-01]])"
      ]
     },
     "execution_count": 35,
     "metadata": {},
     "output_type": "execute_result"
    }
   ],
   "source": [
    "eig_vc44"
   ]
  },
  {
   "cell_type": "code",
   "execution_count": 36,
   "metadata": {},
   "outputs": [
    {
     "data": {
      "text/plain": [
       "array([[-0.84347065, -0.53717527],\n",
       "       [ 0.53717527, -0.84347065]])"
      ]
     },
     "execution_count": 36,
     "metadata": {},
     "output_type": "execute_result"
    }
   ],
   "source": []
  },
  {
   "cell_type": "code",
   "execution_count": null,
   "metadata": {
    "collapsed": true
   },
   "outputs": [],
   "source": []
  }
 ],
 "metadata": {
  "kernelspec": {
   "display_name": "Python 3",
   "language": "python",
   "name": "python3"
  },
  "language_info": {
   "codemirror_mode": {
    "name": "ipython",
    "version": 3
   },
   "file_extension": ".py",
   "mimetype": "text/x-python",
   "name": "python",
   "nbconvert_exporter": "python",
   "pygments_lexer": "ipython3",
   "version": "3.6.5"
  }
 },
 "nbformat": 4,
 "nbformat_minor": 2
}
