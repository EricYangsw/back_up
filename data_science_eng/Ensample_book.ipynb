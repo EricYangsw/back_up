{
 "cells": [
  {
   "cell_type": "code",
   "execution_count": 1,
   "metadata": {},
   "outputs": [
    {
     "name": "stderr",
     "output_type": "stream",
     "text": [
      "C:\\Users\\Eric\\Anaconda3\\envs\\DataSC\\lib\\site-packages\\sklearn\\cross_validation.py:41: DeprecationWarning: This module was deprecated in version 0.18 in favor of the model_selection module into which all the refactored classes and functions are moved. Also note that the interface of the new CV iterators are different from that of this module. This module will be removed in 0.20.\n",
      "  \"This module will be removed in 0.20.\", DeprecationWarning)\n"
     ]
    }
   ],
   "source": [
    "import pandas as pd\n",
    "import numpy as np\n",
    "import math\n",
    "\n",
    "from sklearn.cross_validation import train_test_split\n",
    "from sklearn.preprocessing import StandardScaler\n",
    "\n",
    "from sklearn.ensemble import RandomForestClassifier\n",
    "from sklearn.metrics import confusion_matrix\n",
    "\n",
    "import matplotlib.pyplot as plt\n",
    "from matplotlib.colors import ListedColormap\n",
    "from matplotlib.colors import ListedColormap"
   ]
  },
  {
   "cell_type": "code",
   "execution_count": 11,
   "metadata": {},
   "outputs": [
    {
     "name": "stdout",
     "output_type": "stream",
     "text": [
      "1048575\n"
     ]
    },
    {
     "data": {
      "text/html": [
       "<div>\n",
       "<style>\n",
       "    .dataframe thead tr:only-child th {\n",
       "        text-align: right;\n",
       "    }\n",
       "\n",
       "    .dataframe thead th {\n",
       "        text-align: left;\n",
       "    }\n",
       "\n",
       "    .dataframe tbody tr th {\n",
       "        vertical-align: top;\n",
       "    }\n",
       "</style>\n",
       "<table border=\"1\" class=\"dataframe\">\n",
       "  <thead>\n",
       "    <tr style=\"text-align: right;\">\n",
       "      <th></th>\n",
       "      <th>Category</th>\n",
       "      <th>Date</th>\n",
       "      <th>X</th>\n",
       "      <th>Y</th>\n",
       "    </tr>\n",
       "  </thead>\n",
       "  <tbody>\n",
       "    <tr>\n",
       "      <th>0</th>\n",
       "      <td>NON-CRIMINAL</td>\n",
       "      <td>01/19/2015 12:00:00 AM</td>\n",
       "      <td>-122.421582</td>\n",
       "      <td>37.761701</td>\n",
       "    </tr>\n",
       "    <tr>\n",
       "      <th>1</th>\n",
       "      <td>ROBBERY</td>\n",
       "      <td>02/01/2015 12:00:00 AM</td>\n",
       "      <td>-122.414406</td>\n",
       "      <td>37.784191</td>\n",
       "    </tr>\n",
       "    <tr>\n",
       "      <th>2</th>\n",
       "      <td>ASSAULT</td>\n",
       "      <td>02/01/2015 12:00:00 AM</td>\n",
       "      <td>-122.414406</td>\n",
       "      <td>37.784191</td>\n",
       "    </tr>\n",
       "    <tr>\n",
       "      <th>3</th>\n",
       "      <td>SECONDARY CODES</td>\n",
       "      <td>02/01/2015 12:00:00 AM</td>\n",
       "      <td>-122.414406</td>\n",
       "      <td>37.784191</td>\n",
       "    </tr>\n",
       "    <tr>\n",
       "      <th>4</th>\n",
       "      <td>VANDALISM</td>\n",
       "      <td>01/27/2015 12:00:00 AM</td>\n",
       "      <td>-122.431119</td>\n",
       "      <td>37.800469</td>\n",
       "    </tr>\n",
       "  </tbody>\n",
       "</table>\n",
       "</div>"
      ],
      "text/plain": [
       "          Category                    Date           X          Y\n",
       "0     NON-CRIMINAL  01/19/2015 12:00:00 AM -122.421582  37.761701\n",
       "1          ROBBERY  02/01/2015 12:00:00 AM -122.414406  37.784191\n",
       "2          ASSAULT  02/01/2015 12:00:00 AM -122.414406  37.784191\n",
       "3  SECONDARY CODES  02/01/2015 12:00:00 AM -122.414406  37.784191\n",
       "4        VANDALISM  01/27/2015 12:00:00 AM -122.431119  37.800469"
      ]
     },
     "execution_count": 11,
     "metadata": {},
     "output_type": "execute_result"
    }
   ],
   "source": [
    "dataset = pd.read_csv('Map_of_Police_Department_Incidents.csv')\n",
    "print(len(dataset))\n",
    "dataset.head()"
   ]
  },
  {
   "cell_type": "code",
   "execution_count": 12,
   "metadata": {},
   "outputs": [
    {
     "data": {
      "text/plain": [
       "243049"
      ]
     },
     "execution_count": 12,
     "metadata": {},
     "output_type": "execute_result"
    }
   ],
   "source": [
    "time = dataset['Date'].values\n",
    "\n",
    "for i in range(len(dataset)):\n",
    "    time[i] = time[i][:10]\n",
    "\n",
    "time = pd.to_datetime(time, format='%m/%d/%Y')\n",
    "dataset['Timeline'] = time\n",
    "del dataset['Date']\n",
    "\n",
    "dataset = dataset[dataset['Timeline'] >= '2014-01-01']\n",
    "dataset = dataset.reset_index(drop=True)\n",
    "len(dataset)"
   ]
  },
  {
   "cell_type": "code",
   "execution_count": 13,
   "metadata": {},
   "outputs": [],
   "source": [
    "ca_list=[]\n",
    "for i in range(len(dataset)):\n",
    "    if dataset['Category'][i] == 'NON-CRIMINAL':\n",
    "        ca_list.append(0)\n",
    "    else:\n",
    "        ca_list.append(1)\n",
    "        \n",
    "dataset['Crime'] = ca_list"
   ]
  },
  {
   "cell_type": "code",
   "execution_count": 14,
   "metadata": {},
   "outputs": [
    {
     "data": {
      "text/html": [
       "<div>\n",
       "<style>\n",
       "    .dataframe thead tr:only-child th {\n",
       "        text-align: right;\n",
       "    }\n",
       "\n",
       "    .dataframe thead th {\n",
       "        text-align: left;\n",
       "    }\n",
       "\n",
       "    .dataframe tbody tr th {\n",
       "        vertical-align: top;\n",
       "    }\n",
       "</style>\n",
       "<table border=\"1\" class=\"dataframe\">\n",
       "  <thead>\n",
       "    <tr style=\"text-align: right;\">\n",
       "      <th></th>\n",
       "      <th>Category</th>\n",
       "      <th>X</th>\n",
       "      <th>Y</th>\n",
       "      <th>Timeline</th>\n",
       "      <th>Crime</th>\n",
       "    </tr>\n",
       "  </thead>\n",
       "  <tbody>\n",
       "    <tr>\n",
       "      <th>0</th>\n",
       "      <td>NON-CRIMINAL</td>\n",
       "      <td>-122.421582</td>\n",
       "      <td>37.761701</td>\n",
       "      <td>2015-01-19</td>\n",
       "      <td>0</td>\n",
       "    </tr>\n",
       "    <tr>\n",
       "      <th>1</th>\n",
       "      <td>ROBBERY</td>\n",
       "      <td>-122.414406</td>\n",
       "      <td>37.784191</td>\n",
       "      <td>2015-02-01</td>\n",
       "      <td>1</td>\n",
       "    </tr>\n",
       "    <tr>\n",
       "      <th>2</th>\n",
       "      <td>ASSAULT</td>\n",
       "      <td>-122.414406</td>\n",
       "      <td>37.784191</td>\n",
       "      <td>2015-02-01</td>\n",
       "      <td>1</td>\n",
       "    </tr>\n",
       "    <tr>\n",
       "      <th>3</th>\n",
       "      <td>SECONDARY CODES</td>\n",
       "      <td>-122.414406</td>\n",
       "      <td>37.784191</td>\n",
       "      <td>2015-02-01</td>\n",
       "      <td>1</td>\n",
       "    </tr>\n",
       "    <tr>\n",
       "      <th>4</th>\n",
       "      <td>VANDALISM</td>\n",
       "      <td>-122.431119</td>\n",
       "      <td>37.800469</td>\n",
       "      <td>2015-01-27</td>\n",
       "      <td>1</td>\n",
       "    </tr>\n",
       "  </tbody>\n",
       "</table>\n",
       "</div>"
      ],
      "text/plain": [
       "          Category           X          Y   Timeline  Crime\n",
       "0     NON-CRIMINAL -122.421582  37.761701 2015-01-19      0\n",
       "1          ROBBERY -122.414406  37.784191 2015-02-01      1\n",
       "2          ASSAULT -122.414406  37.784191 2015-02-01      1\n",
       "3  SECONDARY CODES -122.414406  37.784191 2015-02-01      1\n",
       "4        VANDALISM -122.431119  37.800469 2015-01-27      1"
      ]
     },
     "execution_count": 14,
     "metadata": {},
     "output_type": "execute_result"
    }
   ],
   "source": [
    "dataset.head()"
   ]
  },
  {
   "cell_type": "code",
   "execution_count": 24,
   "metadata": {},
   "outputs": [
    {
     "data": {
      "text/plain": [
       "(115, 151)"
      ]
     },
     "execution_count": 24,
     "metadata": {},
     "output_type": "execute_result"
    }
   ],
   "source": [
    "X1, X2 = np.meshgrid(np.arange(start=-514, stop=-363, step=1),\n",
    "                     np.arange(start= 706, stop= 821, step=1)\n",
    "                    )\n",
    "X1.shape"
   ]
  },
  {
   "cell_type": "code",
   "execution_count": 35,
   "metadata": {},
   "outputs": [],
   "source": [
    "X_list = []\n",
    "Y_list = []\n",
    "for i in range(len(dataset)):\n",
    "    X_list.append(math.modf(dataset['X'][i])[0] * 1000)\n",
    "    Y_list.append(math.modf(dataset['Y'][i])[0] * 1000)\n",
    "\n",
    "dataset['x1'] = X_list\n",
    "dataset['x2'] = Y_list    "
   ]
  },
  {
   "cell_type": "code",
   "execution_count": 41,
   "metadata": {},
   "outputs": [],
   "source": [
    "map_dic = {}\n",
    "\n",
    "no = 1\n",
    "for i in range(-514, -363):\n",
    "    for j in range(706, 821):\n",
    "        map_dic[i,j] = no\n",
    "        no += 1 \n",
    "        "
   ]
  },
  {
   "cell_type": "code",
   "execution_count": null,
   "metadata": {},
   "outputs": [],
   "source": []
  },
  {
   "cell_type": "code",
   "execution_count": null,
   "metadata": {},
   "outputs": [],
   "source": [
    "count_dic ={}\n",
    "for i in range(len(dataset)):\n",
    "    xx = math.modf(dataset['x1'][i])[1]\n",
    "    yy = math.modf(dataset['x2'][i])[1]\n",
    "    \n",
    "    mm = (xx, yy)\n",
    "    \n",
    "    count_dic[map_dic[mm]] +=1\n",
    "    "
   ]
  },
  {
   "cell_type": "code",
   "execution_count": null,
   "metadata": {},
   "outputs": [],
   "source": []
  },
  {
   "cell_type": "code",
   "execution_count": 7,
   "metadata": {},
   "outputs": [],
   "source": [
    "#dataset = dataset.set_index(dataset['Timeline'],drop=True)\n",
    "#dataset = dataset.groupby(dataset.index.date).sum()"
   ]
  },
  {
   "cell_type": "code",
   "execution_count": null,
   "metadata": {},
   "outputs": [],
   "source": []
  },
  {
   "cell_type": "code",
   "execution_count": 16,
   "metadata": {
    "collapsed": true
   },
   "outputs": [],
   "source": [
    "\n",
    "                      "
   ]
  },
  {
   "cell_type": "code",
   "execution_count": null,
   "metadata": {
    "collapsed": true
   },
   "outputs": [],
   "source": []
  }
 ],
 "metadata": {
  "kernelspec": {
   "display_name": "Python 3",
   "language": "python",
   "name": "python3"
  },
  "language_info": {
   "codemirror_mode": {
    "name": "ipython",
    "version": 3
   },
   "file_extension": ".py",
   "mimetype": "text/x-python",
   "name": "python",
   "nbconvert_exporter": "python",
   "pygments_lexer": "ipython3",
   "version": "3.6.2"
  }
 },
 "nbformat": 4,
 "nbformat_minor": 2
}
