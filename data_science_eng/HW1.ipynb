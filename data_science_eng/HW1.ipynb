{
 "cells": [
  {
   "cell_type": "code",
   "execution_count": 1,
   "metadata": {
    "collapsed": true
   },
   "outputs": [],
   "source": [
    "import numpy as np\n",
    "import pandas as pd\n",
    "import math"
   ]
  },
  {
   "cell_type": "markdown",
   "metadata": {},
   "source": [
    "# 1"
   ]
  },
  {
   "cell_type": "code",
   "execution_count": 2,
   "metadata": {
    "collapsed": true
   },
   "outputs": [],
   "source": [
    "def gc_content (seq):\n",
    "    count = 0\n",
    "    for i in seq:\n",
    "        if i =='G' or i == 'C':\n",
    "            count += 1\n",
    "    print(count/len(seq))\n",
    "    return count/len(seq)"
   ]
  },
  {
   "cell_type": "code",
   "execution_count": 3,
   "metadata": {},
   "outputs": [
    {
     "name": "stdout",
     "output_type": "stream",
     "text": [
      "0.5\n"
     ]
    },
    {
     "data": {
      "text/plain": [
       "0.5"
      ]
     },
     "execution_count": 3,
     "metadata": {},
     "output_type": "execute_result"
    }
   ],
   "source": [
    "seq50 = 'AACCTTGG'\n",
    "gc_content(seq50)"
   ]
  },
  {
   "cell_type": "code",
   "execution_count": 4,
   "metadata": {},
   "outputs": [
    {
     "name": "stdout",
     "output_type": "stream",
     "text": [
      "0.75\n"
     ]
    },
    {
     "data": {
      "text/plain": [
       "0.75"
      ]
     },
     "execution_count": 4,
     "metadata": {},
     "output_type": "execute_result"
    }
   ],
   "source": [
    "seq75 = 'ATCCCGGG'\n",
    "gc_content(seq75)"
   ]
  },
  {
   "cell_type": "code",
   "execution_count": 5,
   "metadata": {},
   "outputs": [
    {
     "name": "stdout",
     "output_type": "stream",
     "text": [
      "0.4\n"
     ]
    },
    {
     "data": {
      "text/plain": [
       "0.4"
      ]
     },
     "execution_count": 5,
     "metadata": {},
     "output_type": "execute_result"
    }
   ],
   "source": [
    "seq40 = 'ATATTTCGCG'\n",
    "gc_content(seq40)"
   ]
  },
  {
   "cell_type": "code",
   "execution_count": 8,
   "metadata": {},
   "outputs": [
    {
     "data": {
      "text/plain": [
       "'__main__'"
      ]
     },
     "execution_count": 8,
     "metadata": {},
     "output_type": "execute_result"
    }
   ],
   "source": [
    "__name__"
   ]
  },
  {
   "cell_type": "markdown",
   "metadata": {},
   "source": [
    "# 2"
   ]
  },
  {
   "cell_type": "code",
   "execution_count": 15,
   "metadata": {
    "collapsed": true
   },
   "outputs": [],
   "source": [
    "def bisection(f, a, b, eps = 0.00001):\n",
    "    \n",
    "    if f(a)*f(b) > 0:\n",
    "        print('plrase enter another a & b')\n",
    "        return\n",
    "    \n",
    "    c = (a+b)/2\n",
    "    ite = 0\n",
    "    \n",
    "    while abs(a-b) > eps:\n",
    "        if f(c) == 0:\n",
    "            b = c\n",
    "        elif f(c)*f(b) > 0:\n",
    "            b = c\n",
    "        else:\n",
    "            a = c\n",
    "        ite += 1\n",
    "        c = (a+b)/2\n",
    "       \n",
    "        if ite == 100:\n",
    "            break\n",
    "        print('Iteration: {} interval = [ {} , {} ]'.format(ite,a,b))\n",
    "        \n",
    "    print('The root is {} found in {} iterations'.format(c, ite))\n",
    "    if abs(f(a)) < f(b) or f(b)==0:\n",
    "        return a, ite\n",
    "    else:\n",
    "        return b, ite\n",
    "        "
   ]
  },
  {
   "cell_type": "code",
   "execution_count": 16,
   "metadata": {},
   "outputs": [
    {
     "name": "stdout",
     "output_type": "stream",
     "text": [
      "Iteration: 1 interval = [ 0 , 1.5 ]\n",
      "Iteration: 2 interval = [ 0.75 , 1.5 ]\n",
      "Iteration: 3 interval = [ 1.125 , 1.5 ]\n",
      "Iteration: 4 interval = [ 1.3125 , 1.5 ]\n",
      "Iteration: 5 interval = [ 1.40625 , 1.5 ]\n",
      "Iteration: 6 interval = [ 1.453125 , 1.5 ]\n",
      "Iteration: 7 interval = [ 1.4765625 , 1.5 ]\n",
      "Iteration: 8 interval = [ 1.48828125 , 1.5 ]\n",
      "Iteration: 9 interval = [ 1.494140625 , 1.5 ]\n",
      "Iteration: 10 interval = [ 1.4970703125 , 1.5 ]\n",
      "Iteration: 11 interval = [ 1.49853515625 , 1.5 ]\n",
      "Iteration: 12 interval = [ 1.499267578125 , 1.5 ]\n",
      "Iteration: 13 interval = [ 1.4996337890625 , 1.5 ]\n",
      "Iteration: 14 interval = [ 1.49981689453125 , 1.5 ]\n",
      "Iteration: 15 interval = [ 1.499908447265625 , 1.5 ]\n",
      "Iteration: 16 interval = [ 1.4999542236328125 , 1.5 ]\n",
      "Iteration: 17 interval = [ 1.4999771118164062 , 1.5 ]\n",
      "Iteration: 18 interval = [ 1.4999885559082031 , 1.5 ]\n",
      "Iteration: 19 interval = [ 1.4999942779541016 , 1.5 ]\n",
      "The root is 1.4999971389770508 found in 19 iterations\n"
     ]
    },
    {
     "data": {
      "text/plain": [
       "(1.4999942779541016, 19)"
      ]
     },
     "execution_count": 16,
     "metadata": {},
     "output_type": "execute_result"
    }
   ],
   "source": [
    "def f(x):\n",
    "    return 2*x-3\n",
    "bisection(f,0,3)"
   ]
  },
  {
   "cell_type": "code",
   "execution_count": 17,
   "metadata": {},
   "outputs": [
    {
     "name": "stdout",
     "output_type": "stream",
     "text": [
      "Iteration: 1 interval = [ -0.5 , 1 ]\n",
      "Iteration: 2 interval = [ -0.5 , 0.25 ]\n",
      "Iteration: 3 interval = [ -0.125 , 0.25 ]\n",
      "Iteration: 4 interval = [ -0.125 , 0.0625 ]\n",
      "Iteration: 5 interval = [ -0.03125 , 0.0625 ]\n",
      "Iteration: 6 interval = [ -0.03125 , 0.015625 ]\n",
      "Iteration: 7 interval = [ -0.0078125 , 0.015625 ]\n",
      "Iteration: 8 interval = [ -0.0078125 , 0.00390625 ]\n",
      "Iteration: 9 interval = [ -0.001953125 , 0.00390625 ]\n",
      "Iteration: 10 interval = [ -0.001953125 , 0.0009765625 ]\n",
      "Iteration: 11 interval = [ -0.00048828125 , 0.0009765625 ]\n",
      "Iteration: 12 interval = [ -0.00048828125 , 0.000244140625 ]\n",
      "Iteration: 13 interval = [ -0.0001220703125 , 0.000244140625 ]\n",
      "Iteration: 14 interval = [ -0.0001220703125 , 6.103515625e-05 ]\n",
      "Iteration: 15 interval = [ -3.0517578125e-05 , 6.103515625e-05 ]\n",
      "Iteration: 16 interval = [ -3.0517578125e-05 , 1.52587890625e-05 ]\n",
      "Iteration: 17 interval = [ -7.62939453125e-06 , 1.52587890625e-05 ]\n",
      "Iteration: 18 interval = [ -7.62939453125e-06 , 3.814697265625e-06 ]\n",
      "Iteration: 19 interval = [ -1.9073486328125e-06 , 3.814697265625e-06 ]\n",
      "Iteration: 20 interval = [ -1.9073486328125e-06 , 9.5367431640625e-07 ]\n",
      "Iteration: 21 interval = [ -4.76837158203125e-07 , 9.5367431640625e-07 ]\n",
      "Iteration: 22 interval = [ -4.76837158203125e-07 , 2.384185791015625e-07 ]\n",
      "The root is -1.1920928955078125e-07 found in 22 iterations\n"
     ]
    },
    {
     "data": {
      "text/plain": [
       "(2.384185791015625e-07, 22)"
      ]
     },
     "execution_count": 17,
     "metadata": {},
     "output_type": "execute_result"
    }
   ],
   "source": [
    "def g(x):\n",
    "    return x-(x-1)*math.sin(x)\n",
    "bisection(g,-2,1,0.000001)"
   ]
  },
  {
   "cell_type": "markdown",
   "metadata": {},
   "source": [
    "# 3"
   ]
  },
  {
   "cell_type": "code",
   "execution_count": 2,
   "metadata": {
    "collapsed": true
   },
   "outputs": [],
   "source": [
    "def div(f,div_f,x):\n",
    "    h_value = [0.1, 0.00001]\n",
    "    for h in h_value:\n",
    "        div_value = (f(x+h)-f(x-h)) / (2*h)\n",
    "        real = div_f(x)\n",
    "        Error = abs(div_value - real)\n",
    "        \n",
    "        print('when h = {}, exact = {}, approximate = {}, Error = {}'\n",
    "              .format(h, real, div_value, Error)) \n",
    "    return"
   ]
  },
  {
   "cell_type": "code",
   "execution_count": 3,
   "metadata": {},
   "outputs": [
    {
     "name": "stdout",
     "output_type": "stream",
     "text": [
      "when h = 0.1, exact = 1.0, approximate = 1.001667500198441, Error = 0.0016675001984409743\n",
      "when h = 1e-05, exact = 1.0, approximate = 1.0000000000121023, Error = 1.2102319146833906e-11\n"
     ]
    }
   ],
   "source": [
    "def ex(x):\n",
    "    return math.exp(x)\n",
    "\n",
    "def div_ex(x):\n",
    "    return math.exp(x)\n",
    "\n",
    "div(ex, div_ex, 0)"
   ]
  },
  {
   "cell_type": "code",
   "execution_count": 27,
   "metadata": {},
   "outputs": [
    {
     "name": "stdout",
     "output_type": "stream",
     "text": [
      "when h = 0.1, exact = 0.0, approximate = 0.0, Error = 0.0\n",
      "when h = 1e-05, exact = 0.0, approximate = 0.0, Error = 0.0\n"
     ]
    }
   ],
   "source": [
    "def t(x):\n",
    "    return math.exp(-2*(x*x))\n",
    "\n",
    "def div_t(x):\n",
    "    return math.exp(-2*(x*x))*(-4*x)\n",
    "\n",
    "\n",
    "div(t,div_t,0)"
   ]
  },
  {
   "cell_type": "code",
   "execution_count": 28,
   "metadata": {},
   "outputs": [
    {
     "name": "stdout",
     "output_type": "stream",
     "text": [
      "when h = 0.1, exact = 2.4492935982947064e-16, approximate = 0.0, Error = 2.4492935982947064e-16\n",
      "when h = 1e-05, exact = 2.4492935982947064e-16, approximate = 0.0, Error = 2.4492935982947064e-16\n"
     ]
    }
   ],
   "source": [
    "def cos(x):\n",
    "    return math.cos(x)\n",
    "\n",
    "def div_cos(x):\n",
    "    return -1*math.sin(x)\n",
    "\n",
    "div(cos,div_cos,math.pi*2)"
   ]
  },
  {
   "cell_type": "code",
   "execution_count": 29,
   "metadata": {},
   "outputs": [
    {
     "name": "stdout",
     "output_type": "stream",
     "text": [
      "when h = 0.1, exact = 1.0, approximate = 1.003353477310756, Error = 0.00335347731075597\n",
      "when h = 1e-05, exact = 1.0, approximate = 1.0000000000343332, Error = 3.4333202947323116e-11\n"
     ]
    }
   ],
   "source": [
    "def ln(x):\n",
    "    return math.log(x)\n",
    "\n",
    "def div_ln(x):\n",
    "    return 1/x\n",
    "\n",
    "div(ln,div_ln,1)"
   ]
  },
  {
   "cell_type": "code",
   "execution_count": 2,
   "metadata": {
    "collapsed": true
   },
   "outputs": [],
   "source": [
    "\n",
    "# coding: utf-8\n",
    "\n",
    "# In[ ]:\n",
    "\n",
    "def bisection(f,a,b,eps=10**(-5)):\n",
    "    count=0\n",
    "    while ( b - a > eps):\n",
    "        m=(a+b)/2.0\n",
    "        count += 1\n",
    "        if (f(a)*f(m)<=0):\n",
    "            b = m\n",
    "        else:\n",
    "            a = m\n",
    "        print (\"Iteration: %d interval = [ %g , %g ]\" % (count,a,b)),f(m)*f(a)\n",
    "    return (m,count)"
   ]
  },
  {
   "cell_type": "code",
   "execution_count": 5,
   "metadata": {},
   "outputs": [
    {
     "name": "stdout",
     "output_type": "stream",
     "text": [
      "Iteration: 1 interval = [ -0.5 , 1 ]\n",
      "Iteration: 2 interval = [ -0.5 , 0.25 ]\n",
      "Iteration: 3 interval = [ -0.125 , 0.25 ]\n",
      "Iteration: 4 interval = [ -0.125 , 0.0625 ]\n",
      "Iteration: 5 interval = [ -0.03125 , 0.0625 ]\n",
      "Iteration: 6 interval = [ -0.03125 , 0.015625 ]\n",
      "Iteration: 7 interval = [ -0.0078125 , 0.015625 ]\n",
      "Iteration: 8 interval = [ -0.0078125 , 0.00390625 ]\n",
      "Iteration: 9 interval = [ -0.00195312 , 0.00390625 ]\n",
      "Iteration: 10 interval = [ -0.00195312 , 0.000976562 ]\n",
      "Iteration: 11 interval = [ -0.000488281 , 0.000976562 ]\n",
      "Iteration: 12 interval = [ -0.000488281 , 0.000244141 ]\n",
      "Iteration: 13 interval = [ -0.00012207 , 0.000244141 ]\n",
      "Iteration: 14 interval = [ -0.00012207 , 6.10352e-05 ]\n",
      "Iteration: 15 interval = [ -3.05176e-05 , 6.10352e-05 ]\n",
      "Iteration: 16 interval = [ -3.05176e-05 , 1.52588e-05 ]\n",
      "Iteration: 17 interval = [ -7.62939e-06 , 1.52588e-05 ]\n",
      "Iteration: 18 interval = [ -7.62939e-06 , 3.8147e-06 ]\n",
      "Iteration: 19 interval = [ -1.90735e-06 , 3.8147e-06 ]\n",
      "Iteration: 20 interval = [ -1.90735e-06 , 9.53674e-07 ]\n",
      "Iteration: 21 interval = [ -4.76837e-07 , 9.53674e-07 ]\n",
      "Iteration: 22 interval = [ -4.76837e-07 , 2.38419e-07 ]\n"
     ]
    },
    {
     "data": {
      "text/plain": [
       "(2.384185791015625e-07, 22)"
      ]
     },
     "execution_count": 5,
     "metadata": {},
     "output_type": "execute_result"
    }
   ],
   "source": [
    "def g(x):\n",
    "    return x-(x-1)*math.sin(x)\n",
    "bisection(g,-2,1,0.000001)"
   ]
  }
 ],
 "metadata": {
  "kernelspec": {
   "display_name": "Python 3",
   "language": "python",
   "name": "python3"
  },
  "language_info": {
   "codemirror_mode": {
    "name": "ipython",
    "version": 3
   },
   "file_extension": ".py",
   "mimetype": "text/x-python",
   "name": "python",
   "nbconvert_exporter": "python",
   "pygments_lexer": "ipython3",
   "version": "3.6.2"
  }
 },
 "nbformat": 4,
 "nbformat_minor": 2
}
