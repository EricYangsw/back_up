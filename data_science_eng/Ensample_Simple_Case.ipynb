{
 "cells": [
  {
   "cell_type": "code",
   "execution_count": 1,
   "metadata": {},
   "outputs": [
    {
     "name": "stderr",
     "output_type": "stream",
     "text": [
      "C:\\Users\\Eric\\Anaconda3\\envs\\DataSC\\lib\\site-packages\\sklearn\\cross_validation.py:41: DeprecationWarning: This module was deprecated in version 0.18 in favor of the model_selection module into which all the refactored classes and functions are moved. Also note that the interface of the new CV iterators are different from that of this module. This module will be removed in 0.20.\n",
      "  \"This module will be removed in 0.20.\", DeprecationWarning)\n"
     ]
    }
   ],
   "source": [
    "import pandas as pd\n",
    "import numpy as np\n",
    "\n",
    "from sklearn.cross_validation import train_test_split\n",
    "from sklearn.preprocessing import MinMaxScaler\n",
    "\n",
    "from sklearn.ensemble import RandomForestClassifier\n",
    "from sklearn.tree import DecisionTreeClassifier\n",
    "from sklearn.tree import export_graphviz\n",
    "from sklearn.metrics import confusion_matrix\n",
    "\n",
    "import matplotlib.pyplot as plt\n",
    "from matplotlib.colors import ListedColormap"
   ]
  },
  {
   "cell_type": "code",
   "execution_count": 2,
   "metadata": {},
   "outputs": [
    {
     "data": {
      "text/html": [
       "<div>\n",
       "<style>\n",
       "    .dataframe thead tr:only-child th {\n",
       "        text-align: right;\n",
       "    }\n",
       "\n",
       "    .dataframe thead th {\n",
       "        text-align: left;\n",
       "    }\n",
       "\n",
       "    .dataframe tbody tr th {\n",
       "        vertical-align: top;\n",
       "    }\n",
       "</style>\n",
       "<table border=\"1\" class=\"dataframe\">\n",
       "  <thead>\n",
       "    <tr style=\"text-align: right;\">\n",
       "      <th></th>\n",
       "      <th>PassengerId</th>\n",
       "      <th>Survived</th>\n",
       "      <th>Pclass</th>\n",
       "      <th>Name</th>\n",
       "      <th>Sex</th>\n",
       "      <th>Age</th>\n",
       "      <th>SibSp</th>\n",
       "      <th>Parch</th>\n",
       "      <th>Ticket</th>\n",
       "      <th>Fare</th>\n",
       "      <th>Cabin</th>\n",
       "      <th>Embarked</th>\n",
       "    </tr>\n",
       "  </thead>\n",
       "  <tbody>\n",
       "    <tr>\n",
       "      <th>0</th>\n",
       "      <td>1</td>\n",
       "      <td>0</td>\n",
       "      <td>3</td>\n",
       "      <td>Braund, Mr. Owen Harris</td>\n",
       "      <td>male</td>\n",
       "      <td>22.0</td>\n",
       "      <td>1</td>\n",
       "      <td>0</td>\n",
       "      <td>A/5 21171</td>\n",
       "      <td>7.2500</td>\n",
       "      <td>NaN</td>\n",
       "      <td>S</td>\n",
       "    </tr>\n",
       "    <tr>\n",
       "      <th>1</th>\n",
       "      <td>2</td>\n",
       "      <td>1</td>\n",
       "      <td>1</td>\n",
       "      <td>Cumings, Mrs. John Bradley (Florence Briggs Th...</td>\n",
       "      <td>female</td>\n",
       "      <td>38.0</td>\n",
       "      <td>1</td>\n",
       "      <td>0</td>\n",
       "      <td>PC 17599</td>\n",
       "      <td>71.2833</td>\n",
       "      <td>C85</td>\n",
       "      <td>C</td>\n",
       "    </tr>\n",
       "    <tr>\n",
       "      <th>2</th>\n",
       "      <td>3</td>\n",
       "      <td>1</td>\n",
       "      <td>3</td>\n",
       "      <td>Heikkinen, Miss. Laina</td>\n",
       "      <td>female</td>\n",
       "      <td>26.0</td>\n",
       "      <td>0</td>\n",
       "      <td>0</td>\n",
       "      <td>STON/O2. 3101282</td>\n",
       "      <td>7.9250</td>\n",
       "      <td>NaN</td>\n",
       "      <td>S</td>\n",
       "    </tr>\n",
       "    <tr>\n",
       "      <th>3</th>\n",
       "      <td>4</td>\n",
       "      <td>1</td>\n",
       "      <td>1</td>\n",
       "      <td>Futrelle, Mrs. Jacques Heath (Lily May Peel)</td>\n",
       "      <td>female</td>\n",
       "      <td>35.0</td>\n",
       "      <td>1</td>\n",
       "      <td>0</td>\n",
       "      <td>113803</td>\n",
       "      <td>53.1000</td>\n",
       "      <td>C123</td>\n",
       "      <td>S</td>\n",
       "    </tr>\n",
       "    <tr>\n",
       "      <th>4</th>\n",
       "      <td>5</td>\n",
       "      <td>0</td>\n",
       "      <td>3</td>\n",
       "      <td>Allen, Mr. William Henry</td>\n",
       "      <td>male</td>\n",
       "      <td>35.0</td>\n",
       "      <td>0</td>\n",
       "      <td>0</td>\n",
       "      <td>373450</td>\n",
       "      <td>8.0500</td>\n",
       "      <td>NaN</td>\n",
       "      <td>S</td>\n",
       "    </tr>\n",
       "  </tbody>\n",
       "</table>\n",
       "</div>"
      ],
      "text/plain": [
       "   PassengerId  Survived  Pclass  \\\n",
       "0            1         0       3   \n",
       "1            2         1       1   \n",
       "2            3         1       3   \n",
       "3            4         1       1   \n",
       "4            5         0       3   \n",
       "\n",
       "                                                Name     Sex   Age  SibSp  \\\n",
       "0                            Braund, Mr. Owen Harris    male  22.0      1   \n",
       "1  Cumings, Mrs. John Bradley (Florence Briggs Th...  female  38.0      1   \n",
       "2                             Heikkinen, Miss. Laina  female  26.0      0   \n",
       "3       Futrelle, Mrs. Jacques Heath (Lily May Peel)  female  35.0      1   \n",
       "4                           Allen, Mr. William Henry    male  35.0      0   \n",
       "\n",
       "   Parch            Ticket     Fare Cabin Embarked  \n",
       "0      0         A/5 21171   7.2500   NaN        S  \n",
       "1      0          PC 17599  71.2833   C85        C  \n",
       "2      0  STON/O2. 3101282   7.9250   NaN        S  \n",
       "3      0            113803  53.1000  C123        S  \n",
       "4      0            373450   8.0500   NaN        S  "
      ]
     },
     "execution_count": 2,
     "metadata": {},
     "output_type": "execute_result"
    }
   ],
   "source": [
    "#read the data\n",
    "dataset = pd.read_csv('train.csv')\n",
    "dataset.head()"
   ]
  },
  {
   "cell_type": "code",
   "execution_count": 3,
   "metadata": {},
   "outputs": [
    {
     "data": {
      "text/plain": [
       "' \\n1.Data describe:\\n    Titanic, the famous tragedy, sideswiped an iceberg during its maiden voyage.\\n    There are some information of passengers been record in this dataset.  \\n    In a competition, this dataset was used to predict the passengers survival probability.\\n\\n2.Feature:\\n    Survived: 0 = No, 1 = Yes\\n    Pclass: Ticket class, 1 = 1st(Upper), 2 = 2nd, 3 = 3rd(Lower)\\n    SibSp: The number of siblings / spouses aboard the Titanic\\n    Parch: The number of parents / children aboard the Titanic\\n    Fare: Passenger fare\\n    Cabin: Cabin number\\n    Embarked: Port of Embarkation，C = Cherbourg, Q = Queenstown, S = Southampton\\n'"
      ]
     },
     "execution_count": 3,
     "metadata": {},
     "output_type": "execute_result"
    }
   ],
   "source": [
    "''' \n",
    "1.Data describe:\n",
    "    Titanic, the famous tragedy, sideswiped an iceberg during its maiden voyage.\n",
    "    There are some information of passengers been record in this dataset.  \n",
    "    In a competition, this dataset was used to predict the passengers survival probability.\n",
    "\n",
    "2.Feature:\n",
    "    Survived: 0 = No, 1 = Yes\n",
    "    Pclass: Ticket class, 1 = 1st(Upper), 2 = 2nd, 3 = 3rd(Lower)\n",
    "    SibSp: The number of siblings / spouses aboard the Titanic\n",
    "    Parch: The number of parents / children aboard the Titanic\n",
    "    Fare: Passenger fare\n",
    "    Cabin: Cabin number\n",
    "    Embarked: Port of Embarkation，C = Cherbourg, Q = Queenstown, S = Southampton\n",
    "'''"
   ]
  },
  {
   "cell_type": "markdown",
   "metadata": {},
   "source": [
    "# Data Preprocessing"
   ]
  },
  {
   "cell_type": "code",
   "execution_count": 4,
   "metadata": {
    "collapsed": true
   },
   "outputs": [],
   "source": [
    "# transform string the to binary value\n",
    "dataset['Sex'] = dataset['Sex'].map({'male':1,'female':0}).astype(int)\n",
    "\n",
    "# suing onehot encoding transform Embarked feature to dummy variable\n",
    "dataset = pd.get_dummies(data=dataset, columns=['Embarked'])\n",
    "\n",
    "# using average value to replace the Nan\n",
    "age_mean = dataset['Age'].mean()\n",
    "dataset['Age'] = dataset['Age'].fillna(age_mean)\n",
    "\n",
    "fare_mean = dataset['Fare'].mean()\n",
    "dataset['Fare'] = dataset['Fare'].fillna(fare_mean)\n",
    "# df.fillna:  Fill NA/NaN values using the specified method\n",
    "\n",
    "\n",
    "# delete some string feature that we want't to deal with\n",
    "del dataset['PassengerId']\n",
    "del dataset['Cabin']\n",
    "del dataset['Ticket']\n",
    "del dataset['Name']"
   ]
  },
  {
   "cell_type": "code",
   "execution_count": 5,
   "metadata": {
    "collapsed": true
   },
   "outputs": [],
   "source": [
    "# standardization\n",
    "#mms = MinMaxScaler()\n",
    "#dataset['Age'] = mms.fit_transform(dataset['Age'].reshape(-1,1))\n",
    "#dataset['Fare'] = mms.fit_transform(dataset['Fare'].reshape(-1,1))"
   ]
  },
  {
   "cell_type": "code",
   "execution_count": 6,
   "metadata": {},
   "outputs": [
    {
     "data": {
      "text/html": [
       "<div>\n",
       "<style>\n",
       "    .dataframe thead tr:only-child th {\n",
       "        text-align: right;\n",
       "    }\n",
       "\n",
       "    .dataframe thead th {\n",
       "        text-align: left;\n",
       "    }\n",
       "\n",
       "    .dataframe tbody tr th {\n",
       "        vertical-align: top;\n",
       "    }\n",
       "</style>\n",
       "<table border=\"1\" class=\"dataframe\">\n",
       "  <thead>\n",
       "    <tr style=\"text-align: right;\">\n",
       "      <th></th>\n",
       "      <th>Survived</th>\n",
       "      <th>Pclass</th>\n",
       "      <th>Sex</th>\n",
       "      <th>Age</th>\n",
       "      <th>SibSp</th>\n",
       "      <th>Parch</th>\n",
       "      <th>Fare</th>\n",
       "      <th>Embarked_C</th>\n",
       "      <th>Embarked_Q</th>\n",
       "      <th>Embarked_S</th>\n",
       "    </tr>\n",
       "  </thead>\n",
       "  <tbody>\n",
       "    <tr>\n",
       "      <th>0</th>\n",
       "      <td>0</td>\n",
       "      <td>3</td>\n",
       "      <td>1</td>\n",
       "      <td>22.0</td>\n",
       "      <td>1</td>\n",
       "      <td>0</td>\n",
       "      <td>7.2500</td>\n",
       "      <td>0</td>\n",
       "      <td>0</td>\n",
       "      <td>1</td>\n",
       "    </tr>\n",
       "    <tr>\n",
       "      <th>1</th>\n",
       "      <td>1</td>\n",
       "      <td>1</td>\n",
       "      <td>0</td>\n",
       "      <td>38.0</td>\n",
       "      <td>1</td>\n",
       "      <td>0</td>\n",
       "      <td>71.2833</td>\n",
       "      <td>1</td>\n",
       "      <td>0</td>\n",
       "      <td>0</td>\n",
       "    </tr>\n",
       "    <tr>\n",
       "      <th>2</th>\n",
       "      <td>1</td>\n",
       "      <td>3</td>\n",
       "      <td>0</td>\n",
       "      <td>26.0</td>\n",
       "      <td>0</td>\n",
       "      <td>0</td>\n",
       "      <td>7.9250</td>\n",
       "      <td>0</td>\n",
       "      <td>0</td>\n",
       "      <td>1</td>\n",
       "    </tr>\n",
       "    <tr>\n",
       "      <th>3</th>\n",
       "      <td>1</td>\n",
       "      <td>1</td>\n",
       "      <td>0</td>\n",
       "      <td>35.0</td>\n",
       "      <td>1</td>\n",
       "      <td>0</td>\n",
       "      <td>53.1000</td>\n",
       "      <td>0</td>\n",
       "      <td>0</td>\n",
       "      <td>1</td>\n",
       "    </tr>\n",
       "    <tr>\n",
       "      <th>4</th>\n",
       "      <td>0</td>\n",
       "      <td>3</td>\n",
       "      <td>1</td>\n",
       "      <td>35.0</td>\n",
       "      <td>0</td>\n",
       "      <td>0</td>\n",
       "      <td>8.0500</td>\n",
       "      <td>0</td>\n",
       "      <td>0</td>\n",
       "      <td>1</td>\n",
       "    </tr>\n",
       "  </tbody>\n",
       "</table>\n",
       "</div>"
      ],
      "text/plain": [
       "   Survived  Pclass  Sex   Age  SibSp  Parch     Fare  Embarked_C  Embarked_Q  \\\n",
       "0         0       3    1  22.0      1      0   7.2500           0           0   \n",
       "1         1       1    0  38.0      1      0  71.2833           1           0   \n",
       "2         1       3    0  26.0      0      0   7.9250           0           0   \n",
       "3         1       1    0  35.0      1      0  53.1000           0           0   \n",
       "4         0       3    1  35.0      0      0   8.0500           0           0   \n",
       "\n",
       "   Embarked_S  \n",
       "0           1  \n",
       "1           0  \n",
       "2           1  \n",
       "3           1  \n",
       "4           1  "
      ]
     },
     "execution_count": 6,
     "metadata": {},
     "output_type": "execute_result"
    }
   ],
   "source": [
    "dataset.head()"
   ]
  },
  {
   "cell_type": "code",
   "execution_count": 7,
   "metadata": {
    "collapsed": true
   },
   "outputs": [],
   "source": [
    "# X: input of model,  y: output of model \n",
    "X = dataset.iloc[:,[i for i in range(1,10)]].values\n",
    "y = dataset.iloc[:,0].values"
   ]
  },
  {
   "cell_type": "markdown",
   "metadata": {},
   "source": [
    "# Simple Decision Tree with two features"
   ]
  },
  {
   "cell_type": "code",
   "execution_count": 8,
   "metadata": {},
   "outputs": [
    {
     "data": {
      "text/plain": [
       "\"\\nfrom sklearn.tree import DecisionTreeClassifier\\ntree_clf = DecisionTreeClassifier(criterion='gini', max_depth=depth)\\ntree_clf.fit(X_train, y_train) \\ny_pred = tree_clf.predict(X_test)\\n\""
      ]
     },
     "execution_count": 8,
     "metadata": {},
     "output_type": "execute_result"
    }
   ],
   "source": [
    "# basic sklearn syntax of decision tree:\n",
    "'''\n",
    "from sklearn.tree import DecisionTreeClassifier\n",
    "tree_clf = DecisionTreeClassifier(criterion='gini', max_depth=depth)\n",
    "tree_clf.fit(X_train, y_train) \n",
    "y_pred = tree_clf.predict(X_test)\n",
    "'''"
   ]
  },
  {
   "cell_type": "code",
   "execution_count": 9,
   "metadata": {
    "collapsed": true
   },
   "outputs": [],
   "source": [
    "def plot_tree_dot(clf,X_train, y_train ):\n",
    "    # generate the tree.dot file\n",
    "    clf.fit(X_train, y_train)\n",
    "    export_graphviz(tree_clf, out_file=\"tree.dot\", feature_names=['Age', 'Fare'],\n",
    "                    class_names=['Not Survived', 'Survived'])\n",
    "\n",
    "    # transform .dot file to .png\n",
    "    #please install the package 'Graphviz' to generate the tree fig.\n",
    "    !dot -Tpng tree.dot -o tree.png\n",
    "\n",
    "\n",
    "    import matplotlib.image as mpimg\n",
    "    img = mpimg.imread('tree.png')\n",
    "    fig = plt.figure(figsize=(20,30))\n",
    "    plt.imshow(img)\n",
    "    plt.show()"
   ]
  },
  {
   "cell_type": "code",
   "execution_count": 10,
   "metadata": {
    "collapsed": true
   },
   "outputs": [],
   "source": [
    "def Train_Decision(X, y, try_max_depth=20, max_notchange=10):\n",
    "    # train model with different depth\n",
    "    \n",
    "    not_change_time = 0\n",
    "    max_acc = 0\n",
    "    best_depth = 0\n",
    "    global tree_clf, train_dic\n",
    "    global X_train_b, X_test_b, y_train_b, y_test_b\n",
    "\n",
    "    for depth in range(2, try_max_depth):\n",
    "        # spliting train data and test data randomly\n",
    "        X_train, X_test, y_train, y_test = train_test_split(X, y, test_size=0.3, random_state = 0)\n",
    "\n",
    "        # from sklearn.tree import DecisionTreeClassifier\n",
    "        clf = DecisionTreeClassifier(criterion='gini', max_depth=depth)\n",
    "        clf.fit(X_train, y_train) # Age / Fare\n",
    "\n",
    "\n",
    "        y_pred = clf.predict(X_test) # Age / Fare\n",
    "        cm = confusion_matrix(y_test, y_pred)\n",
    "        accracy = np.sum(np.diag(cm)) / np.sum(cm)\n",
    "        train_dic[depth] = [accracy, y_pred]\n",
    "\n",
    "        if accracy > max_acc:\n",
    "            max_acc = accracy\n",
    "            best_ypred = y_pred\n",
    "            best_depth = depth\n",
    "            best_cm = cm\n",
    "            X_train_b, X_test_b, y_train_b, y_test_b = X_train, X_test, y_train, y_test\n",
    "            \n",
    "        else:\n",
    "            not_change_time += 1\n",
    "\n",
    "        if not_change_time > max_notchange:\n",
    "            tree_clf = DecisionTreeClassifier(criterion='gini', max_depth=best_depth)\n",
    "            plot_tree_dot(tree_clf,X_train_b, y_train_b) # plot_tree_dot: generate the tree.dot file\n",
    "            break\n",
    "            \n",
    "    return max_acc, best_depth, best_ypred, best_cm"
   ]
  },
  {
   "cell_type": "code",
   "execution_count": 11,
   "metadata": {},
   "outputs": [
    {
     "data": {
      "image/png": "[encoded data removed]",
      "text/plain": [
       "<matplotlib.figure.Figure at 0x15171cf5a20>"
      ]
     },
     "metadata": {},
     "output_type": "display_data"
    },
    {
     "name": "stdout",
     "output_type": "stream",
     "text": [
      "best accracy: 0.7201492537313433 in tree depth: 5\n"
     ]
    },
    {
     "data": {
      "text/plain": [
       "array([[157,  11],\n",
       "       [ 64,  36]], dtype=int64)"
      ]
     },
     "execution_count": 11,
     "metadata": {},
     "output_type": "execute_result"
    }
   ],
   "source": [
    "# Executive function\n",
    "train_dic = {}\n",
    "accracy, depth, y_pred, cm = Train_Decision(X[:,[2,5]], y)\n",
    "print('best accracy: {} in tree depth: {}'.format(accracy, depth))\n",
    "cm"
   ]
  },
  {
   "cell_type": "code",
   "execution_count": 12,
   "metadata": {
    "collapsed": true
   },
   "outputs": [],
   "source": [
    "def plot_2D(tree_clf, X_train, X_test, y_train, y_test):\n",
    "    \n",
    "    tree_clf.fit(X_train, y_train) # Age / Fare\n",
    "    \n",
    "    # Visualising the Training set results in 2D-case   \n",
    "    fig = plt.figure(figsize=(8,8))\n",
    "    X_set, y_set = X_train, y_train\n",
    "    X1, X2 = np.meshgrid(np.arange(start=X_set[:, 0].min()-1, stop=X_set[:, 0].max()+1, step=1),\n",
    "                         np.arange(start=X_set[:, 1].min()-1, stop=X_set[:, 1].max()+1, step=10))\n",
    "    plt.contourf(X1, X2, tree_clf.predict(np.array([X1.ravel(), X2.ravel()]).T).reshape(X1.shape),\n",
    "                                            alpha = 0.75, cmap = ListedColormap(('#DDDDDD', '#33FF33')))\n",
    "    plt.xlim(X1.min(), X1.max())\n",
    "    plt.ylim(X2.min(), X2.max())\n",
    "    for i, j in enumerate(np.unique(y_set)):\n",
    "        plt.scatter(X_set[y_set == j, 0], X_set[y_set == j, 1],\n",
    "                    c = ListedColormap(('k', 'g'))(i), label = j)\n",
    "    plt.title('Decision Tree (Train set)')\n",
    "    plt.xlabel('Age')\n",
    "    plt.ylabel('Fare')\n",
    "    plt.legend()\n",
    "    plt.show()\n",
    "    \n",
    "       \n",
    "    \n",
    "\n",
    "    # Visualising the Test results in 2D-case\n",
    "    fig = plt.figure(figsize=(8,8))\n",
    "    X_set, y_set = X_test, y_test\n",
    "    X1, X2 = np.meshgrid(np.arange(start = X_set[:, 0].min() - 1, stop = X_set[:, 0].max() + 1, step = 1),\n",
    "                         np.arange(start = X_set[:, 1].min() - 1, stop = X_set[:, 1].max() + 1, step = 10))\n",
    "    plt.contourf(X1, X2, tree_clf.predict(np.array([X1.ravel(), X2.ravel()]).T).reshape(X1.shape),\n",
    "                 alpha = 0.75, cmap = ListedColormap(('#DDDDDD', '#33FF33')))\n",
    "    plt.xlim(X1.min(), X1.max())\n",
    "    plt.ylim(X2.min(), X2.max())\n",
    "    for i, j in enumerate(np.unique(y_set)):\n",
    "        plt.scatter(X_set[y_set == j, 0], X_set[y_set == j, 1],\n",
    "                    c = ListedColormap(('k', 'g'))(i), label = j)\n",
    "    plt.title('Decision Tree (Test set)')\n",
    "    plt.xlabel('Age')\n",
    "    plt.ylabel('Fare')\n",
    "    plt.legend()\n",
    "    plt.show()"
   ]
  },
  {
   "cell_type": "code",
   "execution_count": 13,
   "metadata": {
    "scrolled": true
   },
   "outputs": [
    {
     "data": {
      "image/png": "[encoded data removed]",
      "text/plain": [
       "<matplotlib.figure.Figure at 0x15171d1a0b8>"
      ]
     },
     "metadata": {},
     "output_type": "display_data"
    },
    {
     "data": {
      "image/png": "[encoded data removed]",
      "text/plain": [
       "<matplotlib.figure.Figure at 0x15171d5bf28>"
      ]
     },
     "metadata": {},
     "output_type": "display_data"
    }
   ],
   "source": [
    "plot_2D(tree_clf, X_train_b, X_test_b, y_train_b, y_test_b)"
   ]
  },
  {
   "cell_type": "markdown",
   "metadata": {},
   "source": [
    "# Random Forest with whole features"
   ]
  },
  {
   "cell_type": "code",
   "execution_count": 14,
   "metadata": {},
   "outputs": [
    {
     "data": {
      "text/plain": [
       "\"\\nfrom sklearn.ensemble import RandomForestClassifier\\nclassifier = RandomForestClassifier(n_estimators = 10, criterion = 'entropy', random_state = 0)\\nclassifier.fit(X_train, y_train)\\ny_pred = classifier.predict(X_test)\\n\\n\\n# n_estimators: the number of tree\\n\""
      ]
     },
     "execution_count": 14,
     "metadata": {},
     "output_type": "execute_result"
    }
   ],
   "source": [
    "# basic sklearn syntax of RandomForest:\n",
    "'''\n",
    "from sklearn.ensemble import RandomForestClassifier\n",
    "classifier = RandomForestClassifier(n_estimators = 10, criterion = 'entropy', random_state = 0)\n",
    "classifier.fit(X_train, y_train)\n",
    "y_pred = classifier.predict(X_test)\n",
    "\n",
    "\n",
    "# n_estimators: the number of tree\n",
    "'''"
   ]
  },
  {
   "cell_type": "code",
   "execution_count": 15,
   "metadata": {
    "collapsed": true
   },
   "outputs": [],
   "source": [
    "def Train_RandomForest(X, y, max_tree=100, max_notchange=20):  \n",
    "    not_change_time = 0\n",
    "    max_acc = 0\n",
    "    best_number = 0\n",
    "    global random_clf, train_random_dic\n",
    "\n",
    "\n",
    "    for tree in range(10, max_tree):\n",
    "        # spliting train data and test data randomly\n",
    "        X_train, X_test, y_train, y_test = train_test_split(X, y, test_size=0.3, random_state = 0)\n",
    "\n",
    "        # from sklearn.tree import DecisionTreeClassifier\n",
    "        clf = RandomForestClassifier(n_estimators = tree, criterion = 'entropy', random_state = 0)\n",
    "        clf.fit(X_train, y_train)\n",
    "\n",
    "        y_pred = clf.predict(X_test)\n",
    "        cm = confusion_matrix(y_test, y_pred)\n",
    "        accracy = np.sum(np.diag(cm)) / np.sum(cm)\n",
    "        train_random_dic[tree] = [accracy, y_pred]\n",
    "\n",
    "        if accracy > max_acc:\n",
    "            max_acc = accracy\n",
    "            best_ypred = y_pred\n",
    "            best_number = tree\n",
    "            best_cm = cm\n",
    "            X_train_b, X_test_b, y_train_b, y_test_b = X_train, X_test, y_train, y_test\n",
    "            \n",
    "        else:\n",
    "            not_change_time += 1\n",
    "\n",
    "        if not_change_time > max_notchange:\n",
    "            random_clf = RandomForestClassifier(n_estimators = best_number, criterion = 'entropy', random_state = 0)\n",
    "            plot_tree_dot(random_clf, X_train_b, y_train_b)\n",
    "            \n",
    "            break\n",
    "            \n",
    "    return max_acc, best_number, best_ypred, best_cm"
   ]
  },
  {
   "cell_type": "code",
   "execution_count": 16,
   "metadata": {},
   "outputs": [
    {
     "data": {
      "image/png": "[encoded data removed]",
      "text/plain": [
       "<matplotlib.figure.Figure at 0x15171f6f358>"
      ]
     },
     "metadata": {},
     "output_type": "display_data"
    },
    {
     "name": "stdout",
     "output_type": "stream",
     "text": [
      "best accracy: 0.8283582089552238 in tree number: 25\n"
     ]
    },
    {
     "data": {
      "text/plain": [
       "array([[151,  17],\n",
       "       [ 29,  71]], dtype=int64)"
      ]
     },
     "execution_count": 16,
     "metadata": {},
     "output_type": "execute_result"
    }
   ],
   "source": [
    "train_random_dic = {}\n",
    "acc, No_tree, y_pred, cm = Train_RandomForest(X, y)\n",
    "print('best accracy: {} in tree number: {}'.format(acc, No_tree))\n",
    "cm"
   ]
  },
  {
   "cell_type": "code",
   "execution_count": null,
   "metadata": {
    "collapsed": true
   },
   "outputs": [],
   "source": []
  },
  {
   "cell_type": "code",
   "execution_count": null,
   "metadata": {
    "collapsed": true
   },
   "outputs": [],
   "source": []
  }
 ],
 "metadata": {
  "kernelspec": {
   "display_name": "Python 3",
   "language": "python",
   "name": "python3"
  },
  "language_info": {
   "codemirror_mode": {
    "name": "ipython",
    "version": 3
   },
   "file_extension": ".py",
   "mimetype": "text/x-python",
   "name": "python",
   "nbconvert_exporter": "python",
   "pygments_lexer": "ipython3",
   "version": "3.6.2"
  }
 },
 "nbformat": 4,
 "nbformat_minor": 2
}
