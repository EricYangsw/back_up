{
 "cells": [
  {
   "cell_type": "code",
   "execution_count": 1,
   "metadata": {
    "collapsed": true
   },
   "outputs": [],
   "source": [
    "import numpy as np\n",
    "import pandas as pd\n",
    "from itertools import combinations"
   ]
  },
  {
   "cell_type": "code",
   "execution_count": 2,
   "metadata": {},
   "outputs": [
    {
     "data": {
      "text/html": [
       "<div>\n",
       "<style>\n",
       "    .dataframe thead tr:only-child th {\n",
       "        text-align: right;\n",
       "    }\n",
       "\n",
       "    .dataframe thead th {\n",
       "        text-align: left;\n",
       "    }\n",
       "\n",
       "    .dataframe tbody tr th {\n",
       "        vertical-align: top;\n",
       "    }\n",
       "</style>\n",
       "<table border=\"1\" class=\"dataframe\">\n",
       "  <thead>\n",
       "    <tr style=\"text-align: right;\">\n",
       "      <th></th>\n",
       "      <th>apple</th>\n",
       "      <th>beer</th>\n",
       "      <th>milk</th>\n",
       "      <th>pear</th>\n",
       "      <th>rice</th>\n",
       "      <th>meat</th>\n",
       "    </tr>\n",
       "  </thead>\n",
       "  <tbody>\n",
       "    <tr>\n",
       "      <th>0</th>\n",
       "      <td>1</td>\n",
       "      <td>1</td>\n",
       "      <td>0</td>\n",
       "      <td>0</td>\n",
       "      <td>1</td>\n",
       "      <td>1</td>\n",
       "    </tr>\n",
       "    <tr>\n",
       "      <th>1</th>\n",
       "      <td>1</td>\n",
       "      <td>1</td>\n",
       "      <td>0</td>\n",
       "      <td>0</td>\n",
       "      <td>1</td>\n",
       "      <td>0</td>\n",
       "    </tr>\n",
       "    <tr>\n",
       "      <th>2</th>\n",
       "      <td>1</td>\n",
       "      <td>1</td>\n",
       "      <td>0</td>\n",
       "      <td>0</td>\n",
       "      <td>0</td>\n",
       "      <td>0</td>\n",
       "    </tr>\n",
       "    <tr>\n",
       "      <th>3</th>\n",
       "      <td>1</td>\n",
       "      <td>0</td>\n",
       "      <td>0</td>\n",
       "      <td>1</td>\n",
       "      <td>0</td>\n",
       "      <td>0</td>\n",
       "    </tr>\n",
       "    <tr>\n",
       "      <th>4</th>\n",
       "      <td>0</td>\n",
       "      <td>1</td>\n",
       "      <td>1</td>\n",
       "      <td>0</td>\n",
       "      <td>1</td>\n",
       "      <td>1</td>\n",
       "    </tr>\n",
       "    <tr>\n",
       "      <th>5</th>\n",
       "      <td>0</td>\n",
       "      <td>1</td>\n",
       "      <td>1</td>\n",
       "      <td>0</td>\n",
       "      <td>1</td>\n",
       "      <td>0</td>\n",
       "    </tr>\n",
       "    <tr>\n",
       "      <th>6</th>\n",
       "      <td>0</td>\n",
       "      <td>1</td>\n",
       "      <td>1</td>\n",
       "      <td>0</td>\n",
       "      <td>0</td>\n",
       "      <td>0</td>\n",
       "    </tr>\n",
       "    <tr>\n",
       "      <th>7</th>\n",
       "      <td>0</td>\n",
       "      <td>0</td>\n",
       "      <td>1</td>\n",
       "      <td>1</td>\n",
       "      <td>0</td>\n",
       "      <td>0</td>\n",
       "    </tr>\n",
       "  </tbody>\n",
       "</table>\n",
       "</div>"
      ],
      "text/plain": [
       "   apple  beer  milk  pear  rice  meat\n",
       "0      1     1     0     0     1     1\n",
       "1      1     1     0     0     1     0\n",
       "2      1     1     0     0     0     0\n",
       "3      1     0     0     1     0     0\n",
       "4      0     1     1     0     1     1\n",
       "5      0     1     1     0     1     0\n",
       "6      0     1     1     0     0     0\n",
       "7      0     0     1     1     0     0"
      ]
     },
     "execution_count": 2,
     "metadata": {},
     "output_type": "execute_result"
    }
   ],
   "source": [
    "# read the data file\n",
    "data = pd.read_csv('grocExample.csv')\n",
    "data"
   ]
  },
  {
   "cell_type": "code",
   "execution_count": 3,
   "metadata": {},
   "outputs": [
    {
     "ename": "NameError",
     "evalue": "name 'X' is not defined",
     "output_type": "error",
     "traceback": [
      "\u001b[1;31m---------------------------------------------------------------------------\u001b[0m",
      "\u001b[1;31mNameError\u001b[0m                                 Traceback (most recent call last)",
      "\u001b[1;32m<ipython-input-3-d50c7d3c018f>\u001b[0m in \u001b[0;36m<module>\u001b[1;34m()\u001b[0m\n\u001b[1;32m----> 1\u001b[1;33m \u001b[0mX\u001b[0m\u001b[1;33m[\u001b[0m\u001b[1;33m(\u001b[0m\u001b[1;36m0\u001b[0m\u001b[1;33m,\u001b[0m\u001b[1;36m1\u001b[0m\u001b[1;33m)\u001b[0m\u001b[1;33m,\u001b[0m\u001b[1;33m:\u001b[0m\u001b[1;33m]\u001b[0m\u001b[1;33m\u001b[0m\u001b[0m\n\u001b[0m",
      "\u001b[1;31mNameError\u001b[0m: name 'X' is not defined"
     ]
    }
   ],
   "source": [
    "X[(0,1),:]"
   ]
  },
  {
   "cell_type": "code",
   "execution_count": 4,
   "metadata": {
    "collapsed": true
   },
   "outputs": [],
   "source": [
    "ind = {}\n",
    "i = 0\n",
    "for k in data.keys():\n",
    "    ind[i] = k\n",
    "    i += 1"
   ]
  },
  {
   "cell_type": "code",
   "execution_count": 5,
   "metadata": {},
   "outputs": [
    {
     "name": "stdout",
     "output_type": "stream",
     "text": [
      "0 apple\n",
      "1 beer\n",
      "2 milk\n",
      "3 pear\n",
      "4 rice\n",
      "5 meat\n"
     ]
    }
   ],
   "source": [
    "for k,v in ind.items():\n",
    "    print(k,v)"
   ]
  },
  {
   "cell_type": "code",
   "execution_count": 6,
   "metadata": {},
   "outputs": [
    {
     "data": {
      "text/plain": [
       "['apple', 'beer']"
      ]
     },
     "execution_count": 6,
     "metadata": {},
     "output_type": "execute_result"
    }
   ],
   "source": [
    "a = (0,1)\n",
    "name = [ ind[i] for i in a]\n",
    "name"
   ]
  },
  {
   "cell_type": "code",
   "execution_count": 7,
   "metadata": {
    "collapsed": true
   },
   "outputs": [],
   "source": [
    "X = data.values\n",
    "min_support = 0.2\n",
    "items = {}\n",
    "support = {}\n",
    "\n",
    "for i in range(X.shape[1]):\n",
    "    s = X[:, i].sum(axis=0) / X.shape[0]\n",
    "    if s >= min_support:\n",
    "        support[i] = X[:, i].sum(axis=0) / X.shape[0]\n",
    "        \n",
    "items[1] = support"
   ]
  },
  {
   "cell_type": "code",
   "execution_count": 8,
   "metadata": {},
   "outputs": [
    {
     "data": {
      "text/plain": [
       "{0: 0.5, 1: 0.75, 2: 0.5, 3: 0.25, 4: 0.5, 5: 0.25}"
      ]
     },
     "execution_count": 8,
     "metadata": {},
     "output_type": "execute_result"
    }
   ],
   "source": [
    "items[1]"
   ]
  },
  {
   "cell_type": "code",
   "execution_count": 9,
   "metadata": {},
   "outputs": [],
   "source": [
    "exclude = []\n",
    "\n",
    "for item_len in range(2,7):\n",
    "    items[item_len] = {}\n",
    "    \n",
    "    col = np.unique([k for k in items[item_len-1].keys()])\n",
    "    \n",
    "    \n",
    "    for it in combinations(col, item_len):\n",
    "        \n",
    "        \n",
    "        a = False\n",
    "        for test in exclude:\n",
    "            if set(test).issubset(set(it)):\n",
    "                #print(test, it)\n",
    "                a = True\n",
    "                break\n",
    "                \n",
    "        if a == True:\n",
    "            continue\n",
    "            \n",
    "      \n",
    "        counts = 0  \n",
    "        for j in range(X.shape[0]):\n",
    "            if X[j,it].sum() == len(it):\n",
    "                counts += 1\n",
    "        if (counts / X.shape[0]) >= min_support:\n",
    "            items[item_len][it] = counts / X.shape[0]\n",
    "        else:\n",
    "            exclude.append(it)\n",
    "\n",
    "    if len(items[item_len]) == 0:\n",
    "        break       "
   ]
  },
  {
   "cell_type": "code",
   "execution_count": 10,
   "metadata": {},
   "outputs": [
    {
     "data": {
      "text/plain": [
       "[(0, 2), (0, 3), (0, 5), (1, 3), (2, 3), (2, 5), (3, 4), (3, 5)]"
      ]
     },
     "execution_count": 10,
     "metadata": {},
     "output_type": "execute_result"
    }
   ],
   "source": [
    "exclude"
   ]
  },
  {
   "cell_type": "code",
   "execution_count": 11,
   "metadata": {},
   "outputs": [
    {
     "data": {
      "text/plain": [
       "{1: {0: 0.5, 1: 0.75, 2: 0.5, 3: 0.25, 4: 0.5, 5: 0.25},\n",
       " 2: {(0, 1): 0.375,\n",
       "  (0, 4): 0.25,\n",
       "  (1, 2): 0.375,\n",
       "  (1, 4): 0.5,\n",
       "  (1, 5): 0.25,\n",
       "  (2, 4): 0.25,\n",
       "  (4, 5): 0.25},\n",
       " 3: {(0, 1, 4): 0.25, (1, 2, 4): 0.25, (1, 4, 5): 0.25},\n",
       " 4: {}}"
      ]
     },
     "execution_count": 11,
     "metadata": {},
     "output_type": "execute_result"
    }
   ],
   "source": [
    "items"
   ]
  },
  {
   "cell_type": "code",
   "execution_count": 12,
   "metadata": {},
   "outputs": [
    {
     "data": {
      "text/plain": [
       "[(0, 1), (0, 2), (0, 3), (1, 2), (1, 3), (2, 3)]"
      ]
     },
     "execution_count": 12,
     "metadata": {},
     "output_type": "execute_result"
    }
   ],
   "source": [
    "a = [0,1,2,3]\n",
    "test = combinations(a , 2)\n",
    "test_list = list(test)\n",
    "test_list "
   ]
  },
  {
   "cell_type": "code",
   "execution_count": 13,
   "metadata": {},
   "outputs": [
    {
     "data": {
      "text/plain": [
       "array([0, 1, 2, 3])"
      ]
     },
     "execution_count": 13,
     "metadata": {},
     "output_type": "execute_result"
    }
   ],
   "source": [
    "np.unique([h for h in test_list])"
   ]
  },
  {
   "cell_type": "code",
   "execution_count": 14,
   "metadata": {},
   "outputs": [
    {
     "data": {
      "text/plain": [
       "[(0, 1), (0, 2), (0, 3), (1, 2), (1, 3), (2, 3)]"
      ]
     },
     "execution_count": 14,
     "metadata": {},
     "output_type": "execute_result"
    }
   ],
   "source": [
    "[h for h in test_list]"
   ]
  },
  {
   "cell_type": "code",
   "execution_count": 19,
   "metadata": {},
   "outputs": [
    {
     "data": {
      "text/plain": [
       "{1: {0: 0.5, 1: 0.75, 2: 0.5, 3: 0.25, 4: 0.5, 5: 0.25},\n",
       " 2: {(0, 1): 0.375,\n",
       "  (0, 4): 0.25,\n",
       "  (1, 2): 0.375,\n",
       "  (1, 4): 0.5,\n",
       "  (1, 5): 0.25,\n",
       "  (2, 4): 0.25,\n",
       "  (4, 5): 0.25},\n",
       " 3: {(0, 1, 4): 0.25, (1, 2, 4): 0.25, (1, 4, 5): 0.25},\n",
       " 4: {}}"
      ]
     },
     "execution_count": 19,
     "metadata": {},
     "output_type": "execute_result"
    }
   ],
   "source": [
    "items"
   ]
  },
  {
   "cell_type": "code",
   "execution_count": 24,
   "metadata": {},
   "outputs": [
    {
     "data": {
      "text/plain": [
       "[0, 1, 2, 3, 4, 5, (0, 1), (0, 4), (1, 2), (1, 4)]"
      ]
     },
     "execution_count": 24,
     "metadata": {},
     "output_type": "execute_result"
    }
   ],
   "source": [
    "column = []\n",
    "supp = []\n",
    "for i in range(4):\n",
    "    for col, sup in items[i+1].items():\n",
    "        column.append(col)\n",
    "        supp.append(sup)\n",
    "        \n",
    "        \n",
    "        \n",
    "        \n",
    "column[:10]    "
   ]
  },
  {
   "cell_type": "code",
   "execution_count": 21,
   "metadata": {},
   "outputs": [
    {
     "data": {
      "text/plain": [
       "['apple',\n",
       " 'beer',\n",
       " 'milk',\n",
       " 'pear',\n",
       " 'rice',\n",
       " 'meat',\n",
       " ['apple', 'beer'],\n",
       " ['apple', 'rice'],\n",
       " ['beer', 'milk'],\n",
       " ['beer', 'rice'],\n",
       " ['beer', 'meat'],\n",
       " ['milk', 'rice'],\n",
       " ['rice', 'meat'],\n",
       " ['apple', 'beer', 'rice'],\n",
       " ['beer', 'milk', 'rice'],\n",
       " ['beer', 'rice', 'meat']]"
      ]
     },
     "execution_count": 21,
     "metadata": {},
     "output_type": "execute_result"
    }
   ],
   "source": [
    "# column: 我的分類(數字)\n",
    "# ind: 字典，index 對應 項目名稱， EX:  1:'apple'\n",
    "item_name = [] # 宣告一個list，\\\n",
    "\n",
    "for col in column:\n",
    "    if type(col) is not int:\n",
    "        col = list(col)\n",
    "        kk = []\n",
    "        for ccc in col:\n",
    "            kk.append(ind[ccc])\n",
    "            col = kk\n",
    "    else:\n",
    "        kk = ind[col]\n",
    "    item_name.append(kk)\n",
    "    \n",
    "item_name    \n",
    "# 最後存入DataFrame:   EX:  df['item'] = item_name "
   ]
  },
  {
   "cell_type": "code",
   "execution_count": null,
   "metadata": {
    "collapsed": true
   },
   "outputs": [],
   "source": []
  },
  {
   "cell_type": "code",
   "execution_count": null,
   "metadata": {
    "collapsed": true
   },
   "outputs": [],
   "source": []
  },
  {
   "cell_type": "code",
   "execution_count": null,
   "metadata": {
    "collapsed": true
   },
   "outputs": [],
   "source": []
  },
  {
   "cell_type": "code",
   "execution_count": 14,
   "metadata": {},
   "outputs": [
    {
     "ename": "NameError",
     "evalue": "name 'itemset_dic' is not defined",
     "output_type": "error",
     "traceback": [
      "\u001b[1;31m---------------------------------------------------------------------------\u001b[0m",
      "\u001b[1;31mNameError\u001b[0m                                 Traceback (most recent call last)",
      "\u001b[1;32m<ipython-input-14-cfa20946a3fb>\u001b[0m in \u001b[0;36m<module>\u001b[1;34m()\u001b[0m\n\u001b[0;32m     11\u001b[0m \u001b[1;32mwhile\u001b[0m \u001b[0mmax_itemset\u001b[0m\u001b[1;33m:\u001b[0m\u001b[1;33m\u001b[0m\u001b[0m\n\u001b[0;32m     12\u001b[0m     \u001b[0mnext_max_itemset\u001b[0m \u001b[1;33m=\u001b[0m \u001b[0mmax_itemset\u001b[0m \u001b[1;33m+\u001b[0m \u001b[1;36m1\u001b[0m\u001b[1;33m\u001b[0m\u001b[0m\n\u001b[1;32m---> 13\u001b[1;33m     combin = combinations(np.unique(itemset_dic[max_itemset].flatten()),\n\u001b[0m\u001b[0;32m     14\u001b[0m                          r=next_max_itemset)\n\u001b[0;32m     15\u001b[0m \u001b[1;33m\u001b[0m\u001b[0m\n",
      "\u001b[1;31mNameError\u001b[0m: name 'itemset_dic' is not defined"
     ]
    }
   ],
   "source": [
    "min_support = 0.5\n",
    "X = data.values\n",
    "ary_col_idx = np.arange(X.shape[1])\n",
    "support = np.sum(X, axis=0) / float(X.shape[0])\n",
    "support_dict = {1: support[support >= min_support]} # array 的條件式\n",
    "\n",
    "itemset_dict = {1: ary_col_idx[support >= min_support].reshape(-1,1)}\n",
    "\n",
    "max_itemset = 1\n",
    "\n",
    "while max_itemset:\n",
    "    next_max_itemset = max_itemset + 1\n",
    "    combin = combinations(np.unique(itemset_dic[max_itemset].flatten()),\n",
    "                         r=next_max_itemset)\n",
    "    \n",
    "    for c in combin:\n",
    "        together = X[:, c].sum(axis=1) == len(c)\n",
    "        support = together.sum() / float(X.shape[0])\n",
    "        \n",
    "        if support >= min_support:\n",
    "            frequent_items.append(c)\n",
    "            frequent_items_support.append(support)\n",
    "            \n",
    "    if frequent_items:  # frequent_items = 0 時 不滿足\n",
    "        itemset_dict[next_max_itemset] = np.array(frequent_items)\n",
    "        support_dict[next_max_itemset] = np.array(frequent_items_support)\n",
    "        max_itemset = next_max_itemset\n",
    "    else:\n",
    "        max_itemset = 0\n",
    "        \n",
    "        \n",
    "    \n",
    "    "
   ]
  },
  {
   "cell_type": "code",
   "execution_count": 5,
   "metadata": {
    "collapsed": true
   },
   "outputs": [],
   "source": [
    "\n",
    "def compute(df, min_support=0.5):\n",
    "    X = df.values\n",
    "    \n",
    "    ary_col_idx = np.arange(X.shape[1]) # array([0, 1, 2, 3, 4, 5])\n",
    "    \n",
    "    support = (np.sum(X, axis=0) / float(X.shape[0])) # array([ 0.5 ,  0.75,  0.5 ,  0.25,  0.5 ,  0.25])\n",
    "    \n",
    "    support_dict = {1: support[support >= min_support]} \n",
    "    # {1: array([ 0.5 ,  0.75,  0.5 ,  0.5 ])}\n",
    "    \n",
    "    itemset_dict = {1: ary_col_idx[support >= min_support].reshape(-1, 1)} \n",
    "    '''\n",
    "    {1: array([[0],\n",
    "        [1],\n",
    "        [2],\n",
    "        [4]])}\n",
    "    '''\n",
    "    \n",
    "    \n",
    "    max_itemset = 1\n",
    "\n",
    "    while max_itemset: # max_itemset = 0 時停止\n",
    "        next_max_itemset = max_itemset + 1\n",
    "        combin = combinations(np.unique(itemset_dict[max_itemset].flatten()),\n",
    "                              r=next_max_itemset)\n",
    "        '''排出 itemset_dict 的 2個items 配對組合'''\n",
    "        \n",
    "        \n",
    "        frequent_items = []\n",
    "        frequent_items_support = []\n",
    "\n",
    "        for c in combin:\n",
    "            '''各種配對組合'''\n",
    "            together = X[:, c].sum(axis=1) == len(c)\n",
    "            # 在tuple c裡n個數字， n個組合相加 = n 的是 True\n",
    "            \n",
    "            \n",
    "            support = together.sum() / float(X.shape[0]) \n",
    "            \n",
    "            if support >= min_support:\n",
    "                frequent_items.append(c)\n",
    "                frequent_items_support.append(support)\n",
    "\n",
    "        if frequent_items:  # frequent_items = 0 時 不滿足\n",
    "            itemset_dict[next_max_itemset] = np.array(frequent_items)\n",
    "            support_dict[next_max_itemset] = np.array(frequent_items_support)\n",
    "            max_itemset = next_max_itemset\n",
    "        else:\n",
    "            max_itemset = 0\n",
    "\n",
    "            \n",
    "            \n",
    "    all_res = []\n",
    "    for k in sorted(itemset_dict):\n",
    "        support = pd.Series(support_dict[k])\n",
    "        itemsets = pd.Series([i for i in itemset_dict[k]])\n",
    "\n",
    "        res = pd.concat((support, itemsets), axis=1)\n",
    "        all_res.append(res)\n",
    "\n",
    "    res_df = pd.concat(all_res)\n",
    "    \n",
    "    res_df.columns = ['support', 'itemsets']\n",
    "    mapping = {idx: item for idx, item in enumerate(df.columns)}\n",
    "    res_df['itemsets'] = res_df['itemsets'].apply(lambda x: [mapping[i]\n",
    "                                                      for i in x])\n",
    "    res_df = res_df.reset_index(drop=True)\n",
    "\n",
    "    return res_df"
   ]
  },
  {
   "cell_type": "code",
   "execution_count": null,
   "metadata": {
    "collapsed": true
   },
   "outputs": [],
   "source": []
  },
  {
   "cell_type": "code",
   "execution_count": 19,
   "metadata": {},
   "outputs": [
    {
     "data": {
      "text/html": [
       "<div>\n",
       "<style>\n",
       "    .dataframe thead tr:only-child th {\n",
       "        text-align: right;\n",
       "    }\n",
       "\n",
       "    .dataframe thead th {\n",
       "        text-align: left;\n",
       "    }\n",
       "\n",
       "    .dataframe tbody tr th {\n",
       "        vertical-align: top;\n",
       "    }\n",
       "</style>\n",
       "<table border=\"1\" class=\"dataframe\">\n",
       "  <thead>\n",
       "    <tr style=\"text-align: right;\">\n",
       "      <th></th>\n",
       "      <th>support</th>\n",
       "      <th>itemsets</th>\n",
       "    </tr>\n",
       "  </thead>\n",
       "  <tbody>\n",
       "    <tr>\n",
       "      <th>0</th>\n",
       "      <td>0.500</td>\n",
       "      <td>[apple]</td>\n",
       "    </tr>\n",
       "    <tr>\n",
       "      <th>1</th>\n",
       "      <td>0.750</td>\n",
       "      <td>[beer]</td>\n",
       "    </tr>\n",
       "    <tr>\n",
       "      <th>2</th>\n",
       "      <td>0.500</td>\n",
       "      <td>[milk]</td>\n",
       "    </tr>\n",
       "    <tr>\n",
       "      <th>3</th>\n",
       "      <td>0.250</td>\n",
       "      <td>[pear]</td>\n",
       "    </tr>\n",
       "    <tr>\n",
       "      <th>4</th>\n",
       "      <td>0.500</td>\n",
       "      <td>[rice]</td>\n",
       "    </tr>\n",
       "    <tr>\n",
       "      <th>5</th>\n",
       "      <td>0.250</td>\n",
       "      <td>[meat]</td>\n",
       "    </tr>\n",
       "    <tr>\n",
       "      <th>6</th>\n",
       "      <td>0.375</td>\n",
       "      <td>[apple, beer]</td>\n",
       "    </tr>\n",
       "    <tr>\n",
       "      <th>7</th>\n",
       "      <td>0.250</td>\n",
       "      <td>[apple, rice]</td>\n",
       "    </tr>\n",
       "    <tr>\n",
       "      <th>8</th>\n",
       "      <td>0.375</td>\n",
       "      <td>[beer, milk]</td>\n",
       "    </tr>\n",
       "    <tr>\n",
       "      <th>9</th>\n",
       "      <td>0.500</td>\n",
       "      <td>[beer, rice]</td>\n",
       "    </tr>\n",
       "    <tr>\n",
       "      <th>10</th>\n",
       "      <td>0.250</td>\n",
       "      <td>[beer, meat]</td>\n",
       "    </tr>\n",
       "    <tr>\n",
       "      <th>11</th>\n",
       "      <td>0.250</td>\n",
       "      <td>[milk, rice]</td>\n",
       "    </tr>\n",
       "    <tr>\n",
       "      <th>12</th>\n",
       "      <td>0.250</td>\n",
       "      <td>[rice, meat]</td>\n",
       "    </tr>\n",
       "    <tr>\n",
       "      <th>13</th>\n",
       "      <td>0.250</td>\n",
       "      <td>[apple, beer, rice]</td>\n",
       "    </tr>\n",
       "    <tr>\n",
       "      <th>14</th>\n",
       "      <td>0.250</td>\n",
       "      <td>[beer, milk, rice]</td>\n",
       "    </tr>\n",
       "    <tr>\n",
       "      <th>15</th>\n",
       "      <td>0.250</td>\n",
       "      <td>[beer, rice, meat]</td>\n",
       "    </tr>\n",
       "  </tbody>\n",
       "</table>\n",
       "</div>"
      ],
      "text/plain": [
       "    support             itemsets\n",
       "0     0.500              [apple]\n",
       "1     0.750               [beer]\n",
       "2     0.500               [milk]\n",
       "3     0.250               [pear]\n",
       "4     0.500               [rice]\n",
       "5     0.250               [meat]\n",
       "6     0.375        [apple, beer]\n",
       "7     0.250        [apple, rice]\n",
       "8     0.375         [beer, milk]\n",
       "9     0.500         [beer, rice]\n",
       "10    0.250         [beer, meat]\n",
       "11    0.250         [milk, rice]\n",
       "12    0.250         [rice, meat]\n",
       "13    0.250  [apple, beer, rice]\n",
       "14    0.250   [beer, milk, rice]\n",
       "15    0.250   [beer, rice, meat]"
      ]
     },
     "execution_count": 19,
     "metadata": {},
     "output_type": "execute_result"
    }
   ],
   "source": [
    "compute(data, min_support=0.2)"
   ]
  },
  {
   "cell_type": "code",
   "execution_count": null,
   "metadata": {
    "collapsed": true
   },
   "outputs": [],
   "source": []
  },
  {
   "cell_type": "code",
   "execution_count": 101,
   "metadata": {
    "collapsed": true
   },
   "outputs": [],
   "source": [
    "def combinations(iterable, r):\n",
    "    # iterable = 'ABC', r=2\n",
    "\n",
    "    pool = tuple(iterable)  # pool = ('A', 'B', 'C')\n",
    "    n = len(pool) # n = 3\n",
    "    \n",
    "    if r > n:\n",
    "        return\n",
    "    \n",
    "    indices = list(range(r)) # indices = [0, 1]\n",
    "    yield tuple(pool[i] for i in indices) # return first tuple ('A', 'B') in a generators\n",
    "    \n",
    "    while True:\n",
    "        for i in reversed(range(r)): #reversed: Return a reverse iterator.\n",
    "            # reserved(range(r)) is iterator 1,0 \n",
    "            if indices[i] != i + n - r: \n",
    "                break  # break for loop, i stop when the conditioning is Satisfied \n",
    "        else:\n",
    "            return\n",
    "        indices[i] += 1 # first[0, 2], second [1,2] \n",
    "        \n",
    "        for j in range(i+1, r):\n",
    "            indices[j] = indices[j-1] + 1 \n",
    "        yield tuple(pool[i] for i in indices)\n",
    "        \n",
    "# Generators are iterators, a kind of iterable you can only iterate over once\n",
    "# yield is a keyword that is used like return, except the function will return a generator"
   ]
  },
  {
   "cell_type": "code",
   "execution_count": 102,
   "metadata": {
    "collapsed": true
   },
   "outputs": [],
   "source": [
    "SS = combinations('ABC', 2)"
   ]
  },
  {
   "cell_type": "code",
   "execution_count": 103,
   "metadata": {},
   "outputs": [
    {
     "data": {
      "text/plain": [
       "[('A', 'B'), ('A', 'C'), ('B', 'C')]"
      ]
     },
     "execution_count": 103,
     "metadata": {},
     "output_type": "execute_result"
    }
   ],
   "source": [
    "list(SS)"
   ]
  },
  {
   "cell_type": "code",
   "execution_count": 19,
   "metadata": {},
   "outputs": [
    {
     "ename": "TypeError",
     "evalue": "'int' object is not reversible",
     "output_type": "error",
     "traceback": [
      "\u001b[1;31m---------------------------------------------------------------------------\u001b[0m",
      "\u001b[1;31mTypeError\u001b[0m                                 Traceback (most recent call last)",
      "\u001b[1;32m<ipython-input-19-e9cb7dcb245d>\u001b[0m in \u001b[0;36m<module>\u001b[1;34m()\u001b[0m\n\u001b[0;32m      3\u001b[0m \u001b[1;33m\u001b[0m\u001b[0m\n\u001b[0;32m      4\u001b[0m \u001b[0mindices\u001b[0m \u001b[1;33m=\u001b[0m \u001b[0mlist\u001b[0m\u001b[1;33m(\u001b[0m\u001b[0mrange\u001b[0m\u001b[1;33m(\u001b[0m\u001b[1;36m2\u001b[0m\u001b[1;33m)\u001b[0m\u001b[1;33m)\u001b[0m\u001b[1;33m\u001b[0m\u001b[0m\n\u001b[1;32m----> 5\u001b[1;33m \u001b[0mreversed\u001b[0m\u001b[1;33m(\u001b[0m\u001b[1;36m3\u001b[0m\u001b[1;33m)\u001b[0m\u001b[1;33m\u001b[0m\u001b[0m\n\u001b[0m",
      "\u001b[1;31mTypeError\u001b[0m: 'int' object is not reversible"
     ]
    }
   ],
   "source": [
    "pool = tuple('ABC')\n",
    "n = len(pool)\n",
    "\n",
    "indices = list(range(2))\n",
    "reversed(3)"
   ]
  },
  {
   "cell_type": "code",
   "execution_count": null,
   "metadata": {
    "collapsed": true
   },
   "outputs": [],
   "source": []
  },
  {
   "cell_type": "code",
   "execution_count": null,
   "metadata": {
    "collapsed": true
   },
   "outputs": [],
   "source": [
    "ddic"
   ]
  }
 ],
 "metadata": {
  "kernelspec": {
   "display_name": "Python 3",
   "language": "python",
   "name": "python3"
  },
  "language_info": {
   "codemirror_mode": {
    "name": "ipython",
    "version": 3
   },
   "file_extension": ".py",
   "mimetype": "text/x-python",
   "name": "python",
   "nbconvert_exporter": "python",
   "pygments_lexer": "ipython3",
   "version": "3.6.4"
  }
 },
 "nbformat": 4,
 "nbformat_minor": 2
}
