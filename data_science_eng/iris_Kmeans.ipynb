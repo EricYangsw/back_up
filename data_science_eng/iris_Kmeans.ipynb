{
 "cells": [
  {
   "cell_type": "code",
   "execution_count": 6,
   "metadata": {
    "collapsed": true
   },
   "outputs": [],
   "source": [
    "from sklearn import datasets\n",
    "iris = datasets.load_iris()"
   ]
  },
  {
   "cell_type": "code",
   "execution_count": 7,
   "metadata": {},
   "outputs": [],
   "source": [
    "import numpy as np\n",
    "import pandas as pd\n",
    "import matplotlib.pyplot as plt\n",
    "from sklearn.cluster import KMeans\n",
    "from matplotlib.patches import Ellipse\n"
   ]
  },
  {
   "cell_type": "code",
   "execution_count": 8,
   "metadata": {},
   "outputs": [
    {
     "data": {
      "text/plain": [
       "array([ 5.84333333,  3.054     ,  3.75866667,  1.19866667])"
      ]
     },
     "execution_count": 8,
     "metadata": {},
     "output_type": "execute_result"
    }
   ],
   "source": [
    "np.mean(iris.data,axis=0)"
   ]
  },
  {
   "cell_type": "code",
   "execution_count": 9,
   "metadata": {},
   "outputs": [
    {
     "data": {
      "text/plain": [
       "(150, 4)"
      ]
     },
     "execution_count": 9,
     "metadata": {},
     "output_type": "execute_result"
    }
   ],
   "source": [
    "df_central = (iris.data-np.mean(iris.data,axis=0))\n",
    "df_central.shape"
   ]
  },
  {
   "cell_type": "code",
   "execution_count": 10,
   "metadata": {},
   "outputs": [
    {
     "data": {
      "text/plain": [
       "(4,)"
      ]
     },
     "execution_count": 10,
     "metadata": {},
     "output_type": "execute_result"
    }
   ],
   "source": [
    "df_scalar = (np.max(iris.data,axis=0)-np.min(iris.data,axis=0))\n",
    "df_scalar.shape"
   ]
  },
  {
   "cell_type": "code",
   "execution_count": 11,
   "metadata": {},
   "outputs": [],
   "source": [
    "d_nor = (df_central/df_scalar)"
   ]
  },
  {
   "cell_type": "code",
   "execution_count": 12,
   "metadata": {},
   "outputs": [],
   "source": [
    "n_clusters = 3\n",
    "cluster = KMeans(n_clusters, random_state=0).fit(d_nor[:,2:])\n",
    "Z = cluster.predict(d_nor[:,2:])\n",
    "\n",
    "center = cluster.cluster_centers_\n",
    "#print(center)"
   ]
  },
  {
   "cell_type": "code",
   "execution_count": 13,
   "metadata": {
    "collapsed": true
   },
   "outputs": [],
   "source": [
    "color = np.array([244, 220, 239])\n",
    "color = np.vstack((color,np.array([222, 248, 252])))\n",
    "color = np.vstack((color,np.array([247, 237, 200])))/255"
   ]
  },
  {
   "cell_type": "code",
   "execution_count": 14,
   "metadata": {},
   "outputs": [],
   "source": [
    "label = iris.target #real lable\n",
    "#name = iris.data.target_names"
   ]
  },
  {
   "cell_type": "code",
   "execution_count": 15,
   "metadata": {},
   "outputs": [
    {
     "data": {
      "image/png": "[encoded data removed]",
      "text/plain": [
       "<matplotlib.figure.Figure at 0x7f034b440320>"
      ]
     },
     "metadata": {},
     "output_type": "display_data"
    }
   ],
   "source": [
    "fig = plt.figure(figsize=(8, 8))\n",
    "ax = plt.gca()\n",
    "\n",
    "#for j,ele in enumerate(label):\n",
    "#    plt.annotate(ele, (z[j],y[j]))\n",
    "\n",
    "for i in range(n_clusters):\n",
    "    r = np.sum(Z==i)/len(Z)\n",
    "    ellipse = Ellipse(xy=(center[i,1], center[i,0]), width=1*r, height=1*r, facecolor = color[i],lw=2)\n",
    "    ax.add_patch(ellipse)\n",
    "\n",
    "\n",
    "c2 = ['r','y','b']\n",
    "for j in range(3):\n",
    "    idx = (label==j)\n",
    "    z = d_nor[idx,2]\n",
    "    y = d_nor[idx,3]\n",
    "    plt.scatter(x = z,y= y, c=c2[j])\n",
    "    \n",
    "plt.ylabel('petal width',fontsize=18)\n",
    "plt.xlabel('petal length',fontsize=18)\n",
    "plt.show()"
   ]
  },
  {
   "cell_type": "markdown",
   "metadata": {
    "collapsed": true
   },
   "source": [
    "# SSE / silhouette (找錯誤中)"
   ]
  },
  {
   "cell_type": "code",
   "execution_count": 16,
   "metadata": {},
   "outputs": [],
   "source": [
    "from sklearn.metrics import silhouette_samples, silhouette_score\n",
    "\n",
    "SSE = []\n",
    "silhouette_avg=[]\n",
    "silhouette_avg.append(-1) \n",
    "for n_Clusters in range(1,11):\n",
    "    cluster = KMeans(n_Clusters, random_state=0).fit(d_nor[:,2:])\n",
    "    Z = cluster.predict(d_nor[:,2:])\n",
    "    #print(Z)\n",
    "    SSE.append(cluster.inertia_)\n",
    "    \n",
    "    center = cluster.cluster_centers_\n",
    "    #print(center)\n",
    "\n",
    "    #silhouette_score(d_nor[:,2:], Z)\n",
    "    #silhouette_avg.append()"
   ]
  },
  {
   "cell_type": "code",
   "execution_count": 44,
   "metadata": {},
   "outputs": [
    {
     "ename": "ValueError",
     "evalue": "x and y must have same first dimension, but have shapes (10,) and (1,)",
     "output_type": "error",
     "traceback": [
      "\u001b[0;31m---------------------------------------------------------------------------\u001b[0m",
      "\u001b[0;31mValueError\u001b[0m                                Traceback (most recent call last)",
      "\u001b[0;32m<ipython-input-44-9f803d2285bb>\u001b[0m in \u001b[0;36m<module>\u001b[0;34m()\u001b[0m\n\u001b[1;32m     14\u001b[0m \u001b[0;34m\u001b[0m\u001b[0m\n\u001b[1;32m     15\u001b[0m \u001b[0;31m#主畫圖區\u001b[0m\u001b[0;34m\u001b[0m\u001b[0;34m\u001b[0m\u001b[0m\n\u001b[0;32m---> 16\u001b[0;31m \u001b[0mplt\u001b[0m\u001b[0;34m.\u001b[0m\u001b[0mplot\u001b[0m\u001b[0;34m(\u001b[0m\u001b[0mxx\u001b[0m\u001b[0;34m,\u001b[0m \u001b[0mSSE\u001b[0m\u001b[0;34m,\u001b[0m \u001b[0mc\u001b[0m\u001b[0;34m=\u001b[0m\u001b[0;34m'#AAAAAA'\u001b[0m\u001b[0;34m,\u001b[0m\u001b[0mlw\u001b[0m\u001b[0;34m=\u001b[0m\u001b[0;36m3\u001b[0m\u001b[0;34m)\u001b[0m\u001b[0;34m\u001b[0m\u001b[0m\n\u001b[0m\u001b[1;32m     17\u001b[0m \u001b[0mplt\u001b[0m\u001b[0;34m.\u001b[0m\u001b[0mplot\u001b[0m\u001b[0;34m(\u001b[0m\u001b[0mxx\u001b[0m\u001b[0;34m,\u001b[0m \u001b[0mSSE\u001b[0m\u001b[0;34m,\u001b[0m \u001b[0mc\u001b[0m\u001b[0;34m=\u001b[0m\u001b[0;34m'#AAAAAA'\u001b[0m\u001b[0;34m,\u001b[0m \u001b[0mmarker\u001b[0m\u001b[0;34m=\u001b[0m\u001b[0;34m'.'\u001b[0m\u001b[0;34m,\u001b[0m \u001b[0mmew\u001b[0m\u001b[0;34m=\u001b[0m\u001b[0;34m'6'\u001b[0m\u001b[0;34m)\u001b[0m\u001b[0;34m\u001b[0m\u001b[0m\n\u001b[1;32m     18\u001b[0m \u001b[0;34m\u001b[0m\u001b[0m\n",
      "\u001b[0;32m/home/ipyserver/.local/lib/python3.5/site-packages/matplotlib/pyplot.py\u001b[0m in \u001b[0;36mplot\u001b[0;34m(*args, **kwargs)\u001b[0m\n\u001b[1;32m   3315\u001b[0m                       mplDeprecation)\n\u001b[1;32m   3316\u001b[0m     \u001b[0;32mtry\u001b[0m\u001b[0;34m:\u001b[0m\u001b[0;34m\u001b[0m\u001b[0m\n\u001b[0;32m-> 3317\u001b[0;31m         \u001b[0mret\u001b[0m \u001b[0;34m=\u001b[0m \u001b[0max\u001b[0m\u001b[0;34m.\u001b[0m\u001b[0mplot\u001b[0m\u001b[0;34m(\u001b[0m\u001b[0;34m*\u001b[0m\u001b[0margs\u001b[0m\u001b[0;34m,\u001b[0m \u001b[0;34m**\u001b[0m\u001b[0mkwargs\u001b[0m\u001b[0;34m)\u001b[0m\u001b[0;34m\u001b[0m\u001b[0m\n\u001b[0m\u001b[1;32m   3318\u001b[0m     \u001b[0;32mfinally\u001b[0m\u001b[0;34m:\u001b[0m\u001b[0;34m\u001b[0m\u001b[0m\n\u001b[1;32m   3319\u001b[0m         \u001b[0max\u001b[0m\u001b[0;34m.\u001b[0m\u001b[0m_hold\u001b[0m \u001b[0;34m=\u001b[0m \u001b[0mwashold\u001b[0m\u001b[0;34m\u001b[0m\u001b[0m\n",
      "\u001b[0;32m/home/ipyserver/.local/lib/python3.5/site-packages/matplotlib/__init__.py\u001b[0m in \u001b[0;36minner\u001b[0;34m(ax, *args, **kwargs)\u001b[0m\n\u001b[1;32m   1896\u001b[0m                     warnings.warn(msg % (label_namer, func.__name__),\n\u001b[1;32m   1897\u001b[0m                                   RuntimeWarning, stacklevel=2)\n\u001b[0;32m-> 1898\u001b[0;31m             \u001b[0;32mreturn\u001b[0m \u001b[0mfunc\u001b[0m\u001b[0;34m(\u001b[0m\u001b[0max\u001b[0m\u001b[0;34m,\u001b[0m \u001b[0;34m*\u001b[0m\u001b[0margs\u001b[0m\u001b[0;34m,\u001b[0m \u001b[0;34m**\u001b[0m\u001b[0mkwargs\u001b[0m\u001b[0;34m)\u001b[0m\u001b[0;34m\u001b[0m\u001b[0m\n\u001b[0m\u001b[1;32m   1899\u001b[0m         \u001b[0mpre_doc\u001b[0m \u001b[0;34m=\u001b[0m \u001b[0minner\u001b[0m\u001b[0;34m.\u001b[0m\u001b[0m__doc__\u001b[0m\u001b[0;34m\u001b[0m\u001b[0m\n\u001b[1;32m   1900\u001b[0m         \u001b[0;32mif\u001b[0m \u001b[0mpre_doc\u001b[0m \u001b[0;32mis\u001b[0m \u001b[0;32mNone\u001b[0m\u001b[0;34m:\u001b[0m\u001b[0;34m\u001b[0m\u001b[0m\n",
      "\u001b[0;32m/home/ipyserver/.local/lib/python3.5/site-packages/matplotlib/axes/_axes.py\u001b[0m in \u001b[0;36mplot\u001b[0;34m(self, *args, **kwargs)\u001b[0m\n\u001b[1;32m   1404\u001b[0m         \u001b[0mkwargs\u001b[0m \u001b[0;34m=\u001b[0m \u001b[0mcbook\u001b[0m\u001b[0;34m.\u001b[0m\u001b[0mnormalize_kwargs\u001b[0m\u001b[0;34m(\u001b[0m\u001b[0mkwargs\u001b[0m\u001b[0;34m,\u001b[0m \u001b[0m_alias_map\u001b[0m\u001b[0;34m)\u001b[0m\u001b[0;34m\u001b[0m\u001b[0m\n\u001b[1;32m   1405\u001b[0m \u001b[0;34m\u001b[0m\u001b[0m\n\u001b[0;32m-> 1406\u001b[0;31m         \u001b[0;32mfor\u001b[0m \u001b[0mline\u001b[0m \u001b[0;32min\u001b[0m \u001b[0mself\u001b[0m\u001b[0;34m.\u001b[0m\u001b[0m_get_lines\u001b[0m\u001b[0;34m(\u001b[0m\u001b[0;34m*\u001b[0m\u001b[0margs\u001b[0m\u001b[0;34m,\u001b[0m \u001b[0;34m**\u001b[0m\u001b[0mkwargs\u001b[0m\u001b[0;34m)\u001b[0m\u001b[0;34m:\u001b[0m\u001b[0;34m\u001b[0m\u001b[0m\n\u001b[0m\u001b[1;32m   1407\u001b[0m             \u001b[0mself\u001b[0m\u001b[0;34m.\u001b[0m\u001b[0madd_line\u001b[0m\u001b[0;34m(\u001b[0m\u001b[0mline\u001b[0m\u001b[0;34m)\u001b[0m\u001b[0;34m\u001b[0m\u001b[0m\n\u001b[1;32m   1408\u001b[0m             \u001b[0mlines\u001b[0m\u001b[0;34m.\u001b[0m\u001b[0mappend\u001b[0m\u001b[0;34m(\u001b[0m\u001b[0mline\u001b[0m\u001b[0;34m)\u001b[0m\u001b[0;34m\u001b[0m\u001b[0m\n",
      "\u001b[0;32m/home/ipyserver/.local/lib/python3.5/site-packages/matplotlib/axes/_base.py\u001b[0m in \u001b[0;36m_grab_next_args\u001b[0;34m(self, *args, **kwargs)\u001b[0m\n\u001b[1;32m    405\u001b[0m                 \u001b[0;32mreturn\u001b[0m\u001b[0;34m\u001b[0m\u001b[0m\n\u001b[1;32m    406\u001b[0m             \u001b[0;32mif\u001b[0m \u001b[0mlen\u001b[0m\u001b[0;34m(\u001b[0m\u001b[0mremaining\u001b[0m\u001b[0;34m)\u001b[0m \u001b[0;34m<=\u001b[0m \u001b[0;36m3\u001b[0m\u001b[0;34m:\u001b[0m\u001b[0;34m\u001b[0m\u001b[0m\n\u001b[0;32m--> 407\u001b[0;31m                 \u001b[0;32mfor\u001b[0m \u001b[0mseg\u001b[0m \u001b[0;32min\u001b[0m \u001b[0mself\u001b[0m\u001b[0;34m.\u001b[0m\u001b[0m_plot_args\u001b[0m\u001b[0;34m(\u001b[0m\u001b[0mremaining\u001b[0m\u001b[0;34m,\u001b[0m \u001b[0mkwargs\u001b[0m\u001b[0;34m)\u001b[0m\u001b[0;34m:\u001b[0m\u001b[0;34m\u001b[0m\u001b[0m\n\u001b[0m\u001b[1;32m    408\u001b[0m                     \u001b[0;32myield\u001b[0m \u001b[0mseg\u001b[0m\u001b[0;34m\u001b[0m\u001b[0m\n\u001b[1;32m    409\u001b[0m                 \u001b[0;32mreturn\u001b[0m\u001b[0;34m\u001b[0m\u001b[0m\n",
      "\u001b[0;32m/home/ipyserver/.local/lib/python3.5/site-packages/matplotlib/axes/_base.py\u001b[0m in \u001b[0;36m_plot_args\u001b[0;34m(self, tup, kwargs)\u001b[0m\n\u001b[1;32m    383\u001b[0m             \u001b[0mx\u001b[0m\u001b[0;34m,\u001b[0m \u001b[0my\u001b[0m \u001b[0;34m=\u001b[0m \u001b[0mindex_of\u001b[0m\u001b[0;34m(\u001b[0m\u001b[0mtup\u001b[0m\u001b[0;34m[\u001b[0m\u001b[0;34m-\u001b[0m\u001b[0;36m1\u001b[0m\u001b[0;34m]\u001b[0m\u001b[0;34m)\u001b[0m\u001b[0;34m\u001b[0m\u001b[0m\n\u001b[1;32m    384\u001b[0m \u001b[0;34m\u001b[0m\u001b[0m\n\u001b[0;32m--> 385\u001b[0;31m         \u001b[0mx\u001b[0m\u001b[0;34m,\u001b[0m \u001b[0my\u001b[0m \u001b[0;34m=\u001b[0m \u001b[0mself\u001b[0m\u001b[0;34m.\u001b[0m\u001b[0m_xy_from_xy\u001b[0m\u001b[0;34m(\u001b[0m\u001b[0mx\u001b[0m\u001b[0;34m,\u001b[0m \u001b[0my\u001b[0m\u001b[0;34m)\u001b[0m\u001b[0;34m\u001b[0m\u001b[0m\n\u001b[0m\u001b[1;32m    386\u001b[0m \u001b[0;34m\u001b[0m\u001b[0m\n\u001b[1;32m    387\u001b[0m         \u001b[0;32mif\u001b[0m \u001b[0mself\u001b[0m\u001b[0;34m.\u001b[0m\u001b[0mcommand\u001b[0m \u001b[0;34m==\u001b[0m \u001b[0;34m'plot'\u001b[0m\u001b[0;34m:\u001b[0m\u001b[0;34m\u001b[0m\u001b[0m\n",
      "\u001b[0;32m/home/ipyserver/.local/lib/python3.5/site-packages/matplotlib/axes/_base.py\u001b[0m in \u001b[0;36m_xy_from_xy\u001b[0;34m(self, x, y)\u001b[0m\n\u001b[1;32m    242\u001b[0m         \u001b[0;32mif\u001b[0m \u001b[0mx\u001b[0m\u001b[0;34m.\u001b[0m\u001b[0mshape\u001b[0m\u001b[0;34m[\u001b[0m\u001b[0;36m0\u001b[0m\u001b[0;34m]\u001b[0m \u001b[0;34m!=\u001b[0m \u001b[0my\u001b[0m\u001b[0;34m.\u001b[0m\u001b[0mshape\u001b[0m\u001b[0;34m[\u001b[0m\u001b[0;36m0\u001b[0m\u001b[0;34m]\u001b[0m\u001b[0;34m:\u001b[0m\u001b[0;34m\u001b[0m\u001b[0m\n\u001b[1;32m    243\u001b[0m             raise ValueError(\"x and y must have same first dimension, but \"\n\u001b[0;32m--> 244\u001b[0;31m                              \"have shapes {} and {}\".format(x.shape, y.shape))\n\u001b[0m\u001b[1;32m    245\u001b[0m         \u001b[0;32mif\u001b[0m \u001b[0mx\u001b[0m\u001b[0;34m.\u001b[0m\u001b[0mndim\u001b[0m \u001b[0;34m>\u001b[0m \u001b[0;36m2\u001b[0m \u001b[0;32mor\u001b[0m \u001b[0my\u001b[0m\u001b[0;34m.\u001b[0m\u001b[0mndim\u001b[0m \u001b[0;34m>\u001b[0m \u001b[0;36m2\u001b[0m\u001b[0;34m:\u001b[0m\u001b[0;34m\u001b[0m\u001b[0m\n\u001b[1;32m    246\u001b[0m             raise ValueError(\"x and y can be no greater than 2-D, but have \"\n",
      "\u001b[0;31mValueError\u001b[0m: x and y must have same first dimension, but have shapes (10,) and (1,)"
     ]
    }
   ],
   "source": [
    "plt.style.use('seaborn-bright')\n",
    "\n",
    "fig = plt.figure(figsize=(20,5))\n",
    "#生成一个坐标框，对应一个图形对象，不显示坐标轴，但刻度仍在\n",
    "\n",
    "\n",
    "#設置x軸\n",
    "xx=[g for g in range(1,11)]\n",
    "ax = fig.add_subplot(111) #frameon= Tures\n",
    "\n",
    "   \n",
    "plt.rc('xtick', labelsize=18)\n",
    "plt.rc('ytick', labelsize=20)\n",
    "\n",
    "#主畫圖區\n",
    "plt.plot(xx, SSE, c='#AAAAAA',lw=3)\n",
    "plt.plot(xx, SSE, c='#AAAAAA', marker='.', mew='6')\n",
    "\n",
    "#Label\n",
    "plt.title('Sum of squared errors', fontsize=30)    \n",
    "#plt.xlabel('Number of k', fontsize=25)\n",
    "plt.ylabel('SSE', fontsize=25)\n",
    "plt.legend()\n",
    "\n",
    "\n",
    "plt.show()"
   ]
  },
  {
   "cell_type": "code",
   "execution_count": 30,
   "metadata": {},
   "outputs": [
    {
     "name": "stderr",
     "output_type": "stream",
     "text": [
      "/home/ipyserver/.local/lib/python3.5/site-packages/matplotlib/axes/_axes.py:545: UserWarning: No labelled objects found. Use label='...' kwarg on individual plots.\n",
      "  warnings.warn(\"No labelled objects found. \"\n"
     ]
    },
    {
     "data": {
      "image/png": "[encoded data removed]",
      "text/plain": [
       "<matplotlib.figure.Figure at 0x7f8ddde4afd0>"
      ]
     },
     "metadata": {},
     "output_type": "display_data"
    }
   ],
   "source": [
    "plt.style.use('seaborn-bright')\n",
    "\n",
    "fig = plt.figure(figsize=(20,5))\n",
    "\n",
    "\n",
    "#設置x軸\n",
    "#xx=[g for g in range(1,11)]\n",
    "xx = [1,2,3,4,5,6,7,8,9,10,11]\n",
    "ax = fig.add_subplot(111) #frameon= Tures\n",
    "#ax.set_xticks(xx)\n",
    "\n",
    "'''\n",
    "for k_x in range(1,25):\n",
    "    num = str(k_x)\n",
    "    k_trick.append('k='+num)\n",
    "ax.set_xticklabels(k_trick)\n",
    "'''\n",
    "plt.rc('xtick', labelsize=18)\n",
    "plt.rc('ytick', labelsize=20)\n",
    "\n",
    "#主畫圖區\n",
    "plt.plot(xx, silhouette_avg, c='#AAAAAA',lw=3)\n",
    "plt.plot(xx, silhouette_avg, c='#AAAAAA', marker='.', mew='6')\n",
    "\n",
    "#Label\n",
    "plt.title('Silhouette Coefficient', fontsize=30)    \n",
    "plt.xlabel('Number of Centers', fontsize=25)\n",
    "plt.ylabel('Silhouette', fontsize=25)\n",
    "plt.legend()\n",
    "\n",
    "\n",
    "plt.show()"
   ]
  },
  {
   "cell_type": "code",
   "execution_count": 39,
   "metadata": {},
   "outputs": [
    {
     "data": {
      "text/plain": [
       "array([[ -2.06481481e-01,   1.85833333e-01,  -3.99774011e-01,\n",
       "         -4.16111111e-01],\n",
       "       [ -2.62037037e-01,  -2.25000000e-02,  -3.99774011e-01,\n",
       "         -4.16111111e-01],\n",
       "       [ -3.17592593e-01,   6.08333333e-02,  -4.16723164e-01,\n",
       "         -4.16111111e-01],\n",
       "       [ -3.45370370e-01,   1.91666667e-02,  -3.82824859e-01,\n",
       "         -4.16111111e-01],\n",
       "       [ -2.34259259e-01,   2.27500000e-01,  -3.99774011e-01,\n",
       "         -4.16111111e-01],\n",
       "       [ -1.23148148e-01,   3.52500000e-01,  -3.48926554e-01,\n",
       "         -3.32777778e-01],\n",
       "       [ -3.45370370e-01,   1.44166667e-01,  -3.99774011e-01,\n",
       "         -3.74444444e-01],\n",
       "       [ -2.34259259e-01,   1.44166667e-01,  -3.82824859e-01,\n",
       "         -4.16111111e-01],\n",
       "       [ -4.00925926e-01,  -6.41666667e-02,  -3.99774011e-01,\n",
       "         -4.16111111e-01],\n",
       "       [ -2.62037037e-01,   1.91666667e-02,  -3.82824859e-01,\n",
       "         -4.57777778e-01],\n",
       "       [ -1.23148148e-01,   2.69166667e-01,  -3.82824859e-01,\n",
       "         -4.16111111e-01],\n",
       "       [ -2.89814815e-01,   1.44166667e-01,  -3.65875706e-01,\n",
       "         -4.16111111e-01],\n",
       "       [ -2.89814815e-01,  -2.25000000e-02,  -3.99774011e-01,\n",
       "         -4.57777778e-01],\n",
       "       [ -4.28703704e-01,  -2.25000000e-02,  -4.50621469e-01,\n",
       "         -4.57777778e-01],\n",
       "       [ -1.20370370e-02,   3.94166667e-01,  -4.33672316e-01,\n",
       "         -4.16111111e-01],\n",
       "       [ -3.98148148e-02,   5.60833333e-01,  -3.82824859e-01,\n",
       "         -3.32777778e-01],\n",
       "       [ -1.23148148e-01,   3.52500000e-01,  -4.16723164e-01,\n",
       "         -3.32777778e-01],\n",
       "       [ -2.06481481e-01,   1.85833333e-01,  -3.99774011e-01,\n",
       "         -3.74444444e-01],\n",
       "       [ -3.98148148e-02,   3.10833333e-01,  -3.48926554e-01,\n",
       "         -3.74444444e-01],\n",
       "       [ -2.06481481e-01,   3.10833333e-01,  -3.82824859e-01,\n",
       "         -3.74444444e-01],\n",
       "       [ -1.23148148e-01,   1.44166667e-01,  -3.48926554e-01,\n",
       "         -4.16111111e-01],\n",
       "       [ -2.06481481e-01,   2.69166667e-01,  -3.82824859e-01,\n",
       "         -3.32777778e-01],\n",
       "       [ -3.45370370e-01,   2.27500000e-01,  -4.67570621e-01,\n",
       "         -4.16111111e-01],\n",
       "       [ -2.06481481e-01,   1.02500000e-01,  -3.48926554e-01,\n",
       "         -2.91111111e-01],\n",
       "       [ -2.89814815e-01,   1.44166667e-01,  -3.15028249e-01,\n",
       "         -4.16111111e-01],\n",
       "       [ -2.34259259e-01,  -2.25000000e-02,  -3.65875706e-01,\n",
       "         -4.16111111e-01],\n",
       "       [ -2.34259259e-01,   1.44166667e-01,  -3.65875706e-01,\n",
       "         -3.32777778e-01],\n",
       "       [ -1.78703704e-01,   1.85833333e-01,  -3.82824859e-01,\n",
       "         -4.16111111e-01],\n",
       "       [ -1.78703704e-01,   1.44166667e-01,  -3.99774011e-01,\n",
       "         -4.16111111e-01],\n",
       "       [ -3.17592593e-01,   6.08333333e-02,  -3.65875706e-01,\n",
       "         -4.16111111e-01],\n",
       "       [ -2.89814815e-01,   1.91666667e-02,  -3.65875706e-01,\n",
       "         -4.16111111e-01],\n",
       "       [ -1.23148148e-01,   1.44166667e-01,  -3.82824859e-01,\n",
       "         -3.32777778e-01],\n",
       "       [ -1.78703704e-01,   4.35833333e-01,  -3.82824859e-01,\n",
       "         -4.57777778e-01],\n",
       "       [ -9.53703704e-02,   4.77500000e-01,  -3.99774011e-01,\n",
       "         -4.16111111e-01],\n",
       "       [ -2.62037037e-01,   1.91666667e-02,  -3.82824859e-01,\n",
       "         -4.57777778e-01],\n",
       "       [ -2.34259259e-01,   6.08333333e-02,  -4.33672316e-01,\n",
       "         -4.16111111e-01],\n",
       "       [ -9.53703704e-02,   1.85833333e-01,  -4.16723164e-01,\n",
       "         -4.16111111e-01],\n",
       "       [ -2.62037037e-01,   1.91666667e-02,  -3.82824859e-01,\n",
       "         -4.57777778e-01],\n",
       "       [ -4.00925926e-01,  -2.25000000e-02,  -4.16723164e-01,\n",
       "         -4.16111111e-01],\n",
       "       [ -2.06481481e-01,   1.44166667e-01,  -3.82824859e-01,\n",
       "         -4.16111111e-01],\n",
       "       [ -2.34259259e-01,   1.85833333e-01,  -4.16723164e-01,\n",
       "         -3.74444444e-01],\n",
       "       [ -3.73148148e-01,  -3.14166667e-01,  -4.16723164e-01,\n",
       "         -3.74444444e-01],\n",
       "       [ -4.00925926e-01,   6.08333333e-02,  -4.16723164e-01,\n",
       "         -4.16111111e-01],\n",
       "       [ -2.34259259e-01,   1.85833333e-01,  -3.65875706e-01,\n",
       "         -2.49444444e-01],\n",
       "       [ -2.06481481e-01,   3.10833333e-01,  -3.15028249e-01,\n",
       "         -3.32777778e-01],\n",
       "       [ -2.89814815e-01,  -2.25000000e-02,  -3.99774011e-01,\n",
       "         -3.74444444e-01],\n",
       "       [ -2.06481481e-01,   3.10833333e-01,  -3.65875706e-01,\n",
       "         -4.16111111e-01],\n",
       "       [ -3.45370370e-01,   6.08333333e-02,  -3.99774011e-01,\n",
       "         -4.16111111e-01],\n",
       "       [ -1.50925926e-01,   2.69166667e-01,  -3.82824859e-01,\n",
       "         -4.16111111e-01],\n",
       "       [ -2.34259259e-01,   1.02500000e-01,  -3.99774011e-01,\n",
       "         -4.16111111e-01],\n",
       "       [  3.21296296e-01,   6.08333333e-02,   1.59548023e-01,\n",
       "          8.38888889e-02],\n",
       "       [  1.54629630e-01,   6.08333333e-02,   1.25649718e-01,\n",
       "          1.25555556e-01],\n",
       "       [  2.93518519e-01,   1.91666667e-02,   1.93446328e-01,\n",
       "          1.25555556e-01],\n",
       "       [ -9.53703704e-02,  -3.14166667e-01,   4.09039548e-02,\n",
       "          4.22222222e-02],\n",
       "       [  1.82407407e-01,  -1.05833333e-01,   1.42598870e-01,\n",
       "          1.25555556e-01],\n",
       "       [ -3.98148148e-02,  -1.05833333e-01,   1.25649718e-01,\n",
       "          4.22222222e-02],\n",
       "       [  1.26851852e-01,   1.02500000e-01,   1.59548023e-01,\n",
       "          1.67222222e-01],\n",
       "       [ -2.62037037e-01,  -2.72500000e-01,  -7.77401130e-02,\n",
       "         -8.27777778e-02],\n",
       "       [  2.10185185e-01,  -6.41666667e-02,   1.42598870e-01,\n",
       "          4.22222222e-02],\n",
       "       [ -1.78703704e-01,  -1.47500000e-01,   2.39548023e-02,\n",
       "          8.38888889e-02],\n",
       "       [ -2.34259259e-01,  -4.39166667e-01,  -4.38418079e-02,\n",
       "         -8.27777778e-02],\n",
       "       [  1.57407407e-02,  -2.25000000e-02,   7.48022599e-02,\n",
       "          1.25555556e-01],\n",
       "       [  4.35185185e-02,  -3.55833333e-01,   4.09039548e-02,\n",
       "         -8.27777778e-02],\n",
       "       [  7.12962963e-02,  -6.41666667e-02,   1.59548023e-01,\n",
       "          8.38888889e-02],\n",
       "       [ -6.75925926e-02,  -6.41666667e-02,  -2.68926554e-02,\n",
       "          4.22222222e-02],\n",
       "       [  2.37962963e-01,   1.91666667e-02,   1.08700565e-01,\n",
       "          8.38888889e-02],\n",
       "       [ -6.75925926e-02,  -2.25000000e-02,   1.25649718e-01,\n",
       "          1.25555556e-01],\n",
       "       [ -1.20370370e-02,  -1.47500000e-01,   5.78531073e-02,\n",
       "         -8.27777778e-02],\n",
       "       [  9.90740741e-02,  -3.55833333e-01,   1.25649718e-01,\n",
       "          1.25555556e-01],\n",
       "       [ -6.75925926e-02,  -2.30833333e-01,   2.39548023e-02,\n",
       "         -4.11111111e-02],\n",
       "       [  1.57407407e-02,   6.08333333e-02,   1.76497175e-01,\n",
       "          2.50555556e-01],\n",
       "       [  7.12962963e-02,  -1.05833333e-01,   4.09039548e-02,\n",
       "          4.22222222e-02],\n",
       "       [  1.26851852e-01,  -2.30833333e-01,   1.93446328e-01,\n",
       "          1.25555556e-01],\n",
       "       [  7.12962963e-02,  -1.05833333e-01,   1.59548023e-01,\n",
       "          5.55555556e-04],\n",
       "       [  1.54629630e-01,  -6.41666667e-02,   9.17514124e-02,\n",
       "          4.22222222e-02],\n",
       "       [  2.10185185e-01,  -2.25000000e-02,   1.08700565e-01,\n",
       "          8.38888889e-02],\n",
       "       [  2.65740741e-01,  -1.05833333e-01,   1.76497175e-01,\n",
       "          8.38888889e-02],\n",
       "       [  2.37962963e-01,  -2.25000000e-02,   2.10395480e-01,\n",
       "          2.08888889e-01],\n",
       "       [  4.35185185e-02,  -6.41666667e-02,   1.25649718e-01,\n",
       "          1.25555556e-01],\n",
       "       [ -3.98148148e-02,  -1.89166667e-01,  -4.38418079e-02,\n",
       "         -8.27777778e-02],\n",
       "       [ -9.53703704e-02,  -2.72500000e-01,   7.00564972e-03,\n",
       "         -4.11111111e-02],\n",
       "       [ -9.53703704e-02,  -2.72500000e-01,  -9.94350282e-03,\n",
       "         -8.27777778e-02],\n",
       "       [ -1.20370370e-02,  -1.47500000e-01,   2.39548023e-02,\n",
       "          5.55555556e-04],\n",
       "       [  4.35185185e-02,  -1.47500000e-01,   2.27344633e-01,\n",
       "          1.67222222e-01],\n",
       "       [ -1.23148148e-01,  -2.25000000e-02,   1.25649718e-01,\n",
       "          1.25555556e-01],\n",
       "       [  4.35185185e-02,   1.44166667e-01,   1.25649718e-01,\n",
       "          1.67222222e-01],\n",
       "       [  2.37962963e-01,   1.91666667e-02,   1.59548023e-01,\n",
       "          1.25555556e-01],\n",
       "       [  1.26851852e-01,  -3.14166667e-01,   1.08700565e-01,\n",
       "          4.22222222e-02],\n",
       "       [ -6.75925926e-02,  -2.25000000e-02,   5.78531073e-02,\n",
       "          4.22222222e-02],\n",
       "       [ -9.53703704e-02,  -2.30833333e-01,   4.09039548e-02,\n",
       "          4.22222222e-02],\n",
       "       [ -9.53703704e-02,  -1.89166667e-01,   1.08700565e-01,\n",
       "          5.55555556e-04],\n",
       "       [  7.12962963e-02,  -2.25000000e-02,   1.42598870e-01,\n",
       "          8.38888889e-02],\n",
       "       [ -1.20370370e-02,  -1.89166667e-01,   4.09039548e-02,\n",
       "          5.55555556e-04],\n",
       "       [ -2.34259259e-01,  -3.14166667e-01,  -7.77401130e-02,\n",
       "         -8.27777778e-02],\n",
       "       [ -6.75925926e-02,  -1.47500000e-01,   7.48022599e-02,\n",
       "          4.22222222e-02],\n",
       "       [ -3.98148148e-02,  -2.25000000e-02,   7.48022599e-02,\n",
       "          5.55555556e-04],\n",
       "       [ -3.98148148e-02,  -6.41666667e-02,   7.48022599e-02,\n",
       "          4.22222222e-02],\n",
       "       [  9.90740741e-02,  -6.41666667e-02,   9.17514124e-02,\n",
       "          4.22222222e-02],\n",
       "       [ -2.06481481e-01,  -2.30833333e-01,  -1.28587571e-01,\n",
       "         -4.11111111e-02],\n",
       "       [ -3.98148148e-02,  -1.05833333e-01,   5.78531073e-02,\n",
       "          4.22222222e-02],\n",
       "       [  1.26851852e-01,   1.02500000e-01,   3.79887006e-01,\n",
       "          5.42222222e-01],\n",
       "       [ -1.20370370e-02,  -1.47500000e-01,   2.27344633e-01,\n",
       "          2.92222222e-01],\n",
       "       [  3.49074074e-01,  -2.25000000e-02,   3.62937853e-01,\n",
       "          3.75555556e-01],\n",
       "       [  1.26851852e-01,  -6.41666667e-02,   3.12090395e-01,\n",
       "          2.50555556e-01],\n",
       "       [  1.82407407e-01,  -2.25000000e-02,   3.45988701e-01,\n",
       "          4.17222222e-01],\n",
       "       [  4.87962963e-01,  -2.25000000e-02,   4.81581921e-01,\n",
       "          3.75555556e-01],\n",
       "       [ -2.62037037e-01,  -2.30833333e-01,   1.25649718e-01,\n",
       "          2.08888889e-01],\n",
       "       [  4.04629630e-01,  -6.41666667e-02,   4.30734463e-01,\n",
       "          2.50555556e-01],\n",
       "       [  2.37962963e-01,  -2.30833333e-01,   3.45988701e-01,\n",
       "          2.50555556e-01],\n",
       "       [  3.76851852e-01,   2.27500000e-01,   3.96836158e-01,\n",
       "          5.42222222e-01],\n",
       "       [  1.82407407e-01,   6.08333333e-02,   2.27344633e-01,\n",
       "          3.33888889e-01],\n",
       "       [  1.54629630e-01,  -1.47500000e-01,   2.61242938e-01,\n",
       "          2.92222222e-01],\n",
       "       [  2.65740741e-01,  -2.25000000e-02,   2.95141243e-01,\n",
       "          3.75555556e-01],\n",
       "       [ -3.98148148e-02,  -2.30833333e-01,   2.10395480e-01,\n",
       "          3.33888889e-01],\n",
       "       [ -1.20370370e-02,  -1.05833333e-01,   2.27344633e-01,\n",
       "          5.00555556e-01],\n",
       "       [  1.54629630e-01,   6.08333333e-02,   2.61242938e-01,\n",
       "          4.58888889e-01],\n",
       "       [  1.82407407e-01,  -2.25000000e-02,   2.95141243e-01,\n",
       "          2.50555556e-01],\n",
       "       [  5.15740741e-01,   3.10833333e-01,   4.98531073e-01,\n",
       "          4.17222222e-01],\n",
       "       [  5.15740741e-01,  -1.89166667e-01,   5.32429379e-01,\n",
       "          4.58888889e-01],\n",
       "       [  4.35185185e-02,  -3.55833333e-01,   2.10395480e-01,\n",
       "          1.25555556e-01],\n",
       "       [  2.93518519e-01,   6.08333333e-02,   3.29039548e-01,\n",
       "          4.58888889e-01],\n",
       "       [ -6.75925926e-02,  -1.05833333e-01,   1.93446328e-01,\n",
       "          3.33888889e-01],\n",
       "       [  5.15740741e-01,  -1.05833333e-01,   4.98531073e-01,\n",
       "          3.33888889e-01],\n",
       "       [  1.26851852e-01,  -1.47500000e-01,   1.93446328e-01,\n",
       "          2.50555556e-01],\n",
       "       [  2.37962963e-01,   1.02500000e-01,   3.29039548e-01,\n",
       "          3.75555556e-01],\n",
       "       [  3.76851852e-01,   6.08333333e-02,   3.79887006e-01,\n",
       "          2.50555556e-01],\n",
       "       [  9.90740741e-02,  -1.05833333e-01,   1.76497175e-01,\n",
       "          2.50555556e-01],\n",
       "       [  7.12962963e-02,  -2.25000000e-02,   1.93446328e-01,\n",
       "          2.50555556e-01],\n",
       "       [  1.54629630e-01,  -1.05833333e-01,   3.12090395e-01,\n",
       "          3.75555556e-01],\n",
       "       [  3.76851852e-01,  -2.25000000e-02,   3.45988701e-01,\n",
       "          1.67222222e-01],\n",
       "       [  4.32407407e-01,  -1.05833333e-01,   3.96836158e-01,\n",
       "          2.92222222e-01],\n",
       "       [  5.71296296e-01,   3.10833333e-01,   4.47683616e-01,\n",
       "          3.33888889e-01],\n",
       "       [  1.54629630e-01,  -1.05833333e-01,   3.12090395e-01,\n",
       "          4.17222222e-01],\n",
       "       [  1.26851852e-01,  -1.05833333e-01,   2.27344633e-01,\n",
       "          1.25555556e-01],\n",
       "       [  7.12962963e-02,  -1.89166667e-01,   3.12090395e-01,\n",
       "          8.38888889e-02],\n",
       "       [  5.15740741e-01,  -2.25000000e-02,   3.96836158e-01,\n",
       "          4.58888889e-01],\n",
       "       [  1.26851852e-01,   1.44166667e-01,   3.12090395e-01,\n",
       "          5.00555556e-01],\n",
       "       [  1.54629630e-01,   1.91666667e-02,   2.95141243e-01,\n",
       "          2.50555556e-01],\n",
       "       [  4.35185185e-02,  -2.25000000e-02,   1.76497175e-01,\n",
       "          2.50555556e-01],\n",
       "       [  2.93518519e-01,   1.91666667e-02,   2.78192090e-01,\n",
       "          3.75555556e-01],\n",
       "       [  2.37962963e-01,   1.91666667e-02,   3.12090395e-01,\n",
       "          5.00555556e-01],\n",
       "       [  2.93518519e-01,   1.91666667e-02,   2.27344633e-01,\n",
       "          4.58888889e-01],\n",
       "       [ -1.20370370e-02,  -1.47500000e-01,   2.27344633e-01,\n",
       "          2.92222222e-01],\n",
       "       [  2.65740741e-01,   6.08333333e-02,   3.62937853e-01,\n",
       "          4.58888889e-01],\n",
       "       [  2.37962963e-01,   1.02500000e-01,   3.29039548e-01,\n",
       "          5.42222222e-01],\n",
       "       [  2.37962963e-01,  -2.25000000e-02,   2.44293785e-01,\n",
       "          4.58888889e-01],\n",
       "       [  1.26851852e-01,  -2.30833333e-01,   2.10395480e-01,\n",
       "          2.92222222e-01],\n",
       "       [  1.82407407e-01,  -2.25000000e-02,   2.44293785e-01,\n",
       "          3.33888889e-01],\n",
       "       [  9.90740741e-02,   1.44166667e-01,   2.78192090e-01,\n",
       "          4.58888889e-01],\n",
       "       [  1.57407407e-02,  -2.25000000e-02,   2.27344633e-01,\n",
       "          2.50555556e-01]])"
      ]
     },
     "execution_count": 39,
     "metadata": {},
     "output_type": "execute_result"
    }
   ],
   "source": [
    "d_nor "
   ]
  },
  {
   "cell_type": "code",
   "execution_count": null,
   "metadata": {
    "collapsed": true
   },
   "outputs": [],
   "source": []
  }
 ],
 "metadata": {
  "kernelspec": {
   "display_name": "Python 3",
   "language": "python",
   "name": "python3"
  },
  "language_info": {
   "codemirror_mode": {
    "name": "ipython",
    "version": 3
   },
   "file_extension": ".py",
   "mimetype": "text/x-python",
   "name": "python",
   "nbconvert_exporter": "python",
   "pygments_lexer": "ipython3",
   "version": "3.6.5"
  }
 },
 "nbformat": 4,
 "nbformat_minor": 2
}
