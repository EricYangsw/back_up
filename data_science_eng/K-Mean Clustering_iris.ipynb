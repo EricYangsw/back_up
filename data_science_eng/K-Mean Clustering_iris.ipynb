{
 "cells": [
  {
   "cell_type": "code",
   "execution_count": 2,
   "metadata": {
    "collapsed": true
   },
   "outputs": [],
   "source": [
    "import pandas as pd\n",
    "import numpy as np\n",
    "import matplotlib.pyplot as plt\n",
    "from sklearn.cluster import KMeans\n",
    "import statistics as sta"
   ]
  },
  {
   "cell_type": "code",
   "execution_count": 3,
   "metadata": {},
   "outputs": [
    {
     "data": {
      "text/html": [
       "<div>\n",
       "<style>\n",
       "    .dataframe thead tr:only-child th {\n",
       "        text-align: right;\n",
       "    }\n",
       "\n",
       "    .dataframe thead th {\n",
       "        text-align: left;\n",
       "    }\n",
       "\n",
       "    .dataframe tbody tr th {\n",
       "        vertical-align: top;\n",
       "    }\n",
       "</style>\n",
       "<table border=\"1\" class=\"dataframe\">\n",
       "  <thead>\n",
       "    <tr style=\"text-align: right;\">\n",
       "      <th></th>\n",
       "      <th>花萼長度</th>\n",
       "      <th>花萼寬度</th>\n",
       "      <th>花瓣長度</th>\n",
       "      <th>花瓣寬度</th>\n",
       "      <th>屬種</th>\n",
       "    </tr>\n",
       "  </thead>\n",
       "  <tbody>\n",
       "    <tr>\n",
       "      <th>0</th>\n",
       "      <td>5.1</td>\n",
       "      <td>3.5</td>\n",
       "      <td>1.4</td>\n",
       "      <td>0.2</td>\n",
       "      <td>Iris-setosa</td>\n",
       "    </tr>\n",
       "    <tr>\n",
       "      <th>1</th>\n",
       "      <td>4.9</td>\n",
       "      <td>3.0</td>\n",
       "      <td>1.4</td>\n",
       "      <td>0.2</td>\n",
       "      <td>Iris-setosa</td>\n",
       "    </tr>\n",
       "    <tr>\n",
       "      <th>2</th>\n",
       "      <td>4.7</td>\n",
       "      <td>3.2</td>\n",
       "      <td>1.3</td>\n",
       "      <td>0.2</td>\n",
       "      <td>Iris-setosa</td>\n",
       "    </tr>\n",
       "    <tr>\n",
       "      <th>3</th>\n",
       "      <td>4.6</td>\n",
       "      <td>3.1</td>\n",
       "      <td>1.5</td>\n",
       "      <td>0.2</td>\n",
       "      <td>Iris-setosa</td>\n",
       "    </tr>\n",
       "    <tr>\n",
       "      <th>4</th>\n",
       "      <td>5.0</td>\n",
       "      <td>3.6</td>\n",
       "      <td>1.4</td>\n",
       "      <td>0.2</td>\n",
       "      <td>Iris-setosa</td>\n",
       "    </tr>\n",
       "  </tbody>\n",
       "</table>\n",
       "</div>"
      ],
      "text/plain": [
       "   花萼長度  花萼寬度  花瓣長度  花瓣寬度           屬種\n",
       "0   5.1   3.5   1.4   0.2  Iris-setosa\n",
       "1   4.9   3.0   1.4   0.2  Iris-setosa\n",
       "2   4.7   3.2   1.3   0.2  Iris-setosa\n",
       "3   4.6   3.1   1.5   0.2  Iris-setosa\n",
       "4   5.0   3.6   1.4   0.2  Iris-setosa"
      ]
     },
     "execution_count": 3,
     "metadata": {},
     "output_type": "execute_result"
    }
   ],
   "source": [
    "#read the data\n",
    "movie = pd.read_csv(\"iris.csv\", encoding='big5')\n",
    "movie.head()"
   ]
  },
  {
   "cell_type": "code",
   "execution_count": null,
   "metadata": {
    "collapsed": true
   },
   "outputs": [],
   "source": []
  },
  {
   "cell_type": "code",
   "execution_count": 4,
   "metadata": {},
   "outputs": [
    {
     "data": {
      "text/html": [
       "<div>\n",
       "<style>\n",
       "    .dataframe thead tr:only-child th {\n",
       "        text-align: right;\n",
       "    }\n",
       "\n",
       "    .dataframe thead th {\n",
       "        text-align: left;\n",
       "    }\n",
       "\n",
       "    .dataframe tbody tr th {\n",
       "        vertical-align: top;\n",
       "    }\n",
       "</style>\n",
       "<table border=\"1\" class=\"dataframe\">\n",
       "  <thead>\n",
       "    <tr style=\"text-align: right;\">\n",
       "      <th></th>\n",
       "      <th>花萼長度</th>\n",
       "      <th>花萼寬度</th>\n",
       "      <th>花瓣長度</th>\n",
       "      <th>花瓣寬度</th>\n",
       "    </tr>\n",
       "  </thead>\n",
       "  <tbody>\n",
       "    <tr>\n",
       "      <th>花萼長度</th>\n",
       "      <td>1.000000</td>\n",
       "      <td>-0.109369</td>\n",
       "      <td>0.871754</td>\n",
       "      <td>0.817954</td>\n",
       "    </tr>\n",
       "    <tr>\n",
       "      <th>花萼寬度</th>\n",
       "      <td>-0.109369</td>\n",
       "      <td>1.000000</td>\n",
       "      <td>-0.420516</td>\n",
       "      <td>-0.356544</td>\n",
       "    </tr>\n",
       "    <tr>\n",
       "      <th>花瓣長度</th>\n",
       "      <td>0.871754</td>\n",
       "      <td>-0.420516</td>\n",
       "      <td>1.000000</td>\n",
       "      <td>0.962757</td>\n",
       "    </tr>\n",
       "    <tr>\n",
       "      <th>花瓣寬度</th>\n",
       "      <td>0.817954</td>\n",
       "      <td>-0.356544</td>\n",
       "      <td>0.962757</td>\n",
       "      <td>1.000000</td>\n",
       "    </tr>\n",
       "  </tbody>\n",
       "</table>\n",
       "</div>"
      ],
      "text/plain": [
       "          花萼長度      花萼寬度      花瓣長度      花瓣寬度\n",
       "花萼長度  1.000000 -0.109369  0.871754  0.817954\n",
       "花萼寬度 -0.109369  1.000000 -0.420516 -0.356544\n",
       "花瓣長度  0.871754 -0.420516  1.000000  0.962757\n",
       "花瓣寬度  0.817954 -0.356544  0.962757  1.000000"
      ]
     },
     "execution_count": 4,
     "metadata": {},
     "output_type": "execute_result"
    }
   ],
   "source": [
    "#correlation analysis\n",
    "movie.corr()"
   ]
  },
  {
   "cell_type": "code",
   "execution_count": 17,
   "metadata": {},
   "outputs": [
    {
     "data": {
      "text/plain": [
       "\"\\n#corrtest test\\nimport math\\nopen_std = movie['openness'].std()\\nopen_mean = movie['openness'].mean()\\ncons_std = movie['conscientiousness'].std()\\ncons_mean = movie['conscientiousness'].mean()\\n\\ntotal = 0\\nlength = len(movie)\\nfor i in range(length):\\n    tem = (movie['openness'][i]-open_mean)*(movie['conscientiousness'][i]-cons_mean)\\n    total = total + tem\\n\\nrr = total / (open_std*(length**0.5)*cons_std*(length**0.5))\\n\""
      ]
     },
     "execution_count": 17,
     "metadata": {},
     "output_type": "execute_result"
    }
   ],
   "source": [
    "'''\n",
    "#corrtest test make sure the correlation methon\n",
    "import math\n",
    "open_std = movie['openness'].std()\n",
    "open_mean = movie['openness'].mean()\n",
    "cons_std = movie['conscientiousness'].std()\n",
    "cons_mean = movie['conscientiousness'].mean()\n",
    "\n",
    "total = 0\n",
    "length = len(movie)\n",
    "for i in range(length):\n",
    "    tem = (movie['openness'][i]-open_mean)*(movie['conscientiousness'][i]-cons_mean)\n",
    "    total = total + tem\n",
    "\n",
    "rr = total / (open_std*(length**0.5)*cons_std*(length**0.5))\n",
    "'''"
   ]
  },
  {
   "cell_type": "code",
   "execution_count": 23,
   "metadata": {},
   "outputs": [],
   "source": [
    "#Feature added by the result of correlation\n",
    "Feature = pd.DataFrame()\n",
    "Feature['花萼長度'] = movie['花萼長度']\n",
    "Feature['花萼寬度'] = movie['花萼寬度']\n",
    "Feature['花瓣長度'] = movie['花瓣長度']\n",
    "Feature['花瓣寬度'] = movie['花瓣寬度']"
   ]
  },
  {
   "cell_type": "markdown",
   "metadata": {},
   "source": [
    "# K-Mean"
   ]
  },
  {
   "cell_type": "code",
   "execution_count": 28,
   "metadata": {
    "collapsed": true
   },
   "outputs": [],
   "source": [
    "# set cluster number(手動)\n",
    "cluster_number = 10"
   ]
  },
  {
   "cell_type": "code",
   "execution_count": 30,
   "metadata": {},
   "outputs": [],
   "source": [
    "\n",
    "k_number = cluster_number +1\n",
    "length = len(movie)\n",
    "scatter = []\n",
    "SSE = []\n",
    "\n",
    "X = Feature[['花萼長度','花萼寬度','花瓣長度','花瓣寬度']].values\n",
    "for k in range(1,k_number):\n",
    "    #計算分K群的K-Mean\n",
    "    km = KMeans(n_clusters=k)\n",
    "    y_pred = km.fit_predict(X)\n",
    "    Feature['predic'] = y_pred\n",
    "    \n",
    "    \n",
    "    if k ==3:\n",
    "        center_k3 = km.cluster_centers_\n",
    "        y_pred_k3 = y_pred\n",
    "    \n",
    "    #取中心點\n",
    "    center = km.cluster_centers_\n",
    "    \n",
    "    \n",
    "    #取 SSE\n",
    "    SSE.append(km.inertia_)  \n",
    "\n",
    "  "
   ]
  },
  {
   "cell_type": "code",
   "execution_count": null,
   "metadata": {
    "collapsed": true
   },
   "outputs": [],
   "source": [
    "fig = plt.figure(figsize=(12,8))\n",
    "\n",
    "# 畫初始點\n",
    "plt.scatter()\n",
    "plt.scatter()"
   ]
  },
  {
   "cell_type": "code",
   "execution_count": null,
   "metadata": {
    "collapsed": true
   },
   "outputs": [],
   "source": []
  },
  {
   "cell_type": "code",
   "execution_count": null,
   "metadata": {
    "collapsed": true
   },
   "outputs": [],
   "source": []
  },
  {
   "cell_type": "code",
   "execution_count": null,
   "metadata": {},
   "outputs": [],
   "source": []
  },
  {
   "cell_type": "markdown",
   "metadata": {},
   "source": [
    "# Plot(Sum of squared errors)"
   ]
  },
  {
   "cell_type": "code",
   "execution_count": 12,
   "metadata": {},
   "outputs": [
    {
     "name": "stderr",
     "output_type": "stream",
     "text": [
      "C:\\Users\\Eric\\Anaconda3\\envs\\DataSC\\lib\\site-packages\\matplotlib\\axes\\_axes.py:545: UserWarning: No labelled objects found. Use label='...' kwarg on individual plots.\n",
      "  warnings.warn(\"No labelled objects found. \"\n"
     ]
    },
    {
     "data": {
      "image/png": "[encoded data removed]",
      "text/plain": [
       "<matplotlib.figure.Figure at 0x24e2bbbe320>"
      ]
     },
     "metadata": {},
     "output_type": "display_data"
    }
   ],
   "source": [
    "plt.style.use('seaborn-bright')\n",
    "\n",
    "fig = plt.figure(figsize=(20,5))\n",
    "#生成一个坐标框，对应一个图形对象，不显示坐标轴，但刻度仍在\n",
    "\n",
    "\n",
    "#設置x軸\n",
    "xx=[g for g in range(1,k_number)]\n",
    "ax = fig.add_subplot(111) #frameon= Tures\n",
    "ax.set_xticks(xx)\n",
    "for k_x in range(1,k_number):\n",
    "    num = str(k_x)\n",
    "    k_trick.append('k='+num)\n",
    "ax.set_xticklabels(k_trick)    \n",
    "plt.rc('xtick', labelsize=18)\n",
    "plt.rc('ytick', labelsize=20)\n",
    "\n",
    "#主畫圖區\n",
    "plt.plot(xx, SSE, c='#AAAAAA',lw=3)\n",
    "plt.plot(xx, SSE, c='#AAAAAA', marker='.', mew='6')\n",
    "\n",
    "#Label\n",
    "plt.title('Sum of squared errors', fontsize=30)    \n",
    "#plt.xlabel('Number of k', fontsize=25)\n",
    "plt.ylabel('SSE', fontsize=25)\n",
    "plt.legend()\n",
    "\n",
    "\n",
    "plt.show()"
   ]
  },
  {
   "cell_type": "code",
   "execution_count": null,
   "metadata": {
    "collapsed": true
   },
   "outputs": [],
   "source": []
  },
  {
   "cell_type": "markdown",
   "metadata": {},
   "source": [
    "# silhouette coefficient"
   ]
  },
  {
   "cell_type": "code",
   "execution_count": 18,
   "metadata": {
    "collapsed": true
   },
   "outputs": [],
   "source": [
    "# set cluster number for silhuette(手動)\n",
    "cluster_number_silhouette_coe = 100    "
   ]
  },
  {
   "cell_type": "code",
   "execution_count": 19,
   "metadata": {
    "collapsed": true
   },
   "outputs": [],
   "source": [
    "from sklearn.metrics import silhouette_samples, silhouette_score\n",
    "k_number_silh = cluster_number_silhouette_coe+1\n",
    "\n",
    "\n",
    "silhouette_avg=[]\n",
    "silhouette_avg.append(-1)  \n",
    "#k=1時,silhouette coefficient = -1 (但是為了圖好看，設定為0，後續用繪圖軟體修掉點位)\n",
    "\n",
    "for k in range(2,k_number_silh):\n",
    "    #計算分K群的K-Mean\n",
    "    km = KMeans(n_clusters=k)\n",
    "    y_pred = km.fit_predict(X)\n",
    "    Feature['predic'] = y_pred\n",
    "\n",
    "    silhouette_avg.append(silhouette_score(X, y_pred))\n"
   ]
  },
  {
   "cell_type": "code",
   "execution_count": 20,
   "metadata": {},
   "outputs": [
    {
     "name": "stderr",
     "output_type": "stream",
     "text": [
      "C:\\Users\\Eric\\Anaconda3\\envs\\DataSC\\lib\\site-packages\\matplotlib\\axes\\_axes.py:545: UserWarning: No labelled objects found. Use label='...' kwarg on individual plots.\n",
      "  warnings.warn(\"No labelled objects found. \"\n"
     ]
    },
    {
     "data": {
      "image/png": "[encoded data removed]",
      "text/plain": [
       "<matplotlib.figure.Figure at 0x24e2be1dd30>"
      ]
     },
     "metadata": {},
     "output_type": "display_data"
    }
   ],
   "source": [
    "plt.style.use('seaborn-bright')\n",
    "\n",
    "fig = plt.figure(figsize=(20,5))\n",
    "\n",
    "\n",
    "#設置x軸\n",
    "xx=[g for g in range(1,k_number_silh)]\n",
    "ax = fig.add_subplot(111) #frameon= Tures\n",
    "ax.set_xticks(xx)\n",
    "\n",
    "'''\n",
    "for k_x in range(1,25):\n",
    "    num = str(k_x)\n",
    "    k_trick.append('k='+num)\n",
    "ax.set_xticklabels(k_trick)\n",
    "'''\n",
    "plt.rc('xtick', labelsize=18)\n",
    "plt.rc('ytick', labelsize=20)\n",
    "\n",
    "#主畫圖區\n",
    "plt.plot(xx, silhouette_avg, c='#AAAAAA',lw=3)\n",
    "plt.plot(xx, silhouette_avg, c='#AAAAAA', marker='.', mew='6')\n",
    "\n",
    "#Label\n",
    "plt.title('Silhouette Coefficient', fontsize=30)    \n",
    "plt.xlabel('Number of Centers', fontsize=25)\n",
    "plt.ylabel('Silhouette', fontsize=25)\n",
    "plt.legend()\n",
    "\n",
    "\n",
    "plt.show()"
   ]
  },
  {
   "cell_type": "markdown",
   "metadata": {
    "collapsed": true
   },
   "source": [
    "# Center Iteration"
   ]
  },
  {
   "cell_type": "code",
   "execution_count": 21,
   "metadata": {
    "collapsed": true
   },
   "outputs": [],
   "source": [
    "#設定初始點\n",
    "init_list = [3,2,5,-1]\n",
    "\n",
    "#設定迭代數\n",
    "Iteration_Times = 4"
   ]
  },
  {
   "cell_type": "code",
   "execution_count": 71,
   "metadata": {},
   "outputs": [
    {
     "name": "stdout",
     "output_type": "stream",
     "text": [
      "[[-0.16416433  0.12443688]\n",
      " [ 2.19610469 -1.69855344]]\n",
      "[[-0.58544949  0.35559133]\n",
      " [ 1.91120113 -1.27826149]]\n",
      "[[-1.0743173   0.62094506]\n",
      " [ 1.60859106 -1.02111043]]\n",
      "[[-1.13768639  0.80797539]\n",
      " [ 1.46070803 -1.06744184]]\n"
     ]
    },
    {
     "name": "stderr",
     "output_type": "stream",
     "text": [
      "C:\\Users\\Eric\\Anaconda3\\envs\\DataSC\\lib\\site-packages\\sklearn\\cluster\\k_means_.py:893: RuntimeWarning: Explicit initial center position passed: performing only one init in k-means instead of n_init=10\n",
      "  return_n_iter=True)\n"
     ]
    }
   ],
   "source": [
    "cen_list = []\n",
    "init_cen=np.array([3,2,5,-1]).reshape(2,2)\n",
    "ite = Iteration_Times + 1\n",
    "\n",
    "for i in range(1,ite):\n",
    "    km_ieta = KMeans(n_clusters=3, max_iter=i ,init=init_cen)\n",
    "    pred = km_ieta.fit_predict(X)\n",
    "    #取中心\n",
    "    center = km_ieta.cluster_centers_\n",
    "    cen_list.append(center)\n",
    "    print(center)\n"
   ]
  },
  {
   "cell_type": "code",
   "execution_count": null,
   "metadata": {
    "collapsed": true
   },
   "outputs": [],
   "source": []
  },
  {
   "cell_type": "code",
   "execution_count": 73,
   "metadata": {},
   "outputs": [
    {
     "data": {
      "image/png": "[encoded data removed]",
      "text/plain": [
       "<matplotlib.figure.Figure at 0x20c2691a128>"
      ]
     },
     "metadata": {},
     "output_type": "display_data"
    }
   ],
   "source": [
    "fig = plt.figure(figsize=(12,8))\n",
    "\n",
    "# 畫初始點\n",
    "plt.scatter(init_list[0],init_list[1], marker='o', c='#FF8888',s=150)\n",
    "plt.scatter(init_list[2],init_list[3], marker='o', c='#FF8888',s=150)\n",
    "\n",
    "\n",
    "# 第一次迭代\n",
    "plt.scatter(cen_list[0][0][0],  cen_list[0][0][1], marker='o', c='#FF3333',s=150)\n",
    "plt.scatter(cen_list[0][1][0],  cen_list[0][1][1], marker='o', c='#FF3333',s=150)\n",
    "\n",
    "plt.scatter(cen_list[1][0][0],  cen_list[1][0][1], marker='o', c='#FF0000',s=150)\n",
    "plt.scatter(cen_list[1][1][0],  cen_list[1][1][1], marker='o', c='#FF0000',s=150)\n",
    "\n",
    "\n",
    "plt.scatter(cen_list[2][0][0], cen_list[2][0][1], marker='o', c='#CC0000',s=150)\n",
    "plt.scatter(cen_list[2][1][0], cen_list[2][1][1], marker='o', c='#CC0000',s=150)\n",
    "\n",
    "\n",
    "plt.scatter(cen_list[3][0][0], cen_list[3][0][1], marker='o', c='#AA0000',s=150)\n",
    "plt.scatter(cen_list[3][1][0], cen_list[3][1][1], marker='o', c='#AA0000',s=150)\n",
    "\n",
    "plt.scatter(Feature['conExt'],Feature['neuOpe'],c='#AAAAAA',marker='o',s=30)\n",
    "\n",
    "\n",
    "#Label\n",
    "plt.title('Center Iteration Procedure', fontsize=25)    \n",
    "plt.xlabel('Emotional & Open', fontsize=20)\n",
    "plt.ylabel('Conscientious&Extraverted', fontsize=20)\n",
    "plt.legend()\n",
    "\n",
    "\n",
    "\n",
    "\n",
    "plt.show()"
   ]
  },
  {
   "cell_type": "code",
   "execution_count": 74,
   "metadata": {},
   "outputs": [
    {
     "name": "stdout",
     "output_type": "stream",
     "text": [
      "['bmh', 'classic', 'dark_background', 'fivethirtyeight', 'ggplot', 'grayscale', 'seaborn-bright', 'seaborn-colorblind', 'seaborn-dark-palette', 'seaborn-dark', 'seaborn-darkgrid', 'seaborn-deep', 'seaborn-muted', 'seaborn-notebook', 'seaborn-paper', 'seaborn-pastel', 'seaborn-poster', 'seaborn-talk', 'seaborn-ticks', 'seaborn-white', 'seaborn-whitegrid', 'seaborn', '_classic_test']\n"
     ]
    }
   ],
   "source": [
    "print(plt.style.available)"
   ]
  },
  {
   "cell_type": "markdown",
   "metadata": {},
   "source": [
    "# silhouette coefficient Function"
   ]
  },
  {
   "cell_type": "code",
   "execution_count": 91,
   "metadata": {
    "collapsed": true
   },
   "outputs": [],
   "source": [
    "\n",
    "\n",
    "def distance(x1,x2,y1,y2):\n",
    "    return ((x1-y1)**2 + (x2-y2)**2)**0.5\n",
    "\n",
    "\n",
    "\n",
    "#各群組平均距離\n",
    "def did_distance(two_d_list):\n",
    "    two_d_list = np.array(two_d_list)\n",
    "    lebel_dic = {}\n",
    "    count = {}\n",
    "    p = 0\n",
    "    #print(two_d_list)\n",
    "    \n",
    "    '''所有lebel算一遍'''\n",
    "    for w in two_d_list[:,0]:\n",
    "        \n",
    "        '''如果標籤相同，距離相加，並計算相加次數'''\n",
    "        if w in lebel_dic:\n",
    "            lebel_dic[w] = lebel_dic[w] + two_d_list[p][1]\n",
    "            count[w] = count[w] + 1\n",
    "        else:\n",
    "            lebel_dic[w] = two_d_list[p][1]\n",
    "            count[w] = 1\n",
    "        p += 1\n",
    "    #return lebel_dic, count\n",
    "\n",
    "    out_list =[] \n",
    "    \n",
    "    '''對所有lebel算平均距離'''\n",
    "    for q in lebel_dic.keys():\n",
    "        out_list.append(lebel_dic[q]/count[q])\n",
    "    #print(out_list)\n",
    "    return out_list\n",
    "\n",
    "\n",
    "\n",
    "\n",
    "#============================================\n",
    "#設 k\n",
    "k_clust= 11\n",
    "\n",
    "a_value = list()\n",
    "b_value = list()\n",
    "\n",
    "'''Run K 個迴圈'''\n",
    "for k in range(1,k_clust):\n",
    "    #計算分K群的K-Mean\n",
    "    km = KMeans(n_clusters=k)\n",
    "    y_pred = km.fit_predict(X)\n",
    "    Feature['predic'] = y_pred\n",
    " \n",
    "\n",
    "    total_a=[]\n",
    "    total_b=[]\n",
    "    '''每種K下，所有資料run一次'''\n",
    "    for i in range(length):\n",
    "        a_list=[]\n",
    "        b_list=[]\n",
    "        b_k_list=[]\n",
    "        \n",
    "        '''以i點為目標點(Object)，所有資料Run一次'''\n",
    "        for j in range(length):\n",
    "            if i==j: #如果是同一個點，跳過\n",
    "                continue\n",
    "            else: # if i and j is not same point， Run\n",
    "                \n",
    "                #confirm it is same cluster of not\n",
    "                if Feature['predic'][i]==Feature['predic'][j]: #if i and j is same cluster\n",
    "                    #算距離，存進 a_list\n",
    "                    a_list.append(distance(Feature['conExt'][j], Feature['neuOpe'][j], Feature['conExt'][i],Feature['neuOpe'][i]))\n",
    "                    \n",
    "                else: # if i and j is [not] same cluster\n",
    "                    #算距離，並存進 b_k_list(含相對lebel)。   準備做進一步處理(算各群與i的平均，並挑最小的)\n",
    "                    dd = distance(Feature['conExt'][j], Feature['neuOpe'][j], Feature['conExt'][i],Feature['neuOpe'][i])\n",
    "                    b_k_list.append([Feature['predic'][j], dd])   #                                            \n",
    "                                                \n",
    "        #處理b_k_list\n",
    "        if len(b_k_list) != 0:\n",
    "            '''丟進function(did_distance)算各群平均距離'''\n",
    "            b_list = did_distance(b_k_list)\n",
    "        else:\n",
    "            b_list.append(0)\n",
    "            \n",
    "        #挑最小的進total_b\n",
    "        if len(b_list)==0:\n",
    "            total_b.append(0)\n",
    "        else:\n",
    "            total_b.append(min(b_list))\n",
    "                     \n",
    "\n",
    "\n",
    "        # mean of each i\n",
    "        if len(a_list)==0:\n",
    "            total_a.append(0)\n",
    "        elif len(a_list)==1:\n",
    "            total_a.append(a_list[0])\n",
    "        else:\n",
    "            total_a.append(sta.mean(a_list))\n",
    "\n",
    "            \n",
    "       \n",
    "\n",
    "            \n",
    "\n",
    "                \n",
    "                \n",
    "    if len(total_a)==0:\n",
    "        continue\n",
    "        a_value.append(0)\n",
    "    elif len(total_a)==1:\n",
    "        a_value.append(total_a[0])\n",
    "    else:\n",
    "        a_value.append(sta.mean(total_a))\n",
    "        \n",
    "\n",
    "    \n",
    "    if len(total_b)==0:\n",
    "        continue\n",
    "        #b_value.append(0)\n",
    "    elif len(total_b)==1:\n",
    "        b_value.append(total_b[0])\n",
    "    else:\n",
    "        b_value.append(sta.mean(total_b))\n",
    "    \n",
    "\n",
    "            \n",
    "\n",
    "silhouette=[]\n",
    "for z in range(len(a_value)):\n",
    "    sil = (b_value[z]-a_value[z]) / max(a_value[z], b_value[z])\n",
    "    silhouette.append(sil)\n"
   ]
  },
  {
   "cell_type": "code",
   "execution_count": 92,
   "metadata": {},
   "outputs": [
    {
     "name": "stderr",
     "output_type": "stream",
     "text": [
      "C:\\Users\\Eric\\Anaconda3\\envs\\DataSC\\lib\\site-packages\\matplotlib\\axes\\_axes.py:545: UserWarning: No labelled objects found. Use label='...' kwarg on individual plots.\n",
      "  warnings.warn(\"No labelled objects found. \"\n"
     ]
    },
    {
     "data": {
      "image/png": "[encoded data removed]",
      "text/plain": [
       "<matplotlib.figure.Figure at 0x1ce4c50df60>"
      ]
     },
     "metadata": {},
     "output_type": "display_data"
    }
   ],
   "source": [
    "plt.style.use('seaborn-bright')\n",
    "\n",
    "fig = plt.figure(figsize=(20,5))\n",
    "\n",
    "\n",
    "#設置x軸\n",
    "xx=[g for g in range(1,k_clust)]\n",
    "ax = fig.add_subplot(111) #frameon= Tures\n",
    "ax.set_xticks(xx)\n",
    "\n",
    "'''\n",
    "for k_x in range(1,25):\n",
    "    num = str(k_x)\n",
    "    k_trick.append('k='+num)\n",
    "ax.set_xticklabels(k_trick)\n",
    "'''\n",
    "plt.rc('xtick', labelsize=18)\n",
    "plt.rc('ytick', labelsize=20)\n",
    "\n",
    "#主畫圖區\n",
    "plt.plot(xx, silhouette, c='#AAAAAA',lw=3)\n",
    "plt.plot(xx, silhouette, c='#AAAAAA', marker='.', mew='6')\n",
    "\n",
    "#Label\n",
    "plt.title('Silhouette Coefficient', fontsize=30)    \n",
    "plt.xlabel('Number of Centers', fontsize=25)\n",
    "plt.ylabel('Silhouette', fontsize=25)\n",
    "plt.legend()\n",
    "\n",
    "\n",
    "plt.show()"
   ]
  },
  {
   "cell_type": "code",
   "execution_count": null,
   "metadata": {
    "collapsed": true
   },
   "outputs": [],
   "source": [
    "'''\n",
    "K-Mean Parameter：\n",
    "\n",
    "1.\n",
    "init : {‘k-means++’, ‘random’ or an ndarray}\n",
    "If an ndarray is passed, it should be of shape (n_clusters, n_features) and gives the initial centers\n",
    "\n",
    "2.\n",
    "n_init : int, default: 10\n",
    "Number of time the k-means algorithm will be run with different centroid seeds. \n",
    "The final results will be the best output of n_init consecutive runs in terms of inertia.\n",
    "\n",
    "3.\n",
    "max_iter : int, default: 300\n",
    "Maximum number of iterations of the k-means algorithm for a single run.\n",
    "\n",
    "4.\n",
    "algorithm : “auto”, “full” or “elkan”, default=”auto”\n",
    "K-means algorithm to use. The classical EM-style algorithm is “full”. \n",
    "The “elkan” variation is more efficient by using the triangle inequality, but currently doesn’t support sparse data. \n",
    "“auto” chooses “elkan” for dense data and “full” for sparse data\n",
    "\n",
    "'''\n",
    "'''\n",
    "cluster_centers_ : array, [n_clusters, n_features]\n",
    "Coordinates of cluster centers\n",
    "\n",
    "\n",
    "labels_ : :\n",
    "Labels of each point\n",
    "\n",
    "\n",
    "inertia_ : float\n",
    "Sum of distances of samples to their closest cluster center.\n",
    "'''"
   ]
  }
 ],
 "metadata": {
  "kernelspec": {
   "display_name": "Python 3",
   "language": "python",
   "name": "python3"
  },
  "language_info": {
   "codemirror_mode": {
    "name": "ipython",
    "version": 3
   },
   "file_extension": ".py",
   "mimetype": "text/x-python",
   "name": "python",
   "nbconvert_exporter": "python",
   "pygments_lexer": "ipython3",
   "version": "3.6.4"
  }
 },
 "nbformat": 4,
 "nbformat_minor": 2
}
