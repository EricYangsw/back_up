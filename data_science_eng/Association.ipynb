{
 "cells": [
  {
   "cell_type": "code",
   "execution_count": 1,
   "metadata": {
    "collapsed": true
   },
   "outputs": [],
   "source": [
    "import pandas as pd\n",
    "from pandas import ExcelWriter\n",
    "import numpy as np\n",
    "import matplotlib.pyplot as plt"
   ]
  },
  {
   "cell_type": "code",
   "execution_count": 2,
   "metadata": {},
   "outputs": [
    {
     "name": "stdout",
     "output_type": "stream",
     "text": [
      "9835\n"
     ]
    },
    {
     "data": {
      "text/html": [
       "<div>\n",
       "<style>\n",
       "    .dataframe thead tr:only-child th {\n",
       "        text-align: right;\n",
       "    }\n",
       "\n",
       "    .dataframe thead th {\n",
       "        text-align: left;\n",
       "    }\n",
       "\n",
       "    .dataframe tbody tr th {\n",
       "        vertical-align: top;\n",
       "    }\n",
       "</style>\n",
       "<table border=\"1\" class=\"dataframe\">\n",
       "  <thead>\n",
       "    <tr style=\"text-align: right;\">\n",
       "      <th></th>\n",
       "      <th>Unnamed: 0</th>\n",
       "      <th>items</th>\n",
       "    </tr>\n",
       "  </thead>\n",
       "  <tbody>\n",
       "    <tr>\n",
       "      <th>0</th>\n",
       "      <td>1</td>\n",
       "      <td>{citrus fruit,semi-finished bread,margarine,re...</td>\n",
       "    </tr>\n",
       "    <tr>\n",
       "      <th>1</th>\n",
       "      <td>2</td>\n",
       "      <td>{tropical fruit,yogurt,coffee}</td>\n",
       "    </tr>\n",
       "    <tr>\n",
       "      <th>2</th>\n",
       "      <td>3</td>\n",
       "      <td>{whole milk}</td>\n",
       "    </tr>\n",
       "    <tr>\n",
       "      <th>3</th>\n",
       "      <td>4</td>\n",
       "      <td>{pip fruit,yogurt,cream cheese ,meat spreads}</td>\n",
       "    </tr>\n",
       "    <tr>\n",
       "      <th>4</th>\n",
       "      <td>5</td>\n",
       "      <td>{other vegetables,whole milk,condensed milk,lo...</td>\n",
       "    </tr>\n",
       "  </tbody>\n",
       "</table>\n",
       "</div>"
      ],
      "text/plain": [
       "   Unnamed: 0                                              items\n",
       "0           1  {citrus fruit,semi-finished bread,margarine,re...\n",
       "1           2                     {tropical fruit,yogurt,coffee}\n",
       "2           3                                       {whole milk}\n",
       "3           4      {pip fruit,yogurt,cream cheese ,meat spreads}\n",
       "4           5  {other vegetables,whole milk,condensed milk,lo..."
      ]
     },
     "execution_count": 2,
     "metadata": {},
     "output_type": "execute_result"
    }
   ],
   "source": [
    "#read the file\n",
    "Grocer = pd.read_csv(\"Groceries.csv\")\n",
    "print(len(Grocer))\n",
    "Grocer.head()"
   ]
  },
  {
   "cell_type": "code",
   "execution_count": 3,
   "metadata": {
    "collapsed": true
   },
   "outputs": [],
   "source": [
    "# deal with the item string\n",
    "Grocer_clean = pd.DataFrame()    \n",
    "item_list = []\n",
    "\n",
    "for i in range(len(Grocer)):\n",
    "    item = Grocer['items'][i]\n",
    "   # item = item.split(',')\n",
    "    for j in range(len(item)):\n",
    "        if item[j] == ' ':\n",
    "            b = j+1\n",
    "            item = item[0:j] + '_' + item[b:]\n",
    "    item_list.append(item[1:-1])"
   ]
  },
  {
   "cell_type": "code",
   "execution_count": 326,
   "metadata": {
    "collapsed": true
   },
   "outputs": [],
   "source": [
    "# calculate the frequency of item\n",
    "word_counts = {}\n",
    "thod_300 = {}\n",
    "for item in item_list:\n",
    "    item = item.split(',')\n",
    "    \n",
    "    for word in item:\n",
    "        if word in word_counts:\n",
    "            word_counts[word] = word_counts[word] + 1\n",
    "        else:\n",
    "            word_counts[word] = 1\n",
    "\n",
    "# make sure what item frequency is over the thod.\n",
    "for key in word_counts.keys():\n",
    "    if word_counts[key] > 800:\n",
    "        thod_300[key] = word_counts[key]\n",
    "        #print(\"{}:{}\".format(key,thod_300[key] ))\n",
    "        \n",
    "# chose the item by frequency\n",
    "word_list = list(thod_300.keys())\n",
    "'''\n",
    "add_item = ['bottled_water', 'yogurt', 'onions','bottled_beer',\n",
    "                 'whole_milk', 'coffee', 'pip_fruit', 'whole_milk', 'soda',\n",
    "                 'rolls/buns', 'pork', 'canned_vagebatles', 'other_vagatables',\n",
    "                 'sliced_cheese', 'specialty_cheese', 'spices', 'tropical fruit',\n",
    "                 'cereals', 'soups', 'frankfurter']\n",
    "for add in add_item:\n",
    "    word_list.append(add)\n",
    "'''\n",
    "\n",
    "new_item_list = []\n",
    "for item in  item_list:\n",
    "    item_split = item.split(',')\n",
    "    for word in item_split:\n",
    "        if word in word_list:\n",
    "            new_item_list.append(item)"
   ]
  },
  {
   "cell_type": "code",
   "execution_count": 4,
   "metadata": {},
   "outputs": [
    {
     "ename": "NameError",
     "evalue": "name 'new_item_list' is not defined",
     "output_type": "error",
     "traceback": [
      "\u001b[1;31m---------------------------------------------------------------------------\u001b[0m",
      "\u001b[1;31mNameError\u001b[0m                                 Traceback (most recent call last)",
      "\u001b[1;32m<ipython-input-4-3d0167547c5d>\u001b[0m in \u001b[0;36m<module>\u001b[1;34m()\u001b[0m\n\u001b[0;32m      3\u001b[0m \u001b[1;32mwith\u001b[0m \u001b[0mopen\u001b[0m\u001b[1;33m(\u001b[0m\u001b[1;34m'data.csv'\u001b[0m\u001b[1;33m,\u001b[0m\u001b[1;34m'w'\u001b[0m\u001b[1;33m)\u001b[0m \u001b[1;32mas\u001b[0m \u001b[0mf\u001b[0m\u001b[1;33m:\u001b[0m\u001b[1;33m\u001b[0m\u001b[0m\n\u001b[0;32m      4\u001b[0m     \u001b[0ms\u001b[0m\u001b[1;33m=\u001b[0m\u001b[0mcsv\u001b[0m\u001b[1;33m.\u001b[0m\u001b[0mwriter\u001b[0m\u001b[1;33m(\u001b[0m\u001b[0mf\u001b[0m\u001b[1;33m,\u001b[0m\u001b[0mdelimiter\u001b[0m\u001b[1;33m=\u001b[0m\u001b[1;34m' '\u001b[0m\u001b[1;33m,\u001b[0m\u001b[0mlineterminator\u001b[0m\u001b[1;33m=\u001b[0m\u001b[1;34m'\\n'\u001b[0m\u001b[1;33m)\u001b[0m \u001b[1;31m#newline =‘’\u001b[0m\u001b[1;33m\u001b[0m\u001b[0m\n\u001b[1;32m----> 5\u001b[1;33m     \u001b[1;32mfor\u001b[0m \u001b[0mitem_set\u001b[0m \u001b[1;32min\u001b[0m \u001b[0mnew_item_list\u001b[0m\u001b[1;33m:\u001b[0m\u001b[1;33m\u001b[0m\u001b[0m\n\u001b[0m\u001b[0;32m      6\u001b[0m         \u001b[0ms\u001b[0m\u001b[1;33m.\u001b[0m\u001b[0mwriterow\u001b[0m\u001b[1;33m(\u001b[0m\u001b[0mitem_set\u001b[0m\u001b[1;33m)\u001b[0m\u001b[1;33m\u001b[0m\u001b[0m\n",
      "\u001b[1;31mNameError\u001b[0m: name 'new_item_list' is not defined"
     ]
    }
   ],
   "source": [
    "# write the item-set into a csv file for apriori.py\n",
    "import csv\n",
    "with open('data.csv','w') as f:\n",
    "    s=csv.writer(f,delimiter=' ',lineterminator='\\n') #newline =‘’\n",
    "    for item_set in new_item_list:\n",
    "        s.writerow(item_set)"
   ]
  },
  {
   "cell_type": "code",
   "execution_count": 329,
   "metadata": {},
   "outputs": [
    {
     "name": "stdout",
     "output_type": "stream",
     "text": [
      "item: (' o t h e r _ v e g e t a b l e s ', ' r o o t _ v e g e t a b l e s ') , 0.100\n",
      "item: (' y o g u r t ', ' o t h e r _ v e g e t a b l e s ') , 0.100\n",
      "item: (' w h o l e _ m i l k ', ' r o o t _ v e g e t a b l e s ') , 0.100\n",
      "item: (' w h i p p e d / s o u r _ c r e a m ',) , 0.106\n",
      "item: (' w h o l e _ m i l k ', ' r o l l s / b u n s ') , 0.107\n",
      "item: (' w h o l e _ m i l k ', ' y o g u r t ') , 0.124\n",
      "item: (' p a s t r y ',) , 0.135\n",
      "item: (' t r o p i c a l _ f r u i t ',) , 0.136\n",
      "item: (' w h o l e _ m i l k ', ' o t h e r _ v e g e t a b l e s ') , 0.153\n",
      "item: (' b o t t l e d _ w a t e r ',) , 0.155\n",
      "item: ('s a u s a g e ',) , 0.163\n",
      "item: (' s h o p p i n g _ b a g s',) , 0.168\n",
      "item: (' r o o t _ v e g e t a b l e s ',) , 0.178\n",
      "item: (' s o d a ',) , 0.200\n",
      "item: (' y o g u r t ',) , 0.244\n",
      "item: (' r o l l s / b u n s ',) , 0.257\n",
      "item: (' o t h e r _ v e g e t a b l e s ',) , 0.299\n",
      "item: (' w h o l e _ m i l k ',) , 0.360\n",
      "\n",
      "------------------------ RULES:\n",
      "Rule: (' o t h e r _ v e g e t a b l e s ',) ==> (' r o o t _ v e g e t a b l e s ',) , 0.334\n",
      "Rule: (' o t h e r _ v e g e t a b l e s ',) ==> (' y o g u r t ',) , 0.335\n",
      "Rule: (' w h o l e _ m i l k ',) ==> (' y o g u r t ',) , 0.345\n",
      "Rule: (' y o g u r t ',) ==> (' o t h e r _ v e g e t a b l e s ',) , 0.411\n",
      "Rule: (' r o l l s / b u n s ',) ==> (' w h o l e _ m i l k ',) , 0.415\n",
      "Rule: (' w h o l e _ m i l k ',) ==> (' o t h e r _ v e g e t a b l e s ',) , 0.425\n",
      "Rule: (' y o g u r t ',) ==> (' w h o l e _ m i l k ',) , 0.509\n",
      "Rule: (' o t h e r _ v e g e t a b l e s ',) ==> (' w h o l e _ m i l k ',) , 0.511\n",
      "Rule: (' r o o t _ v e g e t a b l e s ',) ==> (' o t h e r _ v e g e t a b l e s ',) , 0.561\n",
      "Rule: (' r o o t _ v e g e t a b l e s ',) ==> (' w h o l e _ m i l k ',) , 0.563\n"
     ]
    }
   ],
   "source": [
    "# run the aprioi and set the support & confidence\n",
    "!python apriori.py -f data.csv -s 0.1 -c 0.3\n",
    "\n",
    "#!python apriori.py -f tesco.csv -s 0.3 -c 0.5"
   ]
  },
  {
   "cell_type": "code",
   "execution_count": 360,
   "metadata": {
    "collapsed": true
   },
   "outputs": [],
   "source": [
    "confident = pd.read_excel(\"confidence.xlsx\",sheetname='Sheet1')\n",
    "support = pd.read_excel(\"support.xlsx\",sheetname='Sheet1')"
   ]
  },
  {
   "cell_type": "code",
   "execution_count": 361,
   "metadata": {
    "collapsed": true
   },
   "outputs": [],
   "source": [
    "# deal with the string of support item\n",
    "item_list = []\n",
    "for item in support['item']:\n",
    "    item = list(item)\n",
    "    \n",
    "    word = str()\n",
    "    for i in item:\n",
    "        if i==' ' or i=='(': \n",
    "            pass\n",
    "        elif  i==')' or i==\"'\":\n",
    "            pass\n",
    "        elif i == \",\":\n",
    "            pass\n",
    "        else:\n",
    "            word = word + i\n",
    "    item_list.append(word)\n",
    "support['item'] = item_list"
   ]
  },
  {
   "cell_type": "code",
   "execution_count": 362,
   "metadata": {
    "collapsed": true
   },
   "outputs": [],
   "source": [
    "# deal with the string of confident item\n",
    "pre_item_list = []\n",
    "for item in confident['pre_item']:\n",
    "    item = list(item)\n",
    "    \n",
    "    word = str()\n",
    "    for i in item:\n",
    "        if i==' ' or i=='(': \n",
    "            pass\n",
    "        elif  i==')' or i==\"'\":\n",
    "            pass\n",
    "        elif i == \",\":\n",
    "            pass\n",
    "        else:\n",
    "            word = word + i\n",
    "    pre_item_list.append(word)\n",
    "    \n",
    "confident['pre_item'] = pre_item_list\n",
    "\n",
    "\n",
    "item_list = []\n",
    "for item in confident['post_item']:\n",
    "    item = list(item)\n",
    "    \n",
    "    word = str()\n",
    "    for i in item:\n",
    "        if i==' ' or i=='(': \n",
    "            pass\n",
    "        elif  i==')' or i==\"'\":\n",
    "            pass\n",
    "        elif i == \",\":\n",
    "            pass\n",
    "        else:\n",
    "            word = word + i\n",
    "    item_list.append(word)\n",
    "    \n",
    "confident['post_item'] = item_list"
   ]
  },
  {
   "cell_type": "code",
   "execution_count": 372,
   "metadata": {
    "collapsed": true
   },
   "outputs": [],
   "source": [
    "support_dic = {}\n",
    "\n",
    "for j in range(len(support)):\n",
    "    support_dic[support['item'][j]] = support['support'][j]\n"
   ]
  },
  {
   "cell_type": "code",
   "execution_count": 379,
   "metadata": {
    "collapsed": true
   },
   "outputs": [],
   "source": [
    "lift_list = []\n",
    "for i in range(len(confident)):\n",
    "    key = confident['post_item'][i]\n",
    "    lift = confident['confidence'][i] / support_dic[key]\n",
    "    lift_list.append(lift)\n",
    "confident['Lift'] = lift_list"
   ]
  },
  {
   "cell_type": "code",
   "execution_count": 382,
   "metadata": {},
   "outputs": [
    {
     "data": {
      "text/html": [
       "<div>\n",
       "<style>\n",
       "    .dataframe thead tr:only-child th {\n",
       "        text-align: right;\n",
       "    }\n",
       "\n",
       "    .dataframe thead th {\n",
       "        text-align: left;\n",
       "    }\n",
       "\n",
       "    .dataframe tbody tr th {\n",
       "        vertical-align: top;\n",
       "    }\n",
       "</style>\n",
       "<table border=\"1\" class=\"dataframe\">\n",
       "  <thead>\n",
       "    <tr style=\"text-align: right;\">\n",
       "      <th></th>\n",
       "      <th>pre_item</th>\n",
       "      <th>post_item</th>\n",
       "      <th>confidence</th>\n",
       "      <th>Lift</th>\n",
       "    </tr>\n",
       "  </thead>\n",
       "  <tbody>\n",
       "    <tr>\n",
       "      <th>0</th>\n",
       "      <td>other_vegetables</td>\n",
       "      <td>root_vegetables</td>\n",
       "      <td>0.334302</td>\n",
       "      <td>1.874260</td>\n",
       "    </tr>\n",
       "    <tr>\n",
       "      <th>1</th>\n",
       "      <td>other_vegetables</td>\n",
       "      <td>yogurt</td>\n",
       "      <td>0.334718</td>\n",
       "      <td>1.371703</td>\n",
       "    </tr>\n",
       "    <tr>\n",
       "      <th>2</th>\n",
       "      <td>whole_milk</td>\n",
       "      <td>yogurt</td>\n",
       "      <td>0.344732</td>\n",
       "      <td>1.412744</td>\n",
       "    </tr>\n",
       "    <tr>\n",
       "      <th>3</th>\n",
       "      <td>yogurt</td>\n",
       "      <td>other_vegetables</td>\n",
       "      <td>0.410701</td>\n",
       "      <td>1.371703</td>\n",
       "    </tr>\n",
       "    <tr>\n",
       "      <th>4</th>\n",
       "      <td>rolls/buns</td>\n",
       "      <td>whole_milk</td>\n",
       "      <td>0.415437</td>\n",
       "      <td>1.154110</td>\n",
       "    </tr>\n",
       "    <tr>\n",
       "      <th>5</th>\n",
       "      <td>whole_milk</td>\n",
       "      <td>other_vegetables</td>\n",
       "      <td>0.424870</td>\n",
       "      <td>1.419029</td>\n",
       "    </tr>\n",
       "    <tr>\n",
       "      <th>6</th>\n",
       "      <td>yogurt</td>\n",
       "      <td>whole_milk</td>\n",
       "      <td>0.508535</td>\n",
       "      <td>1.412744</td>\n",
       "    </tr>\n",
       "    <tr>\n",
       "      <th>7</th>\n",
       "      <td>other_vegetables</td>\n",
       "      <td>whole_milk</td>\n",
       "      <td>0.510797</td>\n",
       "      <td>1.419029</td>\n",
       "    </tr>\n",
       "    <tr>\n",
       "      <th>8</th>\n",
       "      <td>root_vegetables</td>\n",
       "      <td>other_vegetables</td>\n",
       "      <td>0.561171</td>\n",
       "      <td>1.874260</td>\n",
       "    </tr>\n",
       "    <tr>\n",
       "      <th>9</th>\n",
       "      <td>root_vegetables</td>\n",
       "      <td>whole_milk</td>\n",
       "      <td>0.562914</td>\n",
       "      <td>1.563812</td>\n",
       "    </tr>\n",
       "  </tbody>\n",
       "</table>\n",
       "</div>"
      ],
      "text/plain": [
       "           pre_item         post_item  confidence      Lift\n",
       "0  other_vegetables   root_vegetables    0.334302  1.874260\n",
       "1  other_vegetables            yogurt    0.334718  1.371703\n",
       "2        whole_milk            yogurt    0.344732  1.412744\n",
       "3            yogurt  other_vegetables    0.410701  1.371703\n",
       "4        rolls/buns        whole_milk    0.415437  1.154110\n",
       "5        whole_milk  other_vegetables    0.424870  1.419029\n",
       "6            yogurt        whole_milk    0.508535  1.412744\n",
       "7  other_vegetables        whole_milk    0.510797  1.419029\n",
       "8   root_vegetables  other_vegetables    0.561171  1.874260\n",
       "9   root_vegetables        whole_milk    0.562914  1.563812"
      ]
     },
     "execution_count": 382,
     "metadata": {},
     "output_type": "execute_result"
    }
   ],
   "source": [
    "confident"
   ]
  },
  {
   "cell_type": "markdown",
   "metadata": {},
   "source": [
    "# network graph"
   ]
  },
  {
   "cell_type": "code",
   "execution_count": 203,
   "metadata": {
    "collapsed": true
   },
   "outputs": [],
   "source": [
    "import plotly.plotly as py\n",
    "import networkx as nx\n",
    "import networkx as nx"
   ]
  },
  {
   "cell_type": "code",
   "execution_count": 409,
   "metadata": {
    "collapsed": true
   },
   "outputs": [],
   "source": [
    "def draw_graph(graph, labels=None, graph_layout='shell',\n",
    "               node_size=100, node_color='blue', node_alpha=0.3,\n",
    "               node_text_size=20,\n",
    "               edge_color='blue', edge_alpha=0.3, edge_tickness=1,\n",
    "               edge_text_pos=0.3,\n",
    "               text_font='sans-serif'):\n",
    "    fig = plt.figure(figsize=(15, 15))\n",
    "    # create networkx graph\n",
    "    G=nx.DiGraph() #nx.Graph()\n",
    "\n",
    "    # add edges\n",
    "    for edge in graph:\n",
    "        G.add_edge(edge[0], edge[1])\n",
    "\n",
    "    # these are different layouts for the network you may try\n",
    "    # shell seems to work best\n",
    "    if graph_layout == 'spring':\n",
    "        graph_pos=nx.spring_layout(G)\n",
    "    elif graph_layout == 'spectral':\n",
    "        graph_pos=nx.spectral_layout(G)\n",
    "    elif graph_layout == 'random':\n",
    "        graph_pos=nx.random_layout(G)\n",
    "    else:\n",
    "        graph_pos=nx.shell_layout(G)\n",
    "\n",
    "    # draw graph\n",
    "    nx.draw_networkx_nodes(G,graph_pos,node_size=[x*25000 for x in labels], \n",
    "                           alpha=node_alpha, node_color=node_color)\n",
    "    nx.draw_networkx_edges(G,graph_pos,width=edge_tickness,\n",
    "                           alpha=edge_alpha,edge_color=edge_color)\n",
    "    nx.draw_networkx_labels(G, graph_pos,font_size=node_text_size,\n",
    "                            font_family=text_font)\n",
    "\n",
    "    if labels is None:\n",
    "        labels = range(len(graph))\n",
    "\n",
    "    edge_labels = dict(zip(graph, labels))\n",
    "    nx.draw_networkx_edge_labels(G, graph_pos, edge_labels=edge_labels, \n",
    "                                 label_pos=edge_text_pos)\n",
    "\n",
    "    # show graph\n",
    "    plt.show()\n",
    "    return"
   ]
  },
  {
   "cell_type": "code",
   "execution_count": 411,
   "metadata": {},
   "outputs": [
    {
     "data": {
      "image/png": "[encoded data removed]",
      "text/plain": [
       "<matplotlib.figure.Figure at 0x21b2b1924e0>"
      ]
     },
     "metadata": {},
     "output_type": "display_data"
    }
   ],
   "source": [
    "graph=[]\n",
    "\n",
    "for k in range(len(confident)):\n",
    "    relation = tuple((confident['pre_item'][k],confident['post_item'][k]))\n",
    "    graph.append(relation)\n",
    "\n",
    "# you may name your edge labels\n",
    "#labels = map(chr, range(65, 65+len(graph)))\n",
    "labels = confident['confidence']\n",
    "\n",
    "\n",
    "draw_graph(graph, labels)\n",
    "\n",
    "# if edge labels is not specified, numeric labels (0, 1, 2...) will be used\n",
    "# draw_graph(graph)"
   ]
  },
  {
   "cell_type": "code",
   "execution_count": 383,
   "metadata": {
    "collapsed": true
   },
   "outputs": [],
   "source": [
    "#nx.draw(G)\n",
    "#plt.savefig(\"path.png\")\n",
    "#plt.show()"
   ]
  },
  {
   "cell_type": "code",
   "execution_count": 406,
   "metadata": {},
   "outputs": [
    {
     "data": {
      "text/plain": [
       "[('other_vegetables', 'root_vegetables'),\n",
       " ('other_vegetables', 'yogurt'),\n",
       " ('whole_milk', 'yogurt'),\n",
       " ('yogurt', 'other_vegetables'),\n",
       " ('rolls/buns', 'whole_milk'),\n",
       " ('whole_milk', 'other_vegetables'),\n",
       " ('yogurt', 'whole_milk'),\n",
       " ('other_vegetables', 'whole_milk'),\n",
       " ('root_vegetables', 'other_vegetables'),\n",
       " ('root_vegetables', 'whole_milk')]"
      ]
     },
     "execution_count": 406,
     "metadata": {},
     "output_type": "execute_result"
    }
   ],
   "source": [
    "graph"
   ]
  },
  {
   "cell_type": "code",
   "execution_count": null,
   "metadata": {
    "collapsed": true
   },
   "outputs": [],
   "source": []
  },
  {
   "cell_type": "code",
   "execution_count": null,
   "metadata": {
    "collapsed": true
   },
   "outputs": [],
   "source": []
  },
  {
   "cell_type": "code",
   "execution_count": null,
   "metadata": {
    "collapsed": true
   },
   "outputs": [],
   "source": []
  },
  {
   "cell_type": "markdown",
   "metadata": {},
   "source": [
    "# 棄用"
   ]
  },
  {
   "cell_type": "code",
   "execution_count": null,
   "metadata": {
    "collapsed": true
   },
   "outputs": [],
   "source": [
    "'''\n",
    "writer = pd.ExcelWriter('Grocer_clean.xlsx', engine='xlsxwriter')\n",
    "Grocer_clean.to_excel(writer, sheet_name='Sheet1')\n",
    "writer.save()\n",
    "'''"
   ]
  },
  {
   "cell_type": "code",
   "execution_count": null,
   "metadata": {
    "collapsed": true
   },
   "outputs": [],
   "source": [
    "'''choise the item by hand-input key word'''\n",
    "\n",
    "'''\n",
    "word_list = []\n",
    "word_list = ['bottled_water', 'yogurt', 'onions', 'sausage','bottled_beer',\n",
    "                 'whole_milk', 'coffee', 'pip_fruit', 'whole_milk', 'soda',\n",
    "                 'rolls/buns', 'pork', 'canned_vagebatles', 'other_vagatables',\n",
    "                 'sliced_cheese', 'specialty_cheese', 'spices', 'tropical fruit',\n",
    "                 'cereals', 'soups', 'frankfurter']\n",
    "\n",
    "new_item_list = []\n",
    "\n",
    "for item in  item_list:\n",
    "    item_split = item.split(',')\n",
    "    for word in item_split:\n",
    "        if word in word_list:\n",
    "            new_item_list.append(item)\n",
    "            \n",
    "'''"
   ]
  },
  {
   "cell_type": "code",
   "execution_count": null,
   "metadata": {
    "collapsed": true
   },
   "outputs": [],
   "source": [
    "'''\n",
    "DG = nx.DiGraph()\n",
    "DG.add_nodes_from(['root_vegetables','tropical_fruit', 'yogurt' ])\n",
    "DG.add_edges_from([('tropical_fruit', 'yogurt',{'confid':0.329}), ('root_vegetables','tropical_fruit',{'confid':0.62})])\n",
    "\n",
    "nx.draw(DG)\n",
    "#plt.savefig(\"path.png\")\n",
    "plt.show()\n",
    "\n",
    "\n",
    "\n",
    "G.add_nodes_from([2, 3])\n",
    "H = nx.path_graph(10)\n",
    "G.add_nodes_from(H)\n",
    "G.add_node(\"spam\")\n",
    "G.remove_node(\"spam\")\n",
    "G.clear()\n",
    "\n",
    "G.add_edge(1, 3)\n",
    "G[1][3]['color'] = 'blue'\n",
    "G.add_edges_from([(1,2,{'color':'blue'}), (2,3,{'weight':8})])\n",
    "\n",
    "Directed graphs :\n",
    ">>> DG = nx.DiGraph()\n",
    ">>> DG.add_weighted_edges_from([(1,2,0.5), (3,1,0.75)])\n",
    ">>> DG.out_degree(1, weight='weight')\n",
    "0.5\n",
    ">>> DG.degree(1, weight='weight') # 求 node1 的分支上屬性 weight 的合\n",
    "\n",
    "'''"
   ]
  },
  {
   "cell_type": "code",
   "execution_count": null,
   "metadata": {
    "collapsed": true
   },
   "outputs": [],
   "source": [
    "'''\n",
    "G = nx.Graph()\n",
    "G.add_edges_from([(1,5), (1,2), (2,3), (2,4), (3,4), (3,5), (4,5), (5,3)])\n",
    "\n",
    "\n",
    "stack = [1]  # Start from node1  \n",
    "visit_list = []  \n",
    "  \n",
    "while len(stack) > 0:  \n",
    "    #nonlocal visit_list  \n",
    "    #nonlocal stack  \n",
    "    vnode = stack.pop()  \n",
    "    if vnode not in visit_list:  \n",
    "        print(\"\\t[Info] Visit {0}...\".format(vnode))  \n",
    "        visit_list.append(vnode)  \n",
    "    nbs = G.neighbors(vnode)  \n",
    "    for nb in nbs:  \n",
    "        if nb not in visit_list:  \n",
    "            print(\"\\t[Info] Put {0} in stack...\".format(nb))  \n",
    "            stack.append(nb)  \n",
    "    print(\"\\tStack list={0}\".format(stack))  \n",
    "    print(\"\\tVisit list={0}\".format(visit_list))  \n",
    "    if len(visit_list) == len(G.nodes()): break  \n",
    "  \n",
    "print(\"\\t[Info] Deep First Search has {0}\".format(visit_list)) \n",
    "\n",
    "'''"
   ]
  },
  {
   "cell_type": "code",
   "execution_count": null,
   "metadata": {
    "collapsed": true
   },
   "outputs": [],
   "source": [
    "'''\n",
    "G=nx.Graph()\n",
    "e=[('a','b',0.3),('b','c',0.9),('a','c',0.5),('c','d',1.2)]\n",
    "G.add_weighted_edges_from(e)\n",
    "print(nx.dijkstra_path(G,'a','d'))\n",
    "\n",
    "G=nx.cubical_graph()\n",
    "nx.draw(G)   # default spring_layout\n",
    "nx.draw(G,pos=nx.spectral_layout(G), nodecolor='r',edge_color='b')\n",
    "plt.show()\n",
    "\n",
    "'''"
   ]
  }
 ],
 "metadata": {
  "kernelspec": {
   "display_name": "Python 3",
   "language": "python",
   "name": "python3"
  },
  "language_info": {
   "codemirror_mode": {
    "name": "ipython",
    "version": 3
   },
   "file_extension": ".py",
   "mimetype": "text/x-python",
   "name": "python",
   "nbconvert_exporter": "python",
   "pygments_lexer": "ipython3",
   "version": "3.6.2"
  }
 },
 "nbformat": 4,
 "nbformat_minor": 2
}
