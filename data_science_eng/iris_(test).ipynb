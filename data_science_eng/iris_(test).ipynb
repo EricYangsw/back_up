{
 "cells": [
  {
   "cell_type": "code",
   "execution_count": 1,
   "metadata": {
    "collapsed": true
   },
   "outputs": [],
   "source": [
    "from sklearn import datasets\n",
    "iris = datasets.load_iris()"
   ]
  },
  {
   "cell_type": "code",
   "execution_count": 2,
   "metadata": {
    "collapsed": true
   },
   "outputs": [],
   "source": [
    "import numpy as np\n",
    "import pandas as pd\n",
    "import matplotlib.pyplot as plt\n",
    "from sklearn.cluster import KMeans\n",
    "from matplotlib.patches import Ellipse\n",
    "from sklearn.metrics import silhouette_samples, silhouette_score"
   ]
  },
  {
   "cell_type": "code",
   "execution_count": null,
   "metadata": {
    "collapsed": true
   },
   "outputs": [],
   "source": []
  },
  {
   "cell_type": "code",
   "execution_count": 7,
   "metadata": {},
   "outputs": [
    {
     "data": {
      "text/plain": [
       "array([ 4.3,  2. ,  1. ,  0.1])"
      ]
     },
     "execution_count": 7,
     "metadata": {},
     "output_type": "execute_result"
    }
   ],
   "source": [
    "df_min = np.min(iris.data,axis=0)\n",
    "df_min"
   ]
  },
  {
   "cell_type": "code",
   "execution_count": 8,
   "metadata": {},
   "outputs": [
    {
     "data": {
      "text/plain": [
       "array([ 0.22222222,  0.625     ,  0.06779661,  0.04166667])"
      ]
     },
     "execution_count": 8,
     "metadata": {},
     "output_type": "execute_result"
    }
   ],
   "source": [
    "df_central = (iris.data-df_min)\n",
    "df_central[0]\n",
    "\n",
    "df_scalar = (np.max(iris.data,axis=0)-np.min(iris.data,axis=0))\n",
    "df_scalar\n",
    "\n",
    "d_nor = (df_central/df_scalar)\n",
    "d_nor[0]"
   ]
  },
  {
   "cell_type": "code",
   "execution_count": 14,
   "metadata": {
    "collapsed": true
   },
   "outputs": [],
   "source": [
    "n_clusters = 3\n",
    "cluster = KMeans(n_clusters, random_state=0, verbose=0).fit(d_nor[:,2:])"
   ]
  },
  {
   "cell_type": "code",
   "execution_count": 13,
   "metadata": {},
   "outputs": [
    {
     "name": "stdout",
     "output_type": "stream",
     "text": [
      "Initialization complete\n",
      "start iteration\n",
      "done sorting\n",
      "end inner loop\n",
      "Iteration 0, inertia 1.89513291166\n",
      "start iteration\n",
      "done sorting\n",
      "end inner loop\n",
      "Iteration 1, inertia 1.73340577021\n",
      "start iteration\n",
      "done sorting\n",
      "end inner loop\n",
      "Iteration 2, inertia 1.70509860812\n",
      "start iteration\n",
      "done sorting\n",
      "end inner loop\n",
      "Iteration 3, inertia 1.70509860812\n",
      "center shift 0.000000e+00 within tolerance 9.463838e-06\n",
      "Initialization complete\n",
      "start iteration\n",
      "done sorting\n",
      "end inner loop\n",
      "Iteration 0, inertia 1.73922013151\n",
      "start iteration\n",
      "done sorting\n",
      "end inner loop\n",
      "Iteration 1, inertia 1.70509860812\n",
      "start iteration\n",
      "done sorting\n",
      "end inner loop\n",
      "Iteration 2, inertia 1.70509860812\n",
      "center shift 0.000000e+00 within tolerance 9.463838e-06\n",
      "Initialization complete\n",
      "start iteration\n",
      "done sorting\n",
      "end inner loop\n",
      "Iteration 0, inertia 1.80919459274\n",
      "start iteration\n",
      "done sorting\n",
      "end inner loop\n",
      "Iteration 1, inertia 1.74409966203\n",
      "start iteration\n",
      "done sorting\n",
      "end inner loop\n",
      "Iteration 2, inertia 1.7110915911\n",
      "start iteration\n",
      "done sorting\n",
      "end inner loop\n",
      "Iteration 3, inertia 1.70509860812\n",
      "start iteration\n",
      "done sorting\n",
      "end inner loop\n",
      "Iteration 4, inertia 1.70509860812\n",
      "center shift 0.000000e+00 within tolerance 9.463838e-06\n",
      "Initialization complete\n",
      "start iteration\n",
      "done sorting\n",
      "end inner loop\n",
      "Iteration 0, inertia 1.7929651226\n",
      "start iteration\n",
      "done sorting\n",
      "end inner loop\n",
      "Iteration 1, inertia 1.71431568305\n",
      "start iteration\n",
      "done sorting\n",
      "end inner loop\n",
      "Iteration 2, inertia 1.70509860812\n",
      "start iteration\n",
      "done sorting\n",
      "end inner loop\n",
      "Iteration 3, inertia 1.70509860812\n",
      "center shift 0.000000e+00 within tolerance 9.463838e-06\n",
      "Initialization complete\n",
      "start iteration\n",
      "done sorting\n",
      "end inner loop\n",
      "Iteration 0, inertia 2.37638556197\n",
      "start iteration\n",
      "done sorting\n",
      "end inner loop\n",
      "Iteration 1, inertia 1.89513291166\n",
      "start iteration\n",
      "done sorting\n",
      "end inner loop\n",
      "Iteration 2, inertia 1.73340577021\n",
      "start iteration\n",
      "done sorting\n",
      "end inner loop\n",
      "Iteration 3, inertia 1.70509860812\n",
      "start iteration\n",
      "done sorting\n",
      "end inner loop\n",
      "Iteration 4, inertia 1.70509860812\n",
      "center shift 0.000000e+00 within tolerance 9.463838e-06\n",
      "Initialization complete\n",
      "start iteration\n",
      "done sorting\n",
      "end inner loop\n",
      "Iteration 0, inertia 1.70509860812\n",
      "start iteration\n",
      "done sorting\n",
      "end inner loop\n",
      "Iteration 1, inertia 1.70509860812\n",
      "center shift 0.000000e+00 within tolerance 9.463838e-06\n",
      "Initialization complete\n",
      "start iteration\n",
      "done sorting\n",
      "end inner loop\n",
      "Iteration 0, inertia 1.73340577021\n",
      "start iteration\n",
      "done sorting\n",
      "end inner loop\n",
      "Iteration 1, inertia 1.70509860812\n",
      "start iteration\n",
      "done sorting\n",
      "end inner loop\n",
      "Iteration 2, inertia 1.70509860812\n",
      "center shift 0.000000e+00 within tolerance 9.463838e-06\n",
      "Initialization complete\n",
      "start iteration\n",
      "done sorting\n",
      "end inner loop\n",
      "Iteration 0, inertia 1.74409966203\n",
      "start iteration\n",
      "done sorting\n",
      "end inner loop\n",
      "Iteration 1, inertia 1.7110915911\n",
      "start iteration\n",
      "done sorting\n",
      "end inner loop\n",
      "Iteration 2, inertia 1.70509860812\n",
      "start iteration\n",
      "done sorting\n",
      "end inner loop\n",
      "Iteration 3, inertia 1.70509860812\n",
      "center shift 0.000000e+00 within tolerance 9.463838e-06\n",
      "Initialization complete\n",
      "start iteration\n",
      "done sorting\n",
      "end inner loop\n",
      "Iteration 0, inertia 2.45271250279\n",
      "start iteration\n",
      "done sorting\n",
      "end inner loop\n",
      "Iteration 1, inertia 1.84348111517\n",
      "start iteration\n",
      "done sorting\n",
      "end inner loop\n",
      "Iteration 2, inertia 1.74409966203\n",
      "start iteration\n",
      "done sorting\n",
      "end inner loop\n",
      "Iteration 3, inertia 1.7110915911\n",
      "start iteration\n",
      "done sorting\n",
      "end inner loop\n",
      "Iteration 4, inertia 1.70509860812\n",
      "start iteration\n",
      "done sorting\n",
      "end inner loop\n",
      "Iteration 5, inertia 1.70509860812\n",
      "center shift 0.000000e+00 within tolerance 9.463838e-06\n",
      "Initialization complete\n",
      "start iteration\n",
      "done sorting\n",
      "end inner loop\n",
      "Iteration 0, inertia 2.81061720458\n",
      "start iteration\n",
      "done sorting\n",
      "end inner loop\n",
      "Iteration 1, inertia 1.91821351399\n",
      "start iteration\n",
      "done sorting\n",
      "end inner loop\n",
      "Iteration 2, inertia 1.76638763361\n",
      "start iteration\n",
      "done sorting\n",
      "end inner loop\n",
      "Iteration 3, inertia 1.7110915911\n",
      "start iteration\n",
      "done sorting\n",
      "end inner loop\n",
      "Iteration 4, inertia 1.70509860812\n",
      "start iteration\n",
      "done sorting\n",
      "end inner loop\n",
      "Iteration 5, inertia 1.70509860812\n",
      "center shift 0.000000e+00 within tolerance 9.463838e-06\n"
     ]
    }
   ],
   "source": [
    "n_clusters = 3\n",
    "cluster = KMeans(n_clusters, random_state=0, verbose=1).fit(d_nor[:,2:])\n",
    "#Z = cluster.predict(d_nor[:,2:])\n",
    "#center = cluster.cluster_centers_\n",
    "#print(center)"
   ]
  },
  {
   "cell_type": "code",
   "execution_count": null,
   "metadata": {
    "collapsed": true
   },
   "outputs": [],
   "source": []
  },
  {
   "cell_type": "code",
   "execution_count": 6,
   "metadata": {
    "collapsed": true
   },
   "outputs": [],
   "source": [
    "color = np.array([244, 220, 239])\n",
    "color = np.vstack((color,np.array([222, 248, 252])))\n",
    "color = np.vstack((color,np.array([247, 237, 200])))/255"
   ]
  },
  {
   "cell_type": "code",
   "execution_count": 7,
   "metadata": {
    "collapsed": true
   },
   "outputs": [],
   "source": [
    "label = iris.target #real lable\n",
    "name = ['setosa', 'versicolor', 'virginica']# iris.data.target_names"
   ]
  },
  {
   "cell_type": "code",
   "execution_count": 8,
   "metadata": {},
   "outputs": [
    {
     "data": {
      "image/png": "[encoded data removed]",
      "text/plain": [
       "<matplotlib.figure.Figure at 0x7f75596a42b0>"
      ]
     },
     "metadata": {},
     "output_type": "display_data"
    }
   ],
   "source": [
    "fig = plt.figure(figsize=(8, 8))\n",
    "ax = plt.gca()\n",
    "\n",
    "origin_center = center*df_scalar[2:]+df_min[2:]\n",
    "for i in range(n_clusters):\n",
    "    r = np.sum(Z==i)/len(Z)\n",
    "    ellipse = Ellipse(xy=(origin_center[i,0], origin_center[i,1]), width=6*r, height=3*r, facecolor = color[i],lw=2)\n",
    "    ellipse.set_alpha(0.5)\n",
    "    ax.add_patch(ellipse)\n",
    "\n",
    "\n",
    "c2 = ['r','y','b']\n",
    "for j in range(3):\n",
    "    idx = (label==j)\n",
    "    z = iris.data[idx,2]\n",
    "    y = iris.data[idx,3]\n",
    "    plt.scatter(x = z,y= y, c=c2[j],label=name[j])\n",
    "    \n",
    "plt.xlabel('petal length',fontsize=18)\n",
    "plt.ylabel('petal width',fontsize=18)\n",
    "plt.legend(loc='best')\n",
    "plt.show()"
   ]
  },
  {
   "cell_type": "code",
   "execution_count": null,
   "metadata": {
    "collapsed": true
   },
   "outputs": [],
   "source": [
    "# SSE & silhouette"
   ]
  },
  {
   "cell_type": "code",
   "execution_count": null,
   "metadata": {
    "collapsed": true
   },
   "outputs": [],
   "source": [
    "SSE = []\n",
    "silhouette = []"
   ]
  },
  {
   "cell_type": "code",
   "execution_count": null,
   "metadata": {
    "collapsed": true
   },
   "outputs": [],
   "source": [
    "total_k = 10\n",
    "\n",
    "silhouette.append(-1)\n",
    "for n_clusters in range(1,total_k+1): \n",
    "\n",
    "    cluster = KMeans(n_clusters, random_state=0).fit(d_nor[:,2:])\n",
    "    Z = cluster.predict(d_nor[:,2:])\n",
    "\n",
    "    SSE.append(cluster.inertia_)\n",
    "    if n_cluster != 1:\n",
    "        silhouette.append(silhouette_score(_nor[:,2:], Z))"
   ]
  },
  {
   "cell_type": "code",
   "execution_count": null,
   "metadata": {
    "collapsed": true
   },
   "outputs": [],
   "source": [
    "fig = plt.figure(figsize=(8, 8))\n",
    "ax = plt.gca()\n",
    "\n",
    "z = np.arange(1,total_k+1)\n",
    "y = SSE\n",
    "plt.scatter(x=z, y=y, c='w')\n",
    "plt.plot(x=z, y=y, c='#AAAAAA', lw=3)\n",
    "plt.plot(x=z, y=y, c='#AAAAAA', marker='.', mew='6')\n",
    "\n",
    "plt.xlabel('Cluster Number', fontsize=25)\n",
    "plt.ylabel('SSE', fontsize=25)\n",
    "plt.legend()\n",
    "\n",
    "plt.show()"
   ]
  },
  {
   "cell_type": "code",
   "execution_count": 8,
   "metadata": {},
   "outputs": [
    {
     "data": {
      "text/plain": [
       "array([ 1,  2,  3,  4,  5,  6,  7,  8,  9, 10])"
      ]
     },
     "execution_count": 8,
     "metadata": {},
     "output_type": "execute_result"
    }
   ],
   "source": [
    "fig = plt.figure(figsize=(8, 8))\n",
    "ax = plt.gca()\n",
    "\n",
    "z = np.arange(1,total_k+1)\n",
    "y = silhouette\n",
    "plt.scatter(x=z, y=y, c='w')\n",
    "plt.plot(x=z, y=y, c='#AAAAAA', lw=3)\n",
    "plt.plot(x=z, y=y, c='#AAAAAA', marker='.', mew='6')\n",
    "\n",
    "plt.xlabel('Cluster Number', fontsize=25)\n",
    "plt.ylabel('Silhouette', fontsize=25)\n",
    "plt.legend()\n",
    "\n",
    "plt.show()"
   ]
  }
 ],
 "metadata": {
  "kernelspec": {
   "display_name": "Python 3",
   "language": "python",
   "name": "python3"
  },
  "language_info": {
   "codemirror_mode": {
    "name": "ipython",
    "version": 3
   },
   "file_extension": ".py",
   "mimetype": "text/x-python",
   "name": "python",
   "nbconvert_exporter": "python",
   "pygments_lexer": "ipython3",
   "version": "3.6.5"
  }
 },
 "nbformat": 4,
 "nbformat_minor": 2
}
