{
 "cells": [
  {
   "cell_type": "code",
   "execution_count": 1,
   "metadata": {},
   "outputs": [
    {
     "data": {
      "text/html": [
       "<div>\n",
       "<style>\n",
       "    .dataframe thead tr:only-child th {\n",
       "        text-align: right;\n",
       "    }\n",
       "\n",
       "    .dataframe thead th {\n",
       "        text-align: left;\n",
       "    }\n",
       "\n",
       "    .dataframe tbody tr th {\n",
       "        vertical-align: top;\n",
       "    }\n",
       "</style>\n",
       "<table border=\"1\" class=\"dataframe\">\n",
       "  <thead>\n",
       "    <tr style=\"text-align: right;\">\n",
       "      <th></th>\n",
       "      <th>apple</th>\n",
       "      <th>beer</th>\n",
       "      <th>milk</th>\n",
       "      <th>pear</th>\n",
       "      <th>rice</th>\n",
       "      <th>meat</th>\n",
       "    </tr>\n",
       "  </thead>\n",
       "  <tbody>\n",
       "    <tr>\n",
       "      <th>0</th>\n",
       "      <td>1</td>\n",
       "      <td>1</td>\n",
       "      <td>0</td>\n",
       "      <td>0</td>\n",
       "      <td>1</td>\n",
       "      <td>1</td>\n",
       "    </tr>\n",
       "    <tr>\n",
       "      <th>1</th>\n",
       "      <td>1</td>\n",
       "      <td>1</td>\n",
       "      <td>0</td>\n",
       "      <td>0</td>\n",
       "      <td>1</td>\n",
       "      <td>0</td>\n",
       "    </tr>\n",
       "    <tr>\n",
       "      <th>2</th>\n",
       "      <td>1</td>\n",
       "      <td>1</td>\n",
       "      <td>0</td>\n",
       "      <td>0</td>\n",
       "      <td>0</td>\n",
       "      <td>0</td>\n",
       "    </tr>\n",
       "    <tr>\n",
       "      <th>3</th>\n",
       "      <td>1</td>\n",
       "      <td>0</td>\n",
       "      <td>0</td>\n",
       "      <td>1</td>\n",
       "      <td>0</td>\n",
       "      <td>0</td>\n",
       "    </tr>\n",
       "    <tr>\n",
       "      <th>4</th>\n",
       "      <td>0</td>\n",
       "      <td>1</td>\n",
       "      <td>1</td>\n",
       "      <td>0</td>\n",
       "      <td>1</td>\n",
       "      <td>1</td>\n",
       "    </tr>\n",
       "    <tr>\n",
       "      <th>5</th>\n",
       "      <td>0</td>\n",
       "      <td>1</td>\n",
       "      <td>1</td>\n",
       "      <td>0</td>\n",
       "      <td>1</td>\n",
       "      <td>0</td>\n",
       "    </tr>\n",
       "    <tr>\n",
       "      <th>6</th>\n",
       "      <td>0</td>\n",
       "      <td>1</td>\n",
       "      <td>1</td>\n",
       "      <td>0</td>\n",
       "      <td>0</td>\n",
       "      <td>0</td>\n",
       "    </tr>\n",
       "    <tr>\n",
       "      <th>7</th>\n",
       "      <td>0</td>\n",
       "      <td>0</td>\n",
       "      <td>1</td>\n",
       "      <td>1</td>\n",
       "      <td>0</td>\n",
       "      <td>0</td>\n",
       "    </tr>\n",
       "  </tbody>\n",
       "</table>\n",
       "</div>"
      ],
      "text/plain": [
       "   apple  beer  milk  pear  rice  meat\n",
       "0      1     1     0     0     1     1\n",
       "1      1     1     0     0     1     0\n",
       "2      1     1     0     0     0     0\n",
       "3      1     0     0     1     0     0\n",
       "4      0     1     1     0     1     1\n",
       "5      0     1     1     0     1     0\n",
       "6      0     1     1     0     0     0\n",
       "7      0     0     1     1     0     0"
      ]
     },
     "execution_count": 1,
     "metadata": {},
     "output_type": "execute_result"
    }
   ],
   "source": [
    "import numpy as np\n",
    "import pandas as pd\n",
    "\n",
    "#read the data\n",
    "groc = pd.read_csv('grocExample.csv')\n",
    "groc"
   ]
  },
  {
   "cell_type": "code",
   "execution_count": 2,
   "metadata": {
    "collapsed": true
   },
   "outputs": [],
   "source": [
    "X = groc.values\n",
    "n_features = groc.shape[1] #number of features\n",
    "features = groc.columns #column names"
   ]
  },
  {
   "cell_type": "code",
   "execution_count": 3,
   "metadata": {},
   "outputs": [
    {
     "data": {
      "text/plain": [
       "6"
      ]
     },
     "execution_count": 3,
     "metadata": {},
     "output_type": "execute_result"
    }
   ],
   "source": [
    "n_features"
   ]
  },
  {
   "cell_type": "code",
   "execution_count": 4,
   "metadata": {
    "collapsed": true
   },
   "outputs": [],
   "source": [
    "from collections import defaultdict\n",
    "# Now compute for all possible rules\n",
    "\n",
    "# declair three defaultdic\n",
    "valid_rules = defaultdict(int) # save the sule\n",
    "invalid_rules = defaultdict(int)  \n",
    "num_occurences = defaultdict(int) # save the premise frequency \n",
    "\n",
    "\n",
    "for sample in X:\n",
    "    # X read one raw in one time\n",
    "    \n",
    "    for premise in range(n_features):\n",
    "        if sample[premise] == 0: continue\n",
    "        # Record that the premise was bought in another transaction\n",
    "        \n",
    "        num_occurences[premise] += 1 \n",
    "        \n",
    "        \n",
    "        for conclusion in range(n_features):\n",
    "            if premise == conclusion:  # 自己遇到自己 跳開\n",
    "                continue\n",
    "            if sample[conclusion] == 1: # \n",
    "                # This person also bought the conclusion item\n",
    "                valid_rules[(premise, conclusion)] += 1 #同樣配對，次數加 1\n",
    "            else:\n",
    "                # This person bought the premise, but not the conclusion\n",
    "                invalid_rules[(premise, conclusion)] += 1\n",
    "                \n",
    "                \n",
    "support = valid_rules\n",
    "confidence = defaultdict(float)\n",
    "for premise, conclusion in valid_rules.keys():\n",
    "    confidence[(premise, conclusion)] = valid_rules[(premise, conclusion)] / num_occurences[premise]"
   ]
  },
  {
   "cell_type": "code",
   "execution_count": 5,
   "metadata": {},
   "outputs": [
    {
     "name": "stdout",
     "output_type": "stream",
     "text": [
      "Rule: If a person buys apple they will also buy beer\n",
      " - Confidence: 0.750\n",
      " - Support: 3\n",
      "\n",
      "Rule: If a person buys apple they will also buy rice\n",
      " - Confidence: 0.500\n",
      " - Support: 2\n",
      "\n",
      "Rule: If a person buys apple they will also buy meat\n",
      " - Confidence: 0.250\n",
      " - Support: 1\n",
      "\n",
      "Rule: If a person buys beer they will also buy apple\n",
      " - Confidence: 0.500\n",
      " - Support: 3\n",
      "\n",
      "Rule: If a person buys beer they will also buy rice\n",
      " - Confidence: 0.667\n",
      " - Support: 4\n",
      "\n",
      "Rule: If a person buys beer they will also buy meat\n",
      " - Confidence: 0.333\n",
      " - Support: 2\n",
      "\n",
      "Rule: If a person buys rice they will also buy apple\n",
      " - Confidence: 0.500\n",
      " - Support: 2\n",
      "\n",
      "Rule: If a person buys rice they will also buy beer\n",
      " - Confidence: 1.000\n",
      " - Support: 4\n",
      "\n",
      "Rule: If a person buys rice they will also buy meat\n",
      " - Confidence: 0.500\n",
      " - Support: 2\n",
      "\n",
      "Rule: If a person buys meat they will also buy apple\n",
      " - Confidence: 0.500\n",
      " - Support: 1\n",
      "\n",
      "Rule: If a person buys meat they will also buy beer\n",
      " - Confidence: 1.000\n",
      " - Support: 2\n",
      "\n",
      "Rule: If a person buys meat they will also buy rice\n",
      " - Confidence: 1.000\n",
      " - Support: 2\n",
      "\n",
      "Rule: If a person buys apple they will also buy pear\n",
      " - Confidence: 0.250\n",
      " - Support: 1\n",
      "\n",
      "Rule: If a person buys pear they will also buy apple\n",
      " - Confidence: 0.500\n",
      " - Support: 1\n",
      "\n",
      "Rule: If a person buys beer they will also buy milk\n",
      " - Confidence: 0.500\n",
      " - Support: 3\n",
      "\n",
      "Rule: If a person buys milk they will also buy beer\n",
      " - Confidence: 0.750\n",
      " - Support: 3\n",
      "\n",
      "Rule: If a person buys milk they will also buy rice\n",
      " - Confidence: 0.500\n",
      " - Support: 2\n",
      "\n",
      "Rule: If a person buys milk they will also buy meat\n",
      " - Confidence: 0.250\n",
      " - Support: 1\n",
      "\n",
      "Rule: If a person buys rice they will also buy milk\n",
      " - Confidence: 0.500\n",
      " - Support: 2\n",
      "\n",
      "Rule: If a person buys meat they will also buy milk\n",
      " - Confidence: 0.500\n",
      " - Support: 1\n",
      "\n",
      "Rule: If a person buys milk they will also buy pear\n",
      " - Confidence: 0.250\n",
      " - Support: 1\n",
      "\n",
      "Rule: If a person buys pear they will also buy milk\n",
      " - Confidence: 0.500\n",
      " - Support: 1\n",
      "\n"
     ]
    }
   ],
   "source": [
    "for premise, conclusion in confidence:\n",
    "    premise_name = features[premise]\n",
    "    conclusion_name = features[conclusion]\n",
    "    print(\"Rule: If a person buys {0} they will also buy {1}\".format(premise_name, conclusion_name))\n",
    "    print(\" - Confidence: {0:.3f}\".format(confidence[(premise, conclusion)]))\n",
    "    print(\" - Support: {0}\".format(support[(premise, conclusion)]))\n",
    "    print(\"\")"
   ]
  },
  {
   "cell_type": "code",
   "execution_count": 6,
   "metadata": {
    "collapsed": true
   },
   "outputs": [],
   "source": [
    "def print_rule(premise, conclusion, support, confidence, features):\n",
    "    premise_name = features[premise]\n",
    "    conclusion_name = features[conclusion]\n",
    "    print(\"Rule: If a person buys {0} they will also buy {1}\".format(premise_name, conclusion_name))\n",
    "    print(\" - Confidence: {0:.3f}\".format(confidence[(premise, conclusion)]))\n",
    "    print(\" - Support: {0}\".format(support[(premise, conclusion)]))\n",
    "    print(\"\")"
   ]
  },
  {
   "cell_type": "code",
   "execution_count": 7,
   "metadata": {},
   "outputs": [
    {
     "name": "stdout",
     "output_type": "stream",
     "text": [
      "Rule: If a person buys apple they will also buy beer\n",
      " - Confidence: 0.750\n",
      " - Support: 3\n",
      "\n"
     ]
    }
   ],
   "source": [
    "premise = 0\n",
    "conclusion = 1\n",
    "print_rule(premise, conclusion, support, confidence, features)"
   ]
  },
  {
   "cell_type": "code",
   "execution_count": 8,
   "metadata": {
    "collapsed": true
   },
   "outputs": [],
   "source": [
    "from operator import itemgetter\n",
    "sorted_support = sorted(support.items(), key=itemgetter(0), reverse=True)"
   ]
  },
  {
   "cell_type": "code",
   "execution_count": 18,
   "metadata": {},
   "outputs": [
    {
     "data": {
      "text/plain": [
       "[3, 2, 1]"
      ]
     },
     "execution_count": 18,
     "metadata": {},
     "output_type": "execute_result"
    }
   ],
   "source": [
    "get = itemgetter(1)\n",
    "t = [((0, 1), 3), ((0, 4), 2), ((0, 5), 1)]\n",
    "list(map(get, t))\n"
   ]
  },
  {
   "cell_type": "code",
   "execution_count": 20,
   "metadata": {},
   "outputs": [
    {
     "data": {
      "text/plain": [
       "'B'"
      ]
     },
     "execution_count": 20,
     "metadata": {},
     "output_type": "execute_result"
    }
   ],
   "source": [
    "get('ABCDEFG')"
   ]
  },
  {
   "cell_type": "code",
   "execution_count": 19,
   "metadata": {},
   "outputs": [
    {
     "ename": "TypeError",
     "evalue": "'int' object is not callable",
     "output_type": "error",
     "traceback": [
      "\u001b[1;31m---------------------------------------------------------------------------\u001b[0m",
      "\u001b[1;31mTypeError\u001b[0m                                 Traceback (most recent call last)",
      "\u001b[1;32m<ipython-input-19-cde947d95c88>\u001b[0m in \u001b[0;36m<module>\u001b[1;34m()\u001b[0m\n\u001b[1;32m----> 1\u001b[1;33m \u001b[0msorted\u001b[0m\u001b[1;33m(\u001b[0m\u001b[1;33m[\u001b[0m\u001b[1;33m(\u001b[0m\u001b[1;36m5\u001b[0m\u001b[1;33m,\u001b[0m\u001b[1;36m1\u001b[0m\u001b[1;33m)\u001b[0m\u001b[1;33m,\u001b[0m \u001b[1;33m(\u001b[0m\u001b[1;36m4\u001b[0m\u001b[1;33m,\u001b[0m\u001b[1;36m2\u001b[0m\u001b[1;33m)\u001b[0m\u001b[1;33m,\u001b[0m \u001b[1;33m(\u001b[0m\u001b[1;36m3\u001b[0m\u001b[1;33m,\u001b[0m\u001b[1;36m3\u001b[0m\u001b[1;33m)\u001b[0m\u001b[1;33m,\u001b[0m \u001b[1;33m(\u001b[0m\u001b[1;36m2\u001b[0m\u001b[1;33m,\u001b[0m\u001b[1;36m4\u001b[0m\u001b[1;33m)\u001b[0m\u001b[1;33m,\u001b[0m \u001b[1;33m(\u001b[0m\u001b[1;36m1\u001b[0m\u001b[1;33m,\u001b[0m\u001b[1;36m5\u001b[0m\u001b[1;33m)\u001b[0m\u001b[1;33m]\u001b[0m\u001b[1;33m,\u001b[0m \u001b[0mkey\u001b[0m\u001b[1;33m=\u001b[0m\u001b[1;36m0\u001b[0m\u001b[1;33m,\u001b[0m \u001b[0mreverse\u001b[0m\u001b[1;33m=\u001b[0m\u001b[1;32mTrue\u001b[0m\u001b[1;33m)\u001b[0m\u001b[1;33m\u001b[0m\u001b[0m\n\u001b[0m",
      "\u001b[1;31mTypeError\u001b[0m: 'int' object is not callable"
     ]
    }
   ],
   "source": [
    "sorted([(5,1), (4,2), (3,3), (2,4), (1,5)], key=0, reverse=True)"
   ]
  },
  {
   "cell_type": "code",
   "execution_count": 16,
   "metadata": {},
   "outputs": [
    {
     "name": "stdout",
     "output_type": "stream",
     "text": [
      "Rule #1\n",
      "Rule: If a person buys meat they will also buy rice\n",
      " - Confidence: 1.000\n",
      " - Support: 2\n",
      "\n",
      "Rule #2\n",
      "Rule: If a person buys meat they will also buy milk\n",
      " - Confidence: 0.500\n",
      " - Support: 1\n",
      "\n",
      "Rule #3\n",
      "Rule: If a person buys meat they will also buy beer\n",
      " - Confidence: 1.000\n",
      " - Support: 2\n",
      "\n",
      "Rule #4\n",
      "Rule: If a person buys meat they will also buy apple\n",
      " - Confidence: 0.500\n",
      " - Support: 1\n",
      "\n",
      "Rule #5\n",
      "Rule: If a person buys rice they will also buy meat\n",
      " - Confidence: 0.500\n",
      " - Support: 2\n",
      "\n"
     ]
    }
   ],
   "source": [
    "for index in range(5):\n",
    "    print(\"Rule #{0}\".format(index + 1))\n",
    "    (premise, conclusion) = sorted_support[index][0]\n",
    "    print_rule(premise, conclusion, support, confidence, features)"
   ]
  },
  {
   "cell_type": "code",
   "execution_count": 17,
   "metadata": {
    "collapsed": true
   },
   "outputs": [],
   "source": [
    "sorted_confidence = sorted(confidence.items(), key=itemgetter(1), reverse=True)\n",
    "# confidence.items() = ((0, 1), 0.75), itemgetter(1) mean 0.75"
   ]
  },
  {
   "cell_type": "code",
   "execution_count": null,
   "metadata": {
    "collapsed": true
   },
   "outputs": [],
   "source": []
  },
  {
   "cell_type": "code",
   "execution_count": 19,
   "metadata": {},
   "outputs": [
    {
     "name": "stdout",
     "output_type": "stream",
     "text": [
      "Rule #1\n",
      "Rule: If a person buys rice they will also buy beer\n",
      " - Confidence: 1.000\n",
      " - Support: 4\n",
      "\n",
      "Rule #2\n",
      "Rule: If a person buys meat they will also buy beer\n",
      " - Confidence: 1.000\n",
      " - Support: 2\n",
      "\n",
      "Rule #3\n",
      "Rule: If a person buys meat they will also buy rice\n",
      " - Confidence: 1.000\n",
      " - Support: 2\n",
      "\n",
      "Rule #4\n",
      "Rule: If a person buys apple they will also buy beer\n",
      " - Confidence: 0.750\n",
      " - Support: 3\n",
      "\n",
      "Rule #5\n",
      "Rule: If a person buys milk they will also buy beer\n",
      " - Confidence: 0.750\n",
      " - Support: 3\n",
      "\n"
     ]
    }
   ],
   "source": [
    "for index in range(5):\n",
    "    print(\"Rule #{0}\".format(index + 1))\n",
    "    (premise, conclusion) = sorted_confidence[index][0]\n",
    "    print_rule(premise, conclusion, support, confidence, features)"
   ]
  },
  {
   "cell_type": "code",
   "execution_count": null,
   "metadata": {
    "collapsed": true
   },
   "outputs": [],
   "source": []
  },
  {
   "cell_type": "code",
   "execution_count": 3,
   "metadata": {},
   "outputs": [
    {
     "data": {
      "text/plain": [
       "0    1\n",
       "1    1\n",
       "2    1\n",
       "3    1\n",
       "4    0\n",
       "5    0\n",
       "6    0\n",
       "7    0\n",
       "Name: apple, dtype: int64"
      ]
     },
     "execution_count": 3,
     "metadata": {},
     "output_type": "execute_result"
    }
   ],
   "source": [
    "groc['apple']"
   ]
  },
  {
   "cell_type": "code",
   "execution_count": null,
   "metadata": {
    "collapsed": true
   },
   "outputs": [],
   "source": []
  }
 ],
 "metadata": {
  "kernelspec": {
   "display_name": "Python 3",
   "language": "python",
   "name": "python3"
  },
  "language_info": {
   "codemirror_mode": {
    "name": "ipython",
    "version": 3
   },
   "file_extension": ".py",
   "mimetype": "text/x-python",
   "name": "python",
   "nbconvert_exporter": "python",
   "pygments_lexer": "ipython3",
   "version": "3.6.2"
  }
 },
 "nbformat": 4,
 "nbformat_minor": 1
}
